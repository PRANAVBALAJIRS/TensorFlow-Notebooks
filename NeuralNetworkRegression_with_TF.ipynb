{
  "nbformat": 4,
  "nbformat_minor": 0,
  "metadata": {
    "colab": {
      "provenance": [],
      "gpuType": "T4"
    },
    "kernelspec": {
      "name": "python3",
      "display_name": "Python 3"
    },
    "language_info": {
      "name": "python"
    },
    "accelerator": "GPU"
  },
  "cells": [
    {
      "cell_type": "markdown",
      "source": [
        "#NEURAL NETWORK REGRESSION WITH TENSORFLOW"
      ],
      "metadata": {
        "id": "kAfBXuH--foc"
      }
    },
    {
      "cell_type": "markdown",
      "source": [
        "###Introduction to regression with Neural networks in TensorFlow\n",
        "\n"
      ],
      "metadata": {
        "id": "DwlcAFUq_KdN"
      }
    },
    {
      "cell_type": "code",
      "source": [
        "#Import TensorFlow\n",
        "import tensorflow as tf\n",
        "print(tf.__version__)"
      ],
      "metadata": {
        "colab": {
          "base_uri": "https://localhost:8080/"
        },
        "id": "B4ewL-2v_Qqy",
        "outputId": "935b3d1e-d068-4bf7-90fa-cd3ca22bd44e"
      },
      "execution_count": null,
      "outputs": [
        {
          "output_type": "stream",
          "name": "stdout",
          "text": [
            "2.12.0\n"
          ]
        }
      ]
    },
    {
      "cell_type": "markdown",
      "source": [
        "###Creating a Tensor for view and fit"
      ],
      "metadata": {
        "id": "Lsmwd0yG_hZh"
      }
    },
    {
      "cell_type": "code",
      "source": [
        "import numpy as np\n",
        "import matplotlib.pyplot as plt\n",
        "\n",
        "#create features\n",
        "X = np.array([-7.0,-4.0,-1.0,2.0,5.0,8.0,11.0,14.0])\n",
        "\n",
        "#create labels\n",
        "y = np.array([3.0,6.0,9.0,12.0,15.0,18.0,21.0,24.0])\n",
        "\n",
        "#visualize it\n",
        "\n",
        "plt.scatter(X,y)"
      ],
      "metadata": {
        "colab": {
          "base_uri": "https://localhost:8080/",
          "height": 452
        },
        "id": "GxMVyW3L_eVn",
        "outputId": "835e93c9-f57c-4558-e9d7-15ca79893ce4"
      },
      "execution_count": null,
      "outputs": [
        {
          "output_type": "execute_result",
          "data": {
            "text/plain": [
              "<matplotlib.collections.PathCollection at 0x7f9cb15b1390>"
            ]
          },
          "metadata": {},
          "execution_count": 2
        },
        {
          "output_type": "display_data",
          "data": {
            "text/plain": [
              "<Figure size 640x480 with 1 Axes>"
            ],
            "image/png": "[encoded data removed]"
          },
          "metadata": {}
        }
      ]
    },
    {
      "cell_type": "code",
      "source": [
        "y == X+10"
      ],
      "metadata": {
        "colab": {
          "base_uri": "https://localhost:8080/"
        },
        "id": "1pPJtSMpATZB",
        "outputId": "ca91b5f8-2550-4b0c-d407-4029464bc217"
      },
      "execution_count": null,
      "outputs": [
        {
          "output_type": "execute_result",
          "data": {
            "text/plain": [
              "array([ True,  True,  True,  True,  True,  True,  True,  True])"
            ]
          },
          "metadata": {},
          "execution_count": 3
        }
      ]
    },
    {
      "cell_type": "markdown",
      "source": [
        "Input and output shapes"
      ],
      "metadata": {
        "id": "6fkz0lu7BXgL"
      }
    },
    {
      "cell_type": "code",
      "source": [
        "#create a demo tensor for the housing price prediction problem\n",
        "house_info = tf.constant([\"bedroom\",\"bathroom\",\"garage\"])\n",
        "house_price = tf.constant([939700])\n",
        "house_info, house_price\n"
      ],
      "metadata": {
        "colab": {
          "base_uri": "https://localhost:8080/"
        },
        "id": "pBwLfx0FAoR3",
        "outputId": "31b49b76-e6e7-4386-ae08-c078852c1591"
      },
      "execution_count": null,
      "outputs": [
        {
          "output_type": "execute_result",
          "data": {
            "text/plain": [
              "(<tf.Tensor: shape=(3,), dtype=string, numpy=array([b'bedroom', b'bathroom', b'garage'], dtype=object)>,\n",
              " <tf.Tensor: shape=(1,), dtype=int32, numpy=array([939700], dtype=int32)>)"
            ]
          },
          "metadata": {},
          "execution_count": 4
        }
      ]
    },
    {
      "cell_type": "code",
      "source": [
        "input_shape=X.shape\n",
        "output_shape=y.shape\n",
        "input_shape, output_shape"
      ],
      "metadata": {
        "colab": {
          "base_uri": "https://localhost:8080/"
        },
        "id": "3JD3pLESBA5U",
        "outputId": "885bc703-ad28-4d3b-85a7-6f88e23fc1db"
      },
      "execution_count": null,
      "outputs": [
        {
          "output_type": "execute_result",
          "data": {
            "text/plain": [
              "((8,), (8,))"
            ]
          },
          "metadata": {},
          "execution_count": 5
        }
      ]
    },
    {
      "cell_type": "code",
      "source": [
        "X[0],y[0]"
      ],
      "metadata": {
        "colab": {
          "base_uri": "https://localhost:8080/"
        },
        "id": "76541AyLCZCB",
        "outputId": "c7ec979c-82dd-4899-b4b9-4f556996ed24"
      },
      "execution_count": null,
      "outputs": [
        {
          "output_type": "execute_result",
          "data": {
            "text/plain": [
              "(-7.0, 3.0)"
            ]
          },
          "metadata": {},
          "execution_count": 6
        }
      ]
    },
    {
      "cell_type": "code",
      "source": [
        "X[1],y[1]"
      ],
      "metadata": {
        "colab": {
          "base_uri": "https://localhost:8080/"
        },
        "id": "nAyPfozFCsIi",
        "outputId": "44ce5739-7362-4dd4-c098-2828c167ce5c"
      },
      "execution_count": null,
      "outputs": [
        {
          "output_type": "execute_result",
          "data": {
            "text/plain": [
              "(-4.0, 6.0)"
            ]
          },
          "metadata": {},
          "execution_count": 7
        }
      ]
    },
    {
      "cell_type": "markdown",
      "source": [
        "NOTE:\n",
        "\n",
        " OLD\n",
        "\n",
        " Fit the model\n",
        "\n",
        "\n",
        "model.fit(X, y, epochs=5) # this will break with TensorFlow 2.7.0+\n",
        "\n",
        " New\n",
        "\n",
        " Fit the model\n",
        "\n",
        "\n",
        "model.fit(tf.expand_dims(X, axis=-1), y, epochs=5) # <- updated line"
      ],
      "metadata": {
        "id": "MlUQCnGRDzc1"
      }
    },
    {
      "cell_type": "code",
      "source": [
        "#Turnout numpy array into tensors\n",
        "\n",
        "X=tf.constant(X)\n",
        "y=tf.constant(y)\n",
        "X,y"
      ],
      "metadata": {
        "colab": {
          "base_uri": "https://localhost:8080/"
        },
        "id": "Vk9eG9YfCuZT",
        "outputId": "bfb99ba2-a7d9-45b9-8b0e-206266b6419f"
      },
      "execution_count": null,
      "outputs": [
        {
          "output_type": "execute_result",
          "data": {
            "text/plain": [
              "(<tf.Tensor: shape=(8,), dtype=float64, numpy=array([-7., -4., -1.,  2.,  5.,  8., 11., 14.])>,\n",
              " <tf.Tensor: shape=(8,), dtype=float64, numpy=array([ 3.,  6.,  9., 12., 15., 18., 21., 24.])>)"
            ]
          },
          "metadata": {},
          "execution_count": 8
        }
      ]
    },
    {
      "cell_type": "code",
      "source": [
        "input_shape=X[0].shape\n",
        "output_shape=y[0].shape\n",
        "input_shape,output_shape"
      ],
      "metadata": {
        "colab": {
          "base_uri": "https://localhost:8080/"
        },
        "id": "wTNESTRfEbg3",
        "outputId": "538f7a22-86df-40c9-ac6f-5910e11b401b"
      },
      "execution_count": null,
      "outputs": [
        {
          "output_type": "execute_result",
          "data": {
            "text/plain": [
              "(TensorShape([]), TensorShape([]))"
            ]
          },
          "metadata": {},
          "execution_count": 9
        }
      ]
    },
    {
      "cell_type": "code",
      "source": [
        "plt.scatter(X,y)"
      ],
      "metadata": {
        "colab": {
          "base_uri": "https://localhost:8080/",
          "height": 452
        },
        "id": "qFG3kYB8Evbj",
        "outputId": "45d87f67-2c81-4058-90c1-6686cbb25a1a"
      },
      "execution_count": null,
      "outputs": [
        {
          "output_type": "execute_result",
          "data": {
            "text/plain": [
              "<matplotlib.collections.PathCollection at 0x7f9caf507550>"
            ]
          },
          "metadata": {},
          "execution_count": 10
        },
        {
          "output_type": "display_data",
          "data": {
            "text/plain": [
              "<Figure size 640x480 with 1 Axes>"
            ],
            "image/png": "[encoded data removed]"
          },
          "metadata": {}
        }
      ]
    },
    {
      "cell_type": "markdown",
      "source": [
        "###Steps in modelling with tensorflow\n",
        "\n",
        "1.**Creating a model** - define the input and output layer as well as the hidden layers of a deep learning model\n",
        "\n",
        "2.**Compiling the model** - define the loss function and the optimizer and evaluation metrics\n",
        "\n",
        "- loss\n",
        "- optimizer\n",
        "- metrics\n",
        "\n",
        "3.**Fitting the mode**l - letting the model try to find patterns between X and Y\n",
        "\n",
        "- epochs - how many times the model will go through all of the training examples"
      ],
      "metadata": {
        "id": "I_zslP_sE5md"
      }
    },
    {
      "cell_type": "markdown",
      "source": [
        "NOTE:\n",
        "\n",
        "A Dense layer, also known as a fully connected layer, is a type of layer commonly used in neural networks. It is one of the basic building blocks of deep learning models.\n",
        "\n",
        "In a Dense layer, each neuron is connected to every neuron in the previous layer. It means that all the input values from the previous layer are fed into each neuron of the Dense layer. The output of a Dense layer is computed by applying a linear operation (dot product) followed by an activation function to introduce non-linearity.\n",
        "\n",
        "The term \"dense\" refers to the fact that every neuron in the layer is densely connected to all the neurons in the previous layer. The number of neurons in a Dense layer determines the dimensionality of the layer's output"
      ],
      "metadata": {
        "id": "megcMyKvMBFO"
      }
    },
    {
      "cell_type": "code",
      "source": [
        "#optinally, the first layer can receive an 'input_shape' argument:\n",
        "model=tf.keras.Sequential()\n",
        "model.add(tf.keras.layers.Dense(8,input_shape=(16,)))\n",
        "#Afterwards, we do automatic shape inference:\n",
        "model.add(tf.keras.layers.Dense(4))\n",
        "\n",
        "\n",
        "model=tf.keras.Sequential()\n",
        "model.add(tf.keras.layers.Dense(8,input_shape=(16,)))\n",
        "...\n",
        "\n",
        "model=tf.keras.Sequential()\n",
        "model.add(tf.keras.layers.Dense(1))"
      ],
      "metadata": {
        "id": "2L3W7riAIRBH"
      },
      "execution_count": null,
      "outputs": []
    },
    {
      "cell_type": "code",
      "source": [
        "#set random seed\n",
        "tf.random.set_seed(42)\n",
        "\n",
        "#1.create model using the sequential api\n",
        "\n",
        "model = tf.keras.Sequential([\n",
        "    tf.keras.layers.Dense(1)\n",
        "])\n",
        "\n",
        "#2.Compile the model\n",
        "model.compile(loss=tf.keras.losses.mae,#mae is the short form of mean absolute error\n",
        "              optimizer=tf.keras.optimizers.SGD(), #sgd is short form of stochasitc gradient\n",
        "              metrics=[\"mae\"])\n",
        "\n",
        "#3,Fit the model\n",
        "model.fit(tf.expand_dims(X, axis=-1), y,epochs=5)"
      ],
      "metadata": {
        "colab": {
          "base_uri": "https://localhost:8080/"
        },
        "id": "k8gtq0ovExaa",
        "outputId": "79bb912a-e1ff-4c2a-96dc-f012a36b0eb3"
      },
      "execution_count": null,
      "outputs": [
        {
          "output_type": "stream",
          "name": "stdout",
          "text": [
            "Epoch 1/5\n",
            "1/1 [==============================] - 0s 374ms/step - loss: 14.2746 - mae: 14.2746\n",
            "Epoch 2/5\n",
            "1/1 [==============================] - 0s 7ms/step - loss: 14.1421 - mae: 14.1421\n",
            "Epoch 3/5\n",
            "1/1 [==============================] - 0s 6ms/step - loss: 14.0096 - mae: 14.0096\n",
            "Epoch 4/5\n",
            "1/1 [==============================] - 0s 6ms/step - loss: 13.8771 - mae: 13.8771\n",
            "Epoch 5/5\n",
            "1/1 [==============================] - 0s 6ms/step - loss: 13.7446 - mae: 13.7446\n"
          ]
        },
        {
          "output_type": "execute_result",
          "data": {
            "text/plain": [
              "<keras.callbacks.History at 0x7f9cacab3730>"
            ]
          },
          "metadata": {},
          "execution_count": 12
        }
      ]
    },
    {
      "cell_type": "code",
      "source": [
        "#checkout x and y\n",
        "X,y"
      ],
      "metadata": {
        "colab": {
          "base_uri": "https://localhost:8080/"
        },
        "id": "1870BqrSOUu1",
        "outputId": "a512bf6e-e659-40a9-8269-709a3bb0dd94"
      },
      "execution_count": null,
      "outputs": [
        {
          "output_type": "execute_result",
          "data": {
            "text/plain": [
              "(<tf.Tensor: shape=(8,), dtype=float64, numpy=array([-7., -4., -1.,  2.,  5.,  8., 11., 14.])>,\n",
              " <tf.Tensor: shape=(8,), dtype=float64, numpy=array([ 3.,  6.,  9., 12., 15., 18., 21., 24.])>)"
            ]
          },
          "metadata": {},
          "execution_count": 13
        }
      ]
    },
    {
      "cell_type": "code",
      "source": [
        "#Try and make a prediction using our model\n",
        "y_pred = model.predict(tf.expand_dims([17.0],axis=-1))\n",
        "y_pred"
      ],
      "metadata": {
        "colab": {
          "base_uri": "https://localhost:8080/"
        },
        "id": "WbqiyIFURoAc",
        "outputId": "a072633a-acbe-4456-a7ab-556ede02f660"
      },
      "execution_count": null,
      "outputs": [
        {
          "output_type": "stream",
          "name": "stdout",
          "text": [
            "1/1 [==============================] - 0s 51ms/step\n"
          ]
        },
        {
          "output_type": "execute_result",
          "data": {
            "text/plain": [
              "array([[-0.7373435]], dtype=float32)"
            ]
          },
          "metadata": {},
          "execution_count": 14
        }
      ]
    },
    {
      "cell_type": "code",
      "source": [
        "y_pred +11"
      ],
      "metadata": {
        "colab": {
          "base_uri": "https://localhost:8080/"
        },
        "id": "2MVY_ih8RxKN",
        "outputId": "7c5e0a93-3895-48e1-a213-4f47f6a27ab4"
      },
      "execution_count": null,
      "outputs": [
        {
          "output_type": "execute_result",
          "data": {
            "text/plain": [
              "array([[10.262656]], dtype=float32)"
            ]
          },
          "metadata": {},
          "execution_count": 15
        }
      ]
    },
    {
      "cell_type": "markdown",
      "source": [
        "Improving the model\n",
        "\n",
        "- we can improve a model, by altering the steps we took to create a model\n",
        "\n",
        "1. **Creating a model** - here we might add more layers, increase the nimber of hidden units(all called neurons) within each of the hidden layers, change the activation function of each layer\n",
        "\n",
        "2. **Compiling a model** - here we might change the optimization function or perhaps the learning rate of the optimiztion function\n",
        "\n",
        "3. **Fitting a model** - here we might fit a model for more epochs(leave it training for longer) or on more data(give the model more examples to learn from)"
      ],
      "metadata": {
        "id": "oGtr5hX9WUiv"
      }
    },
    {
      "cell_type": "code",
      "source": [
        "#rebuild the model\n",
        "\n",
        "#1. create the model\n",
        "model = tf.keras.Sequential([\n",
        "    tf.keras.layers.Dense(1)\n",
        "])\n",
        "\n",
        "#2. compile  the model\n",
        "\n",
        "model.compile(loss=tf.keras.losses.mae,\n",
        "              optimizer=tf.keras.optimizers.SGD(),\n",
        "              metrics=[\"mae\"])\n",
        "\n",
        "#fit the model(this time we will train for longer)\n",
        "model.fit(tf.expand_dims(X,axis=-1),y,epochs=100)"
      ],
      "metadata": {
        "colab": {
          "base_uri": "https://localhost:8080/"
        },
        "id": "hnXdxgmITimQ",
        "outputId": "72b13b0e-be12-4713-c374-974196380533"
      },
      "execution_count": null,
      "outputs": [
        {
          "output_type": "stream",
          "name": "stdout",
          "text": [
            "Epoch 1/100\n",
            "1/1 [==============================] - 0s 230ms/step - loss: 21.2107 - mae: 21.2107\n",
            "Epoch 2/100\n",
            "1/1 [==============================] - 0s 7ms/step - loss: 20.8176 - mae: 20.8176\n",
            "Epoch 3/100\n",
            "1/1 [==============================] - 0s 9ms/step - loss: 20.4532 - mae: 20.4532\n",
            "Epoch 4/100\n",
            "1/1 [==============================] - 0s 9ms/step - loss: 20.1720 - mae: 20.1720\n",
            "Epoch 5/100\n",
            "1/1 [==============================] - 0s 8ms/step - loss: 19.8907 - mae: 19.8907\n",
            "Epoch 6/100\n",
            "1/1 [==============================] - 0s 5ms/step - loss: 19.6095 - mae: 19.6095\n",
            "Epoch 7/100\n",
            "1/1 [==============================] - 0s 9ms/step - loss: 19.3282 - mae: 19.3282\n",
            "Epoch 8/100\n",
            "1/1 [==============================] - 0s 7ms/step - loss: 19.0470 - mae: 19.0470\n",
            "Epoch 9/100\n",
            "1/1 [==============================] - 0s 7ms/step - loss: 18.7657 - mae: 18.7657\n",
            "Epoch 10/100\n",
            "1/1 [==============================] - 0s 7ms/step - loss: 18.4845 - mae: 18.4845\n",
            "Epoch 11/100\n",
            "1/1 [==============================] - 0s 7ms/step - loss: 18.2032 - mae: 18.2032\n",
            "Epoch 12/100\n",
            "1/1 [==============================] - 0s 8ms/step - loss: 17.9220 - mae: 17.9220\n",
            "Epoch 13/100\n",
            "1/1 [==============================] - 0s 9ms/step - loss: 17.6407 - mae: 17.6407\n",
            "Epoch 14/100\n",
            "1/1 [==============================] - 0s 10ms/step - loss: 17.3595 - mae: 17.3595\n",
            "Epoch 15/100\n",
            "1/1 [==============================] - 0s 6ms/step - loss: 17.0782 - mae: 17.0782\n",
            "Epoch 16/100\n",
            "1/1 [==============================] - 0s 8ms/step - loss: 16.7970 - mae: 16.7970\n",
            "Epoch 17/100\n",
            "1/1 [==============================] - 0s 7ms/step - loss: 16.5157 - mae: 16.5157\n",
            "Epoch 18/100\n",
            "1/1 [==============================] - 0s 7ms/step - loss: 16.2345 - mae: 16.2345\n",
            "Epoch 19/100\n",
            "1/1 [==============================] - 0s 8ms/step - loss: 15.9532 - mae: 15.9532\n",
            "Epoch 20/100\n",
            "1/1 [==============================] - 0s 7ms/step - loss: 15.6720 - mae: 15.6720\n",
            "Epoch 21/100\n",
            "1/1 [==============================] - 0s 7ms/step - loss: 15.3907 - mae: 15.3907\n",
            "Epoch 22/100\n",
            "1/1 [==============================] - 0s 7ms/step - loss: 15.1095 - mae: 15.1095\n",
            "Epoch 23/100\n",
            "1/1 [==============================] - 0s 7ms/step - loss: 14.8282 - mae: 14.8282\n",
            "Epoch 24/100\n",
            "1/1 [==============================] - 0s 7ms/step - loss: 14.6142 - mae: 14.6142\n",
            "Epoch 25/100\n",
            "1/1 [==============================] - 0s 7ms/step - loss: 14.4817 - mae: 14.4817\n",
            "Epoch 26/100\n",
            "1/1 [==============================] - 0s 7ms/step - loss: 14.3492 - mae: 14.3492\n",
            "Epoch 27/100\n",
            "1/1 [==============================] - 0s 7ms/step - loss: 14.2167 - mae: 14.2167\n",
            "Epoch 28/100\n",
            "1/1 [==============================] - 0s 7ms/step - loss: 14.0842 - mae: 14.0842\n",
            "Epoch 29/100\n",
            "1/1 [==============================] - 0s 7ms/step - loss: 13.9517 - mae: 13.9517\n",
            "Epoch 30/100\n",
            "1/1 [==============================] - 0s 7ms/step - loss: 13.8192 - mae: 13.8192\n",
            "Epoch 31/100\n",
            "1/1 [==============================] - 0s 7ms/step - loss: 13.6867 - mae: 13.6867\n",
            "Epoch 32/100\n",
            "1/1 [==============================] - 0s 8ms/step - loss: 13.5542 - mae: 13.5542\n",
            "Epoch 33/100\n",
            "1/1 [==============================] - 0s 7ms/step - loss: 13.4217 - mae: 13.4217\n",
            "Epoch 34/100\n",
            "1/1 [==============================] - 0s 7ms/step - loss: 13.2892 - mae: 13.2892\n",
            "Epoch 35/100\n",
            "1/1 [==============================] - 0s 7ms/step - loss: 13.1567 - mae: 13.1567\n",
            "Epoch 36/100\n",
            "1/1 [==============================] - 0s 7ms/step - loss: 13.0242 - mae: 13.0242\n",
            "Epoch 37/100\n",
            "1/1 [==============================] - 0s 8ms/step - loss: 12.8917 - mae: 12.8917\n",
            "Epoch 38/100\n",
            "1/1 [==============================] - 0s 7ms/step - loss: 12.7592 - mae: 12.7592\n",
            "Epoch 39/100\n",
            "1/1 [==============================] - 0s 7ms/step - loss: 12.6267 - mae: 12.6267\n",
            "Epoch 40/100\n",
            "1/1 [==============================] - 0s 6ms/step - loss: 12.4942 - mae: 12.4942\n",
            "Epoch 41/100\n",
            "1/1 [==============================] - 0s 7ms/step - loss: 12.3617 - mae: 12.3617\n",
            "Epoch 42/100\n",
            "1/1 [==============================] - 0s 7ms/step - loss: 12.2292 - mae: 12.2292\n",
            "Epoch 43/100\n",
            "1/1 [==============================] - 0s 9ms/step - loss: 12.0967 - mae: 12.0967\n",
            "Epoch 44/100\n",
            "1/1 [==============================] - 0s 8ms/step - loss: 11.9642 - mae: 11.9642\n",
            "Epoch 45/100\n",
            "1/1 [==============================] - 0s 7ms/step - loss: 11.8317 - mae: 11.8317\n",
            "Epoch 46/100\n",
            "1/1 [==============================] - 0s 7ms/step - loss: 11.6992 - mae: 11.6992\n",
            "Epoch 47/100\n",
            "1/1 [==============================] - 0s 7ms/step - loss: 11.5667 - mae: 11.5667\n",
            "Epoch 48/100\n",
            "1/1 [==============================] - 0s 6ms/step - loss: 11.4342 - mae: 11.4342\n",
            "Epoch 49/100\n",
            "1/1 [==============================] - 0s 7ms/step - loss: 11.3017 - mae: 11.3017\n",
            "Epoch 50/100\n",
            "1/1 [==============================] - 0s 7ms/step - loss: 11.1692 - mae: 11.1692\n",
            "Epoch 51/100\n",
            "1/1 [==============================] - 0s 7ms/step - loss: 11.0367 - mae: 11.0367\n",
            "Epoch 52/100\n",
            "1/1 [==============================] - 0s 7ms/step - loss: 10.9042 - mae: 10.9042\n",
            "Epoch 53/100\n",
            "1/1 [==============================] - 0s 7ms/step - loss: 10.7717 - mae: 10.7717\n",
            "Epoch 54/100\n",
            "1/1 [==============================] - 0s 7ms/step - loss: 10.6392 - mae: 10.6392\n",
            "Epoch 55/100\n",
            "1/1 [==============================] - 0s 7ms/step - loss: 10.5067 - mae: 10.5067\n",
            "Epoch 56/100\n",
            "1/1 [==============================] - 0s 7ms/step - loss: 10.3742 - mae: 10.3742\n",
            "Epoch 57/100\n",
            "1/1 [==============================] - 0s 7ms/step - loss: 10.2417 - mae: 10.2417\n",
            "Epoch 58/100\n",
            "1/1 [==============================] - 0s 7ms/step - loss: 10.1092 - mae: 10.1092\n",
            "Epoch 59/100\n",
            "1/1 [==============================] - 0s 7ms/step - loss: 9.9767 - mae: 9.9767\n",
            "Epoch 60/100\n",
            "1/1 [==============================] - 0s 7ms/step - loss: 9.8442 - mae: 9.8442\n",
            "Epoch 61/100\n",
            "1/1 [==============================] - 0s 8ms/step - loss: 9.7117 - mae: 9.7117\n",
            "Epoch 62/100\n",
            "1/1 [==============================] - 0s 7ms/step - loss: 9.5792 - mae: 9.5792\n",
            "Epoch 63/100\n",
            "1/1 [==============================] - 0s 7ms/step - loss: 9.4467 - mae: 9.4467\n",
            "Epoch 64/100\n",
            "1/1 [==============================] - 0s 7ms/step - loss: 9.3142 - mae: 9.3142\n",
            "Epoch 65/100\n",
            "1/1 [==============================] - 0s 6ms/step - loss: 9.1817 - mae: 9.1817\n",
            "Epoch 66/100\n",
            "1/1 [==============================] - 0s 6ms/step - loss: 9.0492 - mae: 9.0492\n",
            "Epoch 67/100\n",
            "1/1 [==============================] - 0s 7ms/step - loss: 8.9167 - mae: 8.9167\n",
            "Epoch 68/100\n",
            "1/1 [==============================] - 0s 7ms/step - loss: 8.7842 - mae: 8.7842\n",
            "Epoch 69/100\n",
            "1/1 [==============================] - 0s 11ms/step - loss: 8.6517 - mae: 8.6517\n",
            "Epoch 70/100\n",
            "1/1 [==============================] - 0s 10ms/step - loss: 8.5192 - mae: 8.5192\n",
            "Epoch 71/100\n",
            "1/1 [==============================] - 0s 13ms/step - loss: 8.3867 - mae: 8.3867\n",
            "Epoch 72/100\n",
            "1/1 [==============================] - 0s 12ms/step - loss: 8.2542 - mae: 8.2542\n",
            "Epoch 73/100\n",
            "1/1 [==============================] - 0s 13ms/step - loss: 8.1217 - mae: 8.1217\n",
            "Epoch 74/100\n",
            "1/1 [==============================] - 0s 9ms/step - loss: 7.9892 - mae: 7.9892\n",
            "Epoch 75/100\n",
            "1/1 [==============================] - 0s 7ms/step - loss: 7.8567 - mae: 7.8567\n",
            "Epoch 76/100\n",
            "1/1 [==============================] - 0s 8ms/step - loss: 7.7242 - mae: 7.7242\n",
            "Epoch 77/100\n",
            "1/1 [==============================] - 0s 9ms/step - loss: 7.5917 - mae: 7.5917\n",
            "Epoch 78/100\n",
            "1/1 [==============================] - 0s 12ms/step - loss: 7.4592 - mae: 7.4592\n",
            "Epoch 79/100\n",
            "1/1 [==============================] - 0s 11ms/step - loss: 7.3267 - mae: 7.3267\n",
            "Epoch 80/100\n",
            "1/1 [==============================] - 0s 13ms/step - loss: 7.1942 - mae: 7.1942\n",
            "Epoch 81/100\n",
            "1/1 [==============================] - 0s 14ms/step - loss: 7.0617 - mae: 7.0617\n",
            "Epoch 82/100\n",
            "1/1 [==============================] - 0s 10ms/step - loss: 6.9394 - mae: 6.9394\n",
            "Epoch 83/100\n",
            "1/1 [==============================] - 0s 13ms/step - loss: 6.9338 - mae: 6.9338\n",
            "Epoch 84/100\n",
            "1/1 [==============================] - 0s 9ms/step - loss: 6.9281 - mae: 6.9281\n",
            "Epoch 85/100\n",
            "1/1 [==============================] - 0s 8ms/step - loss: 6.9225 - mae: 6.9225\n",
            "Epoch 86/100\n",
            "1/1 [==============================] - 0s 7ms/step - loss: 6.9169 - mae: 6.9169\n",
            "Epoch 87/100\n",
            "1/1 [==============================] - 0s 12ms/step - loss: 6.9113 - mae: 6.9113\n",
            "Epoch 88/100\n",
            "1/1 [==============================] - 0s 13ms/step - loss: 6.9056 - mae: 6.9056\n",
            "Epoch 89/100\n",
            "1/1 [==============================] - 0s 10ms/step - loss: 6.9000 - mae: 6.9000\n",
            "Epoch 90/100\n",
            "1/1 [==============================] - 0s 13ms/step - loss: 6.8944 - mae: 6.8944\n",
            "Epoch 91/100\n",
            "1/1 [==============================] - 0s 11ms/step - loss: 6.8888 - mae: 6.8888\n",
            "Epoch 92/100\n",
            "1/1 [==============================] - 0s 7ms/step - loss: 6.8831 - mae: 6.8831\n",
            "Epoch 93/100\n",
            "1/1 [==============================] - 0s 15ms/step - loss: 6.8775 - mae: 6.8775\n",
            "Epoch 94/100\n",
            "1/1 [==============================] - 0s 9ms/step - loss: 6.8719 - mae: 6.8719\n",
            "Epoch 95/100\n",
            "1/1 [==============================] - 0s 9ms/step - loss: 6.8663 - mae: 6.8663\n",
            "Epoch 96/100\n",
            "1/1 [==============================] - 0s 12ms/step - loss: 6.8606 - mae: 6.8606\n",
            "Epoch 97/100\n",
            "1/1 [==============================] - 0s 10ms/step - loss: 6.8550 - mae: 6.8550\n",
            "Epoch 98/100\n",
            "1/1 [==============================] - 0s 10ms/step - loss: 6.8494 - mae: 6.8494\n",
            "Epoch 99/100\n",
            "1/1 [==============================] - 0s 16ms/step - loss: 6.8438 - mae: 6.8438\n",
            "Epoch 100/100\n",
            "1/1 [==============================] - 0s 10ms/step - loss: 6.8381 - mae: 6.8381\n"
          ]
        },
        {
          "output_type": "execute_result",
          "data": {
            "text/plain": [
              "<keras.callbacks.History at 0x7f9cac0e5ba0>"
            ]
          },
          "metadata": {},
          "execution_count": 16
        }
      ]
    },
    {
      "cell_type": "code",
      "source": [
        "X,y"
      ],
      "metadata": {
        "colab": {
          "base_uri": "https://localhost:8080/"
        },
        "id": "TutM8WCLZxj1",
        "outputId": "c69d242c-953a-4470-b0ea-bc6aa82465f8"
      },
      "execution_count": null,
      "outputs": [
        {
          "output_type": "execute_result",
          "data": {
            "text/plain": [
              "(<tf.Tensor: shape=(8,), dtype=float64, numpy=array([-7., -4., -1.,  2.,  5.,  8., 11., 14.])>,\n",
              " <tf.Tensor: shape=(8,), dtype=float64, numpy=array([ 3.,  6.,  9., 12., 15., 18., 21., 24.])>)"
            ]
          },
          "metadata": {},
          "execution_count": 17
        }
      ]
    },
    {
      "cell_type": "code",
      "source": [
        "prediction=model.predict(tf.expand_dims([17.0],axis=-1))\n",
        "prediction"
      ],
      "metadata": {
        "colab": {
          "base_uri": "https://localhost:8080/"
        },
        "id": "gYyJ_8UvaX_e",
        "outputId": "2beef7a9-cb41-4d95-ffd9-2f35192e6249"
      },
      "execution_count": null,
      "outputs": [
        {
          "output_type": "stream",
          "name": "stdout",
          "text": [
            "1/1 [==============================] - 0s 33ms/step\n"
          ]
        },
        {
          "output_type": "execute_result",
          "data": {
            "text/plain": [
              "array([[29.174402]], dtype=float32)"
            ]
          },
          "metadata": {},
          "execution_count": 18
        }
      ]
    },
    {
      "cell_type": "code",
      "source": [
        "#make little changes in the model\n",
        "model=tf.keras.Sequential([\n",
        "    tf.keras.layers.Dense(100, activation=\"relu\"),\n",
        "    tf.keras.layers.Dense(100, activation=\"relu\"),\n",
        "    tf.keras.layers.Dense(100, activation=\"relu\"),\n",
        "    tf.keras.layers.Dense(1)\n",
        "])\n",
        "\n",
        "model.compile(loss=tf.keras.losses.mae,\n",
        "              optimizer=tf.keras.optimizers.Adam(lr=0.0001),\n",
        "              metrics=[\"mae\"])\n",
        "\n",
        "model.fit(tf.expand_dims(X,axis=-1),y,epochs=100)"
      ],
      "metadata": {
        "colab": {
          "base_uri": "https://localhost:8080/"
        },
        "id": "OL_U3YbeapDu",
        "outputId": "f75d2254-b449-47d5-a53d-d6cc2a675193"
      },
      "execution_count": null,
      "outputs": [
        {
          "output_type": "stream",
          "name": "stderr",
          "text": [
            "WARNING:absl:`lr` is deprecated in Keras optimizer, please use `learning_rate` or use the legacy optimizer, e.g.,tf.keras.optimizers.legacy.Adam.\n"
          ]
        },
        {
          "output_type": "stream",
          "name": "stdout",
          "text": [
            "Epoch 1/100\n",
            "1/1 [==============================] - 1s 616ms/step - loss: 13.7880 - mae: 13.7880\n",
            "Epoch 2/100\n",
            "1/1 [==============================] - 0s 8ms/step - loss: 13.4723 - mae: 13.4723\n",
            "Epoch 3/100\n",
            "1/1 [==============================] - 0s 8ms/step - loss: 13.1799 - mae: 13.1799\n",
            "Epoch 4/100\n",
            "1/1 [==============================] - 0s 7ms/step - loss: 12.9105 - mae: 12.9105\n",
            "Epoch 5/100\n",
            "1/1 [==============================] - 0s 6ms/step - loss: 12.6571 - mae: 12.6571\n",
            "Epoch 6/100\n",
            "1/1 [==============================] - 0s 7ms/step - loss: 12.4136 - mae: 12.4136\n",
            "Epoch 7/100\n",
            "1/1 [==============================] - 0s 6ms/step - loss: 12.1695 - mae: 12.1695\n",
            "Epoch 8/100\n",
            "1/1 [==============================] - 0s 7ms/step - loss: 11.9166 - mae: 11.9166\n",
            "Epoch 9/100\n",
            "1/1 [==============================] - 0s 7ms/step - loss: 11.6559 - mae: 11.6559\n",
            "Epoch 10/100\n",
            "1/1 [==============================] - 0s 6ms/step - loss: 11.3903 - mae: 11.3903\n",
            "Epoch 11/100\n",
            "1/1 [==============================] - 0s 11ms/step - loss: 11.2168 - mae: 11.2168\n",
            "Epoch 12/100\n",
            "1/1 [==============================] - 0s 6ms/step - loss: 11.0344 - mae: 11.0344\n",
            "Epoch 13/100\n",
            "1/1 [==============================] - 0s 6ms/step - loss: 10.8364 - mae: 10.8364\n",
            "Epoch 14/100\n",
            "1/1 [==============================] - 0s 6ms/step - loss: 10.6214 - mae: 10.6214\n",
            "Epoch 15/100\n",
            "1/1 [==============================] - 0s 6ms/step - loss: 10.3867 - mae: 10.3867\n",
            "Epoch 16/100\n",
            "1/1 [==============================] - 0s 6ms/step - loss: 10.1366 - mae: 10.1366\n",
            "Epoch 17/100\n",
            "1/1 [==============================] - 0s 6ms/step - loss: 9.8736 - mae: 9.8736\n",
            "Epoch 18/100\n",
            "1/1 [==============================] - 0s 6ms/step - loss: 9.5893 - mae: 9.5893\n",
            "Epoch 19/100\n",
            "1/1 [==============================] - 0s 6ms/step - loss: 9.2800 - mae: 9.2800\n",
            "Epoch 20/100\n",
            "1/1 [==============================] - 0s 7ms/step - loss: 8.9470 - mae: 8.9470\n",
            "Epoch 21/100\n",
            "1/1 [==============================] - 0s 7ms/step - loss: 8.5891 - mae: 8.5891\n",
            "Epoch 22/100\n",
            "1/1 [==============================] - 0s 7ms/step - loss: 8.2107 - mae: 8.2107\n",
            "Epoch 23/100\n",
            "1/1 [==============================] - 0s 8ms/step - loss: 7.8039 - mae: 7.8039\n",
            "Epoch 24/100\n",
            "1/1 [==============================] - 0s 8ms/step - loss: 7.3673 - mae: 7.3673\n",
            "Epoch 25/100\n",
            "1/1 [==============================] - 0s 7ms/step - loss: 6.8987 - mae: 6.8987\n",
            "Epoch 26/100\n",
            "1/1 [==============================] - 0s 7ms/step - loss: 6.3972 - mae: 6.3972\n",
            "Epoch 27/100\n",
            "1/1 [==============================] - 0s 7ms/step - loss: 5.8604 - mae: 5.8604\n",
            "Epoch 28/100\n",
            "1/1 [==============================] - 0s 8ms/step - loss: 5.2862 - mae: 5.2862\n",
            "Epoch 29/100\n",
            "1/1 [==============================] - 0s 8ms/step - loss: 4.6742 - mae: 4.6742\n",
            "Epoch 30/100\n",
            "1/1 [==============================] - 0s 7ms/step - loss: 4.1236 - mae: 4.1236\n",
            "Epoch 31/100\n",
            "1/1 [==============================] - 0s 7ms/step - loss: 3.9166 - mae: 3.9166\n",
            "Epoch 32/100\n",
            "1/1 [==============================] - 0s 7ms/step - loss: 3.9805 - mae: 3.9805\n",
            "Epoch 33/100\n",
            "1/1 [==============================] - 0s 7ms/step - loss: 4.1073 - mae: 4.1073\n",
            "Epoch 34/100\n",
            "1/1 [==============================] - 0s 6ms/step - loss: 4.2166 - mae: 4.2166\n",
            "Epoch 35/100\n",
            "1/1 [==============================] - 0s 6ms/step - loss: 4.4853 - mae: 4.4853\n",
            "Epoch 36/100\n",
            "1/1 [==============================] - 0s 6ms/step - loss: 4.6609 - mae: 4.6609\n",
            "Epoch 37/100\n",
            "1/1 [==============================] - 0s 6ms/step - loss: 4.7514 - mae: 4.7514\n",
            "Epoch 38/100\n",
            "1/1 [==============================] - 0s 7ms/step - loss: 4.7658 - mae: 4.7658\n",
            "Epoch 39/100\n",
            "1/1 [==============================] - 0s 6ms/step - loss: 4.7152 - mae: 4.7152\n",
            "Epoch 40/100\n",
            "1/1 [==============================] - 0s 6ms/step - loss: 4.6083 - mae: 4.6083\n",
            "Epoch 41/100\n",
            "1/1 [==============================] - 0s 6ms/step - loss: 4.4549 - mae: 4.4549\n",
            "Epoch 42/100\n",
            "1/1 [==============================] - 0s 7ms/step - loss: 4.2666 - mae: 4.2666\n",
            "Epoch 43/100\n",
            "1/1 [==============================] - 0s 6ms/step - loss: 4.0859 - mae: 4.0859\n",
            "Epoch 44/100\n",
            "1/1 [==============================] - 0s 6ms/step - loss: 4.0001 - mae: 4.0001\n",
            "Epoch 45/100\n",
            "1/1 [==============================] - 0s 8ms/step - loss: 3.9162 - mae: 3.9162\n",
            "Epoch 46/100\n",
            "1/1 [==============================] - 0s 7ms/step - loss: 3.8345 - mae: 3.8345\n",
            "Epoch 47/100\n",
            "1/1 [==============================] - 0s 7ms/step - loss: 3.7546 - mae: 3.7546\n",
            "Epoch 48/100\n",
            "1/1 [==============================] - 0s 7ms/step - loss: 3.7087 - mae: 3.7087\n",
            "Epoch 49/100\n",
            "1/1 [==============================] - 0s 7ms/step - loss: 3.7821 - mae: 3.7821\n",
            "Epoch 50/100\n",
            "1/1 [==============================] - 0s 5ms/step - loss: 3.8207 - mae: 3.8207\n",
            "Epoch 51/100\n",
            "1/1 [==============================] - 0s 7ms/step - loss: 3.8416 - mae: 3.8416\n",
            "Epoch 52/100\n",
            "1/1 [==============================] - 0s 8ms/step - loss: 3.8572 - mae: 3.8572\n",
            "Epoch 53/100\n",
            "1/1 [==============================] - 0s 9ms/step - loss: 3.8585 - mae: 3.8585\n",
            "Epoch 54/100\n",
            "1/1 [==============================] - 0s 7ms/step - loss: 3.8461 - mae: 3.8461\n",
            "Epoch 55/100\n",
            "1/1 [==============================] - 0s 6ms/step - loss: 3.8205 - mae: 3.8205\n",
            "Epoch 56/100\n",
            "1/1 [==============================] - 0s 6ms/step - loss: 3.7839 - mae: 3.7839\n",
            "Epoch 57/100\n",
            "1/1 [==============================] - 0s 6ms/step - loss: 3.7366 - mae: 3.7366\n",
            "Epoch 58/100\n",
            "1/1 [==============================] - 0s 9ms/step - loss: 3.6788 - mae: 3.6788\n",
            "Epoch 59/100\n",
            "1/1 [==============================] - 0s 7ms/step - loss: 3.6104 - mae: 3.6104\n",
            "Epoch 60/100\n",
            "1/1 [==============================] - 0s 6ms/step - loss: 3.6456 - mae: 3.6456\n",
            "Epoch 61/100\n",
            "1/1 [==============================] - 0s 10ms/step - loss: 3.6684 - mae: 3.6684\n",
            "Epoch 62/100\n",
            "1/1 [==============================] - 0s 9ms/step - loss: 3.6855 - mae: 3.6855\n",
            "Epoch 63/100\n",
            "1/1 [==============================] - 0s 7ms/step - loss: 3.6895 - mae: 3.6895\n",
            "Epoch 64/100\n",
            "1/1 [==============================] - 0s 7ms/step - loss: 3.6811 - mae: 3.6811\n",
            "Epoch 65/100\n",
            "1/1 [==============================] - 0s 7ms/step - loss: 3.6651 - mae: 3.6651\n",
            "Epoch 66/100\n",
            "1/1 [==============================] - 0s 6ms/step - loss: 3.6402 - mae: 3.6402\n",
            "Epoch 67/100\n",
            "1/1 [==============================] - 0s 6ms/step - loss: 3.6397 - mae: 3.6397\n",
            "Epoch 68/100\n",
            "1/1 [==============================] - 0s 7ms/step - loss: 3.5893 - mae: 3.5893\n",
            "Epoch 69/100\n",
            "1/1 [==============================] - 0s 8ms/step - loss: 3.5513 - mae: 3.5513\n",
            "Epoch 70/100\n",
            "1/1 [==============================] - 0s 10ms/step - loss: 3.5170 - mae: 3.5170\n",
            "Epoch 71/100\n",
            "1/1 [==============================] - 0s 7ms/step - loss: 3.4743 - mae: 3.4743\n",
            "Epoch 72/100\n",
            "1/1 [==============================] - 0s 8ms/step - loss: 3.5157 - mae: 3.5157\n",
            "Epoch 73/100\n",
            "1/1 [==============================] - 0s 7ms/step - loss: 3.5309 - mae: 3.5309\n",
            "Epoch 74/100\n",
            "1/1 [==============================] - 0s 7ms/step - loss: 3.5234 - mae: 3.5234\n",
            "Epoch 75/100\n",
            "1/1 [==============================] - 0s 7ms/step - loss: 3.4934 - mae: 3.4934\n",
            "Epoch 76/100\n",
            "1/1 [==============================] - 0s 7ms/step - loss: 3.4413 - mae: 3.4413\n",
            "Epoch 77/100\n",
            "1/1 [==============================] - 0s 6ms/step - loss: 3.4159 - mae: 3.4159\n",
            "Epoch 78/100\n",
            "1/1 [==============================] - 0s 5ms/step - loss: 3.4249 - mae: 3.4249\n",
            "Epoch 79/100\n",
            "1/1 [==============================] - 0s 9ms/step - loss: 3.4201 - mae: 3.4201\n",
            "Epoch 80/100\n",
            "1/1 [==============================] - 0s 7ms/step - loss: 3.4036 - mae: 3.4036\n",
            "Epoch 81/100\n",
            "1/1 [==============================] - 0s 8ms/step - loss: 3.3760 - mae: 3.3760\n",
            "Epoch 82/100\n",
            "1/1 [==============================] - 0s 8ms/step - loss: 3.3389 - mae: 3.3389\n",
            "Epoch 83/100\n",
            "1/1 [==============================] - 0s 6ms/step - loss: 3.2939 - mae: 3.2939\n",
            "Epoch 84/100\n",
            "1/1 [==============================] - 0s 6ms/step - loss: 3.2840 - mae: 3.2840\n",
            "Epoch 85/100\n",
            "1/1 [==============================] - 0s 6ms/step - loss: 3.2768 - mae: 3.2768\n",
            "Epoch 86/100\n",
            "1/1 [==============================] - 0s 6ms/step - loss: 3.2364 - mae: 3.2364\n",
            "Epoch 87/100\n",
            "1/1 [==============================] - 0s 6ms/step - loss: 3.2373 - mae: 3.2373\n",
            "Epoch 88/100\n",
            "1/1 [==============================] - 0s 7ms/step - loss: 3.2148 - mae: 3.2148\n",
            "Epoch 89/100\n",
            "1/1 [==============================] - 0s 7ms/step - loss: 3.2207 - mae: 3.2207\n",
            "Epoch 90/100\n",
            "1/1 [==============================] - 0s 8ms/step - loss: 3.2168 - mae: 3.2168\n",
            "Epoch 91/100\n",
            "1/1 [==============================] - 0s 8ms/step - loss: 3.1992 - mae: 3.1992\n",
            "Epoch 92/100\n",
            "1/1 [==============================] - 0s 8ms/step - loss: 3.1687 - mae: 3.1687\n",
            "Epoch 93/100\n",
            "1/1 [==============================] - 0s 7ms/step - loss: 3.1351 - mae: 3.1351\n",
            "Epoch 94/100\n",
            "1/1 [==============================] - 0s 7ms/step - loss: 3.1158 - mae: 3.1158\n",
            "Epoch 95/100\n",
            "1/1 [==============================] - 0s 6ms/step - loss: 3.0909 - mae: 3.0909\n",
            "Epoch 96/100\n",
            "1/1 [==============================] - 0s 7ms/step - loss: 3.0659 - mae: 3.0659\n",
            "Epoch 97/100\n",
            "1/1 [==============================] - 0s 8ms/step - loss: 3.0300 - mae: 3.0300\n",
            "Epoch 98/100\n",
            "1/1 [==============================] - 0s 6ms/step - loss: 3.0184 - mae: 3.0184\n",
            "Epoch 99/100\n",
            "1/1 [==============================] - 0s 6ms/step - loss: 2.9849 - mae: 2.9849\n",
            "Epoch 100/100\n",
            "1/1 [==============================] - 0s 7ms/step - loss: 2.9371 - mae: 2.9371\n"
          ]
        },
        {
          "output_type": "execute_result",
          "data": {
            "text/plain": [
              "<keras.callbacks.History at 0x7f9ca673bdc0>"
            ]
          },
          "metadata": {},
          "execution_count": 19
        }
      ]
    },
    {
      "cell_type": "code",
      "source": [
        "prediction = model.predict(tf.expand_dims([17.0],axis=-1))\n",
        "prediction"
      ],
      "metadata": {
        "colab": {
          "base_uri": "https://localhost:8080/"
        },
        "id": "G0Gukz1EcmRA",
        "outputId": "bee1b108-6126-44c7-d8f1-6b24f6b14f67"
      },
      "execution_count": null,
      "outputs": [
        {
          "output_type": "stream",
          "name": "stdout",
          "text": [
            "1/1 [==============================] - 0s 47ms/step\n"
          ]
        },
        {
          "output_type": "execute_result",
          "data": {
            "text/plain": [
              "array([[31.264448]], dtype=float32)"
            ]
          },
          "metadata": {},
          "execution_count": 20
        }
      ]
    },
    {
      "cell_type": "markdown",
      "source": [
        "Common ways to improve a deep model:\n",
        "- adding layers(no of times dense layer is defined)\n",
        "- incresase the no of hidden units(the number given inside the dense layer)\n",
        "- change the activation functions\n",
        "- change the optimization function\n",
        "- change the learning rate\n",
        "- fitting on more data\n",
        "- fitting for longer(the epochs value)\n",
        "\n",
        "These are the Hyperparameters"
      ],
      "metadata": {
        "id": "MtSI0cJbj0u9"
      }
    },
    {
      "cell_type": "markdown",
      "source": [
        "###Evaluating a model\n",
        "\n",
        "In practise , atypical workflow you'll go through when building neural networks is:\n",
        "\n",
        "\n",
        "Build a model -> fit it -> evaluate it -> tweak a model -> fit it -> evaluate it -> tweak a model -> fit it -> evaluate it...\n"
      ],
      "metadata": {
        "id": "zwAhe2E4lzLx"
      }
    },
    {
      "cell_type": "code",
      "source": [
        "#Make a bigger dataset\n",
        "\n",
        "X = tf.range(-100,100,4)\n",
        "X"
      ],
      "metadata": {
        "colab": {
          "base_uri": "https://localhost:8080/"
        },
        "id": "UabhQyEed_aj",
        "outputId": "7f8e15dc-a527-4edf-b5a8-68e256a2e27b"
      },
      "execution_count": null,
      "outputs": [
        {
          "output_type": "execute_result",
          "data": {
            "text/plain": [
              "<tf.Tensor: shape=(50,), dtype=int32, numpy=\n",
              "array([-100,  -96,  -92,  -88,  -84,  -80,  -76,  -72,  -68,  -64,  -60,\n",
              "        -56,  -52,  -48,  -44,  -40,  -36,  -32,  -28,  -24,  -20,  -16,\n",
              "        -12,   -8,   -4,    0,    4,    8,   12,   16,   20,   24,   28,\n",
              "         32,   36,   40,   44,   48,   52,   56,   60,   64,   68,   72,\n",
              "         76,   80,   84,   88,   92,   96], dtype=int32)>"
            ]
          },
          "metadata": {},
          "execution_count": 21
        }
      ]
    },
    {
      "cell_type": "code",
      "source": [
        "y = X + 10\n",
        "y"
      ],
      "metadata": {
        "colab": {
          "base_uri": "https://localhost:8080/"
        },
        "id": "AhUdEpjapMZw",
        "outputId": "b1caaebc-d85c-416c-ad58-304e096a84c9"
      },
      "execution_count": null,
      "outputs": [
        {
          "output_type": "execute_result",
          "data": {
            "text/plain": [
              "<tf.Tensor: shape=(50,), dtype=int32, numpy=\n",
              "array([-90, -86, -82, -78, -74, -70, -66, -62, -58, -54, -50, -46, -42,\n",
              "       -38, -34, -30, -26, -22, -18, -14, -10,  -6,  -2,   2,   6,  10,\n",
              "        14,  18,  22,  26,  30,  34,  38,  42,  46,  50,  54,  58,  62,\n",
              "        66,  70,  74,  78,  82,  86,  90,  94,  98, 102, 106], dtype=int32)>"
            ]
          },
          "metadata": {},
          "execution_count": 22
        }
      ]
    },
    {
      "cell_type": "code",
      "source": [
        "#visualize the data\n",
        "plt.scatter(X,y)"
      ],
      "metadata": {
        "colab": {
          "base_uri": "https://localhost:8080/",
          "height": 447
        },
        "id": "II-r_nEgpbwj",
        "outputId": "db93fbfc-662f-46bd-efaf-2ae2c1db11e4"
      },
      "execution_count": null,
      "outputs": [
        {
          "output_type": "execute_result",
          "data": {
            "text/plain": [
              "<matplotlib.collections.PathCollection at 0x7f9ca6727010>"
            ]
          },
          "metadata": {},
          "execution_count": 23
        },
        {
          "output_type": "display_data",
          "data": {
            "text/plain": [
              "<Figure size 640x480 with 1 Axes>"
            ],
            "image/png": "[encoded data removed]"
          },
          "metadata": {}
        }
      ]
    },
    {
      "cell_type": "markdown",
      "source": [
        "### The 3 sets...\n",
        "- **Training set** - 70-80%\n",
        "- **validation set** - 15-20%\n",
        "- **Test set** - 15-20%\n"
      ],
      "metadata": {
        "id": "pQfGbfampwjm"
      }
    },
    {
      "cell_type": "code",
      "source": [
        "#check the length of how many samples we have\n",
        "len(X)"
      ],
      "metadata": {
        "colab": {
          "base_uri": "https://localhost:8080/"
        },
        "id": "mcyI2aRQpnhO",
        "outputId": "8b86befd-efbb-48c6-a54b-f5c3d0ce8486"
      },
      "execution_count": null,
      "outputs": [
        {
          "output_type": "execute_result",
          "data": {
            "text/plain": [
              "50"
            ]
          },
          "metadata": {},
          "execution_count": 24
        }
      ]
    },
    {
      "cell_type": "code",
      "source": [
        "#split the data into train and test sets\n",
        "X_train = X[:40] #first 40 are the training samples(80% of  the data)\n",
        "y_train = y[:40]\n",
        "\n",
        "X_test = X[40:] #last 10 are the testing samples(20% of the data)\n",
        "y_test = y[40:]\n",
        "\n",
        "len(X_train), len(X_test), len(y_train),len(y_test)"
      ],
      "metadata": {
        "colab": {
          "base_uri": "https://localhost:8080/"
        },
        "id": "cGJhJ_6xrVh8",
        "outputId": "e8b989cb-168e-478f-c293-549f8a935049"
      },
      "execution_count": null,
      "outputs": [
        {
          "output_type": "execute_result",
          "data": {
            "text/plain": [
              "(40, 10, 40, 10)"
            ]
          },
          "metadata": {},
          "execution_count": 25
        }
      ]
    },
    {
      "cell_type": "markdown",
      "source": [
        "Visualizing the data"
      ],
      "metadata": {
        "id": "R9bxzxHusW2M"
      }
    },
    {
      "cell_type": "code",
      "source": [
        "plt.figure(figsize=(10,7))\n",
        "plt.scatter(X_train,y_train,c=\"b\",label=\"Training data\")\n",
        "plt.scatter(X_test,y_test,c=\"g\",label=\"Testing data\")\n",
        "plt.legend()"
      ],
      "metadata": {
        "colab": {
          "base_uri": "https://localhost:8080/",
          "height": 485
        },
        "id": "U_e-eylPsNUf",
        "outputId": "60e5a6b8-f96f-4756-8389-d13825d78a50"
      },
      "execution_count": null,
      "outputs": [
        {
          "output_type": "execute_result",
          "data": {
            "text/plain": [
              "<matplotlib.legend.Legend at 0x7f9c9ff9a860>"
            ]
          },
          "metadata": {},
          "execution_count": 26
        },
        {
          "output_type": "display_data",
          "data": {
            "text/plain": [
              "<Figure size 1000x700 with 1 Axes>"
            ],
            "image/png": "[encoded data removed]"
          },
          "metadata": {}
        }
      ]
    },
    {
      "cell_type": "code",
      "source": [
        "#lets have a look at how to build a neural network for our data\n",
        "\n",
        "model = tf.keras.Sequential([\n",
        "    tf.keras.layers.Dense(1)\n",
        "])\n",
        "model.compile(loss= tf.keras.losses.mae,\n",
        "              optimizer = tf.keras.optimizers.SGD(),\n",
        "              metrics=[\"mae\"])\n",
        "#model.fit(tf.expand_dims(X_train,axis=-1),y_train,epochs=100)"
      ],
      "metadata": {
        "id": "cU2DWzf3s5eB"
      },
      "execution_count": null,
      "outputs": []
    },
    {
      "cell_type": "code",
      "source": [
        "#model.summary()"
      ],
      "metadata": {
        "id": "dAeyRvPgutip"
      },
      "execution_count": null,
      "outputs": []
    },
    {
      "cell_type": "code",
      "source": [
        "#lets create a model which builds automatically by defining the input_shape argument in t he first layer\n",
        "tf.random.set_seed(42)\n",
        "\n",
        "#lets create a mode\n",
        "model=tf.keras.Sequential([\n",
        "    tf.keras.layers.Dense(10,input_shape = [1],name=\"input_layer\"),\n",
        "    tf.keras.layers.Dense(1,name=\"outpur_layer\")\n",
        "],name=\"Model_1\")\n",
        "\n",
        "#compile the model\n",
        "model.compile(loss=tf.keras.losses.mae,\n",
        "              optimizer=tf.keras.optimizers.SGD(),\n",
        "              metrics=[\"mae\"])"
      ],
      "metadata": {
        "id": "8ZdCzIu2vY1w"
      },
      "execution_count": null,
      "outputs": []
    },
    {
      "cell_type": "code",
      "source": [
        "model.summary()"
      ],
      "metadata": {
        "colab": {
          "base_uri": "https://localhost:8080/"
        },
        "id": "GI09oPy1vhSP",
        "outputId": "db271c67-2321-45ab-ff5b-7f5ea81d4593"
      },
      "execution_count": null,
      "outputs": [
        {
          "output_type": "stream",
          "name": "stdout",
          "text": [
            "Model: \"Model_1\"\n",
            "_________________________________________________________________\n",
            " Layer (type)                Output Shape              Param #   \n",
            "=================================================================\n",
            " input_layer (Dense)         (None, 10)                20        \n",
            "                                                                 \n",
            " outpur_layer (Dense)        (None, 1)                 11        \n",
            "                                                                 \n",
            "=================================================================\n",
            "Total params: 31\n",
            "Trainable params: 31\n",
            "Non-trainable params: 0\n",
            "_________________________________________________________________\n"
          ]
        }
      ]
    },
    {
      "cell_type": "markdown",
      "source": [
        "- Total params = total nof parameters in the model\n",
        "- trainable parameters - these are the parameters(patterns) the model can update as it trains\n",
        "- Non-trainable parameters - these parameters arent updated during training"
      ],
      "metadata": {
        "id": "rhiCqe4Aw94a"
      }
    },
    {
      "cell_type": "code",
      "source": [
        "#fitting the model to the training data set\n",
        "model.fit(tf.expand_dims(X_train, axis=-1), y_train, epochs=100, verbose=1)\n"
      ],
      "metadata": {
        "colab": {
          "base_uri": "https://localhost:8080/"
        },
        "id": "V-kXkPAzwnGy",
        "outputId": "c3fafbd2-cb83-486d-dcb5-348a9889b767"
      },
      "execution_count": null,
      "outputs": [
        {
          "output_type": "stream",
          "name": "stdout",
          "text": [
            "Epoch 1/100\n",
            "2/2 [==============================] - 0s 7ms/step - loss: 42.4472 - mae: 42.4472\n",
            "Epoch 2/100\n",
            "2/2 [==============================] - 0s 4ms/step - loss: 32.1196 - mae: 32.1196\n",
            "Epoch 3/100\n",
            "2/2 [==============================] - 0s 4ms/step - loss: 37.0660 - mae: 37.0660\n",
            "Epoch 4/100\n",
            "2/2 [==============================] - 0s 5ms/step - loss: 27.6934 - mae: 27.6934\n",
            "Epoch 5/100\n",
            "2/2 [==============================] - 0s 5ms/step - loss: 15.0977 - mae: 15.0977\n",
            "Epoch 6/100\n",
            "2/2 [==============================] - 0s 4ms/step - loss: 12.0107 - mae: 12.0107\n",
            "Epoch 7/100\n",
            "2/2 [==============================] - 0s 4ms/step - loss: 11.3410 - mae: 11.3410\n",
            "Epoch 8/100\n",
            "2/2 [==============================] - 0s 4ms/step - loss: 11.1796 - mae: 11.1796\n",
            "Epoch 9/100\n",
            "2/2 [==============================] - 0s 4ms/step - loss: 41.3381 - mae: 41.3381\n",
            "Epoch 10/100\n",
            "2/2 [==============================] - 0s 4ms/step - loss: 28.6200 - mae: 28.6200\n",
            "Epoch 11/100\n",
            "2/2 [==============================] - 0s 4ms/step - loss: 9.4050 - mae: 9.4050\n",
            "Epoch 12/100\n",
            "2/2 [==============================] - 0s 4ms/step - loss: 26.3068 - mae: 26.3068\n",
            "Epoch 13/100\n",
            "2/2 [==============================] - 0s 4ms/step - loss: 14.4778 - mae: 14.4778\n",
            "Epoch 14/100\n",
            "2/2 [==============================] - 0s 4ms/step - loss: 29.9304 - mae: 29.9304\n",
            "Epoch 15/100\n",
            "2/2 [==============================] - 0s 13ms/step - loss: 19.7719 - mae: 19.7719\n",
            "Epoch 16/100\n",
            "2/2 [==============================] - 0s 4ms/step - loss: 9.8588 - mae: 9.8588\n",
            "Epoch 17/100\n",
            "2/2 [==============================] - 0s 4ms/step - loss: 17.6874 - mae: 17.6874\n",
            "Epoch 18/100\n",
            "2/2 [==============================] - 0s 4ms/step - loss: 14.1585 - mae: 14.1585\n",
            "Epoch 19/100\n",
            "2/2 [==============================] - 0s 4ms/step - loss: 13.9995 - mae: 13.9995\n",
            "Epoch 20/100\n",
            "2/2 [==============================] - 0s 4ms/step - loss: 11.2309 - mae: 11.2309\n",
            "Epoch 21/100\n",
            "2/2 [==============================] - 0s 4ms/step - loss: 17.3204 - mae: 17.3204\n",
            "Epoch 22/100\n",
            "2/2 [==============================] - 0s 5ms/step - loss: 15.5572 - mae: 15.5572\n",
            "Epoch 23/100\n",
            "2/2 [==============================] - 0s 4ms/step - loss: 9.2423 - mae: 9.2423\n",
            "Epoch 24/100\n",
            "2/2 [==============================] - 0s 6ms/step - loss: 17.2536 - mae: 17.2536\n",
            "Epoch 25/100\n",
            "2/2 [==============================] - 0s 4ms/step - loss: 15.9329 - mae: 15.9329\n",
            "Epoch 26/100\n",
            "2/2 [==============================] - 0s 5ms/step - loss: 20.9122 - mae: 20.9122\n",
            "Epoch 27/100\n",
            "2/2 [==============================] - 0s 5ms/step - loss: 26.0060 - mae: 26.0060\n",
            "Epoch 28/100\n",
            "2/2 [==============================] - 0s 5ms/step - loss: 18.4988 - mae: 18.4988\n",
            "Epoch 29/100\n",
            "2/2 [==============================] - 0s 6ms/step - loss: 9.2493 - mae: 9.2493\n",
            "Epoch 30/100\n",
            "2/2 [==============================] - 0s 5ms/step - loss: 29.1123 - mae: 29.1123\n",
            "Epoch 31/100\n",
            "2/2 [==============================] - 0s 6ms/step - loss: 52.7316 - mae: 52.7316\n",
            "Epoch 32/100\n",
            "2/2 [==============================] - 0s 5ms/step - loss: 11.9426 - mae: 11.9426\n",
            "Epoch 33/100\n",
            "2/2 [==============================] - 0s 5ms/step - loss: 15.5394 - mae: 15.5394\n",
            "Epoch 34/100\n",
            "2/2 [==============================] - 0s 6ms/step - loss: 12.6288 - mae: 12.6288\n",
            "Epoch 35/100\n",
            "2/2 [==============================] - 0s 5ms/step - loss: 9.2141 - mae: 9.2141\n",
            "Epoch 36/100\n",
            "2/2 [==============================] - 0s 4ms/step - loss: 16.5245 - mae: 16.5245\n",
            "Epoch 37/100\n",
            "2/2 [==============================] - 0s 6ms/step - loss: 11.0772 - mae: 11.0772\n",
            "Epoch 38/100\n",
            "2/2 [==============================] - 0s 8ms/step - loss: 18.2054 - mae: 18.2054\n",
            "Epoch 39/100\n",
            "2/2 [==============================] - 0s 5ms/step - loss: 19.1392 - mae: 19.1392\n",
            "Epoch 40/100\n",
            "2/2 [==============================] - 0s 5ms/step - loss: 20.4998 - mae: 20.4998\n",
            "Epoch 41/100\n",
            "2/2 [==============================] - 0s 4ms/step - loss: 14.8337 - mae: 14.8337\n",
            "Epoch 42/100\n",
            "2/2 [==============================] - 0s 6ms/step - loss: 12.2236 - mae: 12.2236\n",
            "Epoch 43/100\n",
            "2/2 [==============================] - 0s 5ms/step - loss: 10.7070 - mae: 10.7070\n",
            "Epoch 44/100\n",
            "2/2 [==============================] - 0s 6ms/step - loss: 32.3148 - mae: 32.3148\n",
            "Epoch 45/100\n",
            "2/2 [==============================] - 0s 5ms/step - loss: 12.4876 - mae: 12.4876\n",
            "Epoch 46/100\n",
            "2/2 [==============================] - 0s 4ms/step - loss: 17.5524 - mae: 17.5524\n",
            "Epoch 47/100\n",
            "2/2 [==============================] - 0s 5ms/step - loss: 15.7465 - mae: 15.7465\n",
            "Epoch 48/100\n",
            "2/2 [==============================] - 0s 6ms/step - loss: 8.3727 - mae: 8.3727\n",
            "Epoch 49/100\n",
            "2/2 [==============================] - 0s 5ms/step - loss: 13.9807 - mae: 13.9807\n",
            "Epoch 50/100\n",
            "2/2 [==============================] - 0s 5ms/step - loss: 12.8217 - mae: 12.8217\n",
            "Epoch 51/100\n",
            "2/2 [==============================] - 0s 5ms/step - loss: 14.8350 - mae: 14.8350\n",
            "Epoch 52/100\n",
            "2/2 [==============================] - 0s 4ms/step - loss: 18.7223 - mae: 18.7223\n",
            "Epoch 53/100\n",
            "2/2 [==============================] - 0s 7ms/step - loss: 24.1655 - mae: 24.1655\n",
            "Epoch 54/100\n",
            "2/2 [==============================] - 0s 5ms/step - loss: 23.1882 - mae: 23.1882\n",
            "Epoch 55/100\n",
            "2/2 [==============================] - 0s 5ms/step - loss: 24.0420 - mae: 24.0420\n",
            "Epoch 56/100\n",
            "2/2 [==============================] - 0s 5ms/step - loss: 11.1695 - mae: 11.1695\n",
            "Epoch 57/100\n",
            "2/2 [==============================] - 0s 5ms/step - loss: 13.1237 - mae: 13.1237\n",
            "Epoch 58/100\n",
            "2/2 [==============================] - 0s 5ms/step - loss: 9.8167 - mae: 9.8167\n",
            "Epoch 59/100\n",
            "2/2 [==============================] - 0s 6ms/step - loss: 13.3061 - mae: 13.3061\n",
            "Epoch 60/100\n",
            "2/2 [==============================] - 0s 5ms/step - loss: 10.8737 - mae: 10.8737\n",
            "Epoch 61/100\n",
            "2/2 [==============================] - 0s 5ms/step - loss: 13.4712 - mae: 13.4712\n",
            "Epoch 62/100\n",
            "2/2 [==============================] - 0s 5ms/step - loss: 17.4864 - mae: 17.4864\n",
            "Epoch 63/100\n",
            "2/2 [==============================] - 0s 5ms/step - loss: 9.1622 - mae: 9.1622\n",
            "Epoch 64/100\n",
            "2/2 [==============================] - 0s 4ms/step - loss: 18.3557 - mae: 18.3557\n",
            "Epoch 65/100\n",
            "2/2 [==============================] - 0s 4ms/step - loss: 10.1169 - mae: 10.1169\n",
            "Epoch 66/100\n",
            "2/2 [==============================] - 0s 4ms/step - loss: 24.2077 - mae: 24.2077\n",
            "Epoch 67/100\n",
            "2/2 [==============================] - 0s 13ms/step - loss: 10.8803 - mae: 10.8803\n",
            "Epoch 68/100\n",
            "2/2 [==============================] - 0s 4ms/step - loss: 10.7657 - mae: 10.7657\n",
            "Epoch 69/100\n",
            "2/2 [==============================] - 0s 4ms/step - loss: 23.1810 - mae: 23.1810\n",
            "Epoch 70/100\n",
            "2/2 [==============================] - 0s 5ms/step - loss: 8.8305 - mae: 8.8305\n",
            "Epoch 71/100\n",
            "2/2 [==============================] - 0s 4ms/step - loss: 16.0071 - mae: 16.0071\n",
            "Epoch 72/100\n",
            "2/2 [==============================] - 0s 5ms/step - loss: 8.1616 - mae: 8.1616\n",
            "Epoch 73/100\n",
            "2/2 [==============================] - 0s 4ms/step - loss: 9.4719 - mae: 9.4719\n",
            "Epoch 74/100\n",
            "2/2 [==============================] - 0s 4ms/step - loss: 28.1788 - mae: 28.1788\n",
            "Epoch 75/100\n",
            "2/2 [==============================] - 0s 4ms/step - loss: 10.1802 - mae: 10.1802\n",
            "Epoch 76/100\n",
            "2/2 [==============================] - 0s 5ms/step - loss: 13.1254 - mae: 13.1254\n",
            "Epoch 77/100\n",
            "2/2 [==============================] - 0s 5ms/step - loss: 18.3214 - mae: 18.3214\n",
            "Epoch 78/100\n",
            "2/2 [==============================] - 0s 4ms/step - loss: 9.0138 - mae: 9.0138\n",
            "Epoch 79/100\n",
            "2/2 [==============================] - 0s 6ms/step - loss: 29.2588 - mae: 29.2588\n",
            "Epoch 80/100\n",
            "2/2 [==============================] - 0s 5ms/step - loss: 31.6893 - mae: 31.6893\n",
            "Epoch 81/100\n",
            "2/2 [==============================] - 0s 5ms/step - loss: 13.9240 - mae: 13.9240\n",
            "Epoch 82/100\n",
            "2/2 [==============================] - 0s 6ms/step - loss: 15.6982 - mae: 15.6982\n",
            "Epoch 83/100\n",
            "2/2 [==============================] - 0s 6ms/step - loss: 11.1891 - mae: 11.1891\n",
            "Epoch 84/100\n",
            "2/2 [==============================] - 0s 6ms/step - loss: 7.3160 - mae: 7.3160\n",
            "Epoch 85/100\n",
            "2/2 [==============================] - 0s 4ms/step - loss: 15.1276 - mae: 15.1276\n",
            "Epoch 86/100\n",
            "2/2 [==============================] - 0s 7ms/step - loss: 15.4178 - mae: 15.4178\n",
            "Epoch 87/100\n",
            "2/2 [==============================] - 0s 4ms/step - loss: 19.3658 - mae: 19.3658\n",
            "Epoch 88/100\n",
            "2/2 [==============================] - 0s 4ms/step - loss: 29.1585 - mae: 29.1585\n",
            "Epoch 89/100\n",
            "2/2 [==============================] - 0s 5ms/step - loss: 10.0930 - mae: 10.0930\n",
            "Epoch 90/100\n",
            "2/2 [==============================] - 0s 8ms/step - loss: 20.9745 - mae: 20.9745\n",
            "Epoch 91/100\n",
            "2/2 [==============================] - 0s 6ms/step - loss: 10.4542 - mae: 10.4542\n",
            "Epoch 92/100\n",
            "2/2 [==============================] - 0s 8ms/step - loss: 17.9018 - mae: 17.9018\n",
            "Epoch 93/100\n",
            "2/2 [==============================] - 0s 5ms/step - loss: 6.5717 - mae: 6.5717\n",
            "Epoch 94/100\n",
            "2/2 [==============================] - 0s 5ms/step - loss: 11.1070 - mae: 11.1070\n",
            "Epoch 95/100\n",
            "2/2 [==============================] - 0s 5ms/step - loss: 24.2510 - mae: 24.2510\n",
            "Epoch 96/100\n",
            "2/2 [==============================] - 0s 5ms/step - loss: 10.7113 - mae: 10.7113\n",
            "Epoch 97/100\n",
            "2/2 [==============================] - 0s 5ms/step - loss: 15.2815 - mae: 15.2815\n",
            "Epoch 98/100\n",
            "2/2 [==============================] - 0s 6ms/step - loss: 8.2386 - mae: 8.2386\n",
            "Epoch 99/100\n",
            "2/2 [==============================] - 0s 5ms/step - loss: 16.4522 - mae: 16.4522\n",
            "Epoch 100/100\n",
            "2/2 [==============================] - 0s 5ms/step - loss: 13.8581 - mae: 13.8581\n"
          ]
        },
        {
          "output_type": "execute_result",
          "data": {
            "text/plain": [
              "<keras.callbacks.History at 0x7f9c9fb90cd0>"
            ]
          },
          "metadata": {},
          "execution_count": 31
        }
      ]
    },
    {
      "cell_type": "code",
      "source": [
        "model.summary()"
      ],
      "metadata": {
        "colab": {
          "base_uri": "https://localhost:8080/"
        },
        "id": "bUUhh5c8KiJ1",
        "outputId": "3565a3f9-a0d4-45a3-9bee-091cc9002259"
      },
      "execution_count": null,
      "outputs": [
        {
          "output_type": "stream",
          "name": "stdout",
          "text": [
            "Model: \"Model_1\"\n",
            "_________________________________________________________________\n",
            " Layer (type)                Output Shape              Param #   \n",
            "=================================================================\n",
            " input_layer (Dense)         (None, 10)                20        \n",
            "                                                                 \n",
            " outpur_layer (Dense)        (None, 1)                 11        \n",
            "                                                                 \n",
            "=================================================================\n",
            "Total params: 31\n",
            "Trainable params: 31\n",
            "Non-trainable params: 0\n",
            "_________________________________________________________________\n"
          ]
        }
      ]
    },
    {
      "cell_type": "code",
      "source": [
        "from tensorflow.keras.utils import plot_model\n",
        "plot_model(model=model,show_shapes=True)"
      ],
      "metadata": {
        "colab": {
          "base_uri": "https://localhost:8080/",
          "height": 312
        },
        "id": "CqSVdr_CMLKz",
        "outputId": "709250cb-ed32-4813-9840-b5b7a3931c56"
      },
      "execution_count": null,
      "outputs": [
        {
          "output_type": "execute_result",
          "data": {
            "image/png": "[encoded data removed]",
            "text/plain": [
              "<IPython.core.display.Image object>"
            ]
          },
          "metadata": {},
          "execution_count": 33
        }
      ]
    },
    {
      "cell_type": "markdown",
      "source": [
        "###Vizualizing the models predictions\n",
        "\n",
        "To visualize predictions, its a good idea to plot them against the ground truth labels\n",
        "\n",
        "Often you will see this in the form of y_test or y_true versus y_pred(ground truth versus our models predictions)"
      ],
      "metadata": {
        "id": "U63OWLXiRPCg"
      }
    },
    {
      "cell_type": "code",
      "source": [
        "#make some predictions\n",
        "y_preds = model.predict(X_test)\n",
        "y_pred"
      ],
      "metadata": {
        "colab": {
          "base_uri": "https://localhost:8080/"
        },
        "id": "oWXJh94wRr9q",
        "outputId": "79a3f840-c793-4728-e71c-35e89db24fc3"
      },
      "execution_count": null,
      "outputs": [
        {
          "output_type": "stream",
          "name": "stdout",
          "text": [
            "1/1 [==============================] - 0s 42ms/step\n"
          ]
        },
        {
          "output_type": "execute_result",
          "data": {
            "text/plain": [
              "array([[-0.7373435]], dtype=float32)"
            ]
          },
          "metadata": {},
          "execution_count": 34
        }
      ]
    },
    {
      "cell_type": "code",
      "source": [
        "y_test"
      ],
      "metadata": {
        "colab": {
          "base_uri": "https://localhost:8080/"
        },
        "id": "VugJ7V7iR2vy",
        "outputId": "a2cbddc2-6a15-4b03-98ac-40566534386f"
      },
      "execution_count": null,
      "outputs": [
        {
          "output_type": "execute_result",
          "data": {
            "text/plain": [
              "<tf.Tensor: shape=(10,), dtype=int32, numpy=array([ 70,  74,  78,  82,  86,  90,  94,  98, 102, 106], dtype=int32)>"
            ]
          },
          "metadata": {},
          "execution_count": 35
        }
      ]
    },
    {
      "cell_type": "code",
      "source": [
        "import matplotlib.pyplot as plt\n",
        "\n",
        "def plot_predictions(train_data=X_train,\n",
        "                     train_labels=y_train,\n",
        "                     test_data=X_test,\n",
        "                     test_labels=y_test,\n",
        "                     predictions=y_pred):\n",
        "\n",
        "  \"\"\"\n",
        "  Plots training data, test data, and compares predictions to ground truth value.\n",
        "  \"\"\"\n",
        "  plt.figure(figsize=(10,7))\n",
        "  plt.scatter(train_data, train_labels, c=\"b\", label=\"Training data\")\n",
        "  plt.scatter(test_data, test_labels, c=\"g\", label=\"Testing data\")\n",
        "  plt.legend()\n",
        "\n",
        "  if len(test_data) == len(predictions):\n",
        "    plt.scatter(test_data, predictions, c=\"r\", label=\"Predictions\")\n",
        "\n",
        "  plt.legend()\n"
      ],
      "metadata": {
        "id": "1RO993XAR6s4"
      },
      "execution_count": null,
      "outputs": []
    },
    {
      "cell_type": "code",
      "source": [
        "plot_predictions()"
      ],
      "metadata": {
        "id": "Wo6PUUfl79lu",
        "colab": {
          "base_uri": "https://localhost:8080/",
          "height": 468
        },
        "outputId": "638d1d8b-1348-40f7-e4f5-e35f65d7edf1"
      },
      "execution_count": null,
      "outputs": [
        {
          "output_type": "display_data",
          "data": {
            "text/plain": [
              "<Figure size 1000x700 with 1 Axes>"
            ],
            "image/png": "[encoded data removed]"
          },
          "metadata": {}
        }
      ]
    },
    {
      "cell_type": "markdown",
      "source": [
        "Evaluating the models predictions with regression evaluation metrics:\n",
        "\n",
        "**MAE** - tf.keras.losses.MAE() or tf.metrics.mean_absolute_error()\n",
        "\n",
        "**MSE** - tf.keras.losses.MSE() or tf.metrics.mean_square_error()\n",
        "\n",
        "**Huber** - tf.keras.losses.Huber()"
      ],
      "metadata": {
        "id": "Asy-2lw8kQ6j"
      }
    },
    {
      "cell_type": "code",
      "source": [
        "model.evaluate(X_test,y_test)"
      ],
      "metadata": {
        "colab": {
          "base_uri": "https://localhost:8080/"
        },
        "id": "ae_5DgdkjzaD",
        "outputId": "5b649c41-695c-43de-fe65-b5c942f824e6"
      },
      "execution_count": null,
      "outputs": [
        {
          "output_type": "stream",
          "name": "stdout",
          "text": [
            "1/1 [==============================] - 0s 98ms/step - loss: 17.7000 - mae: 17.7000\n"
          ]
        },
        {
          "output_type": "execute_result",
          "data": {
            "text/plain": [
              "[17.699951171875, 17.699951171875]"
            ]
          },
          "metadata": {},
          "execution_count": 38
        }
      ]
    },
    {
      "cell_type": "code",
      "source": [
        "#Calculate the mean absolute error\n",
        "mae=tf.metrics.mean_absolute_error(y_true=y_test,y_pred=tf.constant(y_pred))\n",
        "mae\n"
      ],
      "metadata": {
        "colab": {
          "base_uri": "https://localhost:8080/"
        },
        "id": "lok6GC6lmkvi",
        "outputId": "5f62555d-dc16-4c98-bc69-ac85bfc6e3c3"
      },
      "execution_count": null,
      "outputs": [
        {
          "output_type": "execute_result",
          "data": {
            "text/plain": [
              "<tf.Tensor: shape=(1,), dtype=float32, numpy=array([88.73734], dtype=float32)>"
            ]
          },
          "metadata": {},
          "execution_count": 39
        }
      ]
    },
    {
      "cell_type": "code",
      "source": [
        "tf.keras.losses.MSE(y_test,tf.squeeze(y_pred))\n"
      ],
      "metadata": {
        "colab": {
          "base_uri": "https://localhost:8080/"
        },
        "id": "6Qm5uJf1nAg4",
        "outputId": "260527ef-4770-4ed3-8f97-2deea0486cee"
      },
      "execution_count": null,
      "outputs": [
        {
          "output_type": "execute_result",
          "data": {
            "text/plain": [
              "<tf.Tensor: shape=(), dtype=float32, numpy=8006.3154>"
            ]
          },
          "metadata": {},
          "execution_count": 40
        }
      ]
    },
    {
      "cell_type": "code",
      "source": [
        "#Make sopme funcions to reuse MAE and MSE\n",
        "\n",
        "def mae(y_true,y_pred):\n",
        "  return tf.metrics.mean_absolute_error(y_true=y_true,\n",
        "                                        y_pred=y_pred)\n",
        "\n",
        "def mse(y_true,y_pred):\n",
        "  return tf.metrics.mean_squared_error(y_true=y_true, y_pred=y_pred)"
      ],
      "metadata": {
        "id": "52W-vfKxqEFS"
      },
      "execution_count": null,
      "outputs": []
    },
    {
      "cell_type": "markdown",
      "source": [
        "Running experiments to improve the model\n",
        "\n",
        "Model1: same as the original model, 1 layer, trained for 100 epochs\n",
        "\n",
        "Model2: 2 layers, trained for 100 epochs\n",
        "\n",
        "Moedl3: 2 layers, trained for 500 epochs"
      ],
      "metadata": {
        "id": "GnB7sNM-r-rt"
      }
    },
    {
      "cell_type": "code",
      "source": [
        "X_train,y_train\n"
      ],
      "metadata": {
        "colab": {
          "base_uri": "https://localhost:8080/"
        },
        "id": "jcj0hYoSq2IY",
        "outputId": "75437eab-a115-477e-f5e3-83fd48d98a55"
      },
      "execution_count": null,
      "outputs": [
        {
          "output_type": "execute_result",
          "data": {
            "text/plain": [
              "(<tf.Tensor: shape=(40,), dtype=int32, numpy=\n",
              " array([-100,  -96,  -92,  -88,  -84,  -80,  -76,  -72,  -68,  -64,  -60,\n",
              "         -56,  -52,  -48,  -44,  -40,  -36,  -32,  -28,  -24,  -20,  -16,\n",
              "         -12,   -8,   -4,    0,    4,    8,   12,   16,   20,   24,   28,\n",
              "          32,   36,   40,   44,   48,   52,   56], dtype=int32)>,\n",
              " <tf.Tensor: shape=(40,), dtype=int32, numpy=\n",
              " array([-90, -86, -82, -78, -74, -70, -66, -62, -58, -54, -50, -46, -42,\n",
              "        -38, -34, -30, -26, -22, -18, -14, -10,  -6,  -2,   2,   6,  10,\n",
              "         14,  18,  22,  26,  30,  34,  38,  42,  46,  50,  54,  58,  62,\n",
              "         66], dtype=int32)>)"
            ]
          },
          "metadata": {},
          "execution_count": 42
        }
      ]
    },
    {
      "cell_type": "code",
      "source": [
        "tf.random.set_seed(42)\n",
        "\n",
        "model_1 = tf.keras.Sequential([\n",
        "    tf.keras.layers.Dense(1)\n",
        "])\n",
        "\n",
        "model_1.compile(loss=tf.keras.losses.mae,\n",
        "                optimizer=tf.keras.optimizers.SGD(),\n",
        "                metrics=[\"mae\"])\n",
        "\n",
        "model_1.fit(tf.expand_dims(X_train,axis=-1),y_train,epochs=100)"
      ],
      "metadata": {
        "colab": {
          "base_uri": "https://localhost:8080/"
        },
        "id": "Pl9At15tu_s9",
        "outputId": "148be9f9-ffc1-4145-fa30-25d7269ce803"
      },
      "execution_count": null,
      "outputs": [
        {
          "output_type": "stream",
          "name": "stdout",
          "text": [
            "Epoch 1/100\n",
            "2/2 [==============================] - 0s 8ms/step - loss: 65.1895 - mae: 65.1895\n",
            "Epoch 2/100\n",
            "2/2 [==============================] - 0s 5ms/step - loss: 30.1103 - mae: 30.1103\n",
            "Epoch 3/100\n",
            "2/2 [==============================] - 0s 6ms/step - loss: 10.3295 - mae: 10.3295\n",
            "Epoch 4/100\n",
            "2/2 [==============================] - 0s 5ms/step - loss: 12.7421 - mae: 12.7421\n",
            "Epoch 5/100\n",
            "2/2 [==============================] - 0s 4ms/step - loss: 11.7869 - mae: 11.7869\n",
            "Epoch 6/100\n",
            "2/2 [==============================] - 0s 4ms/step - loss: 10.9041 - mae: 10.9041\n",
            "Epoch 7/100\n",
            "2/2 [==============================] - 0s 6ms/step - loss: 8.7160 - mae: 8.7160\n",
            "Epoch 8/100\n",
            "2/2 [==============================] - 0s 5ms/step - loss: 7.7559 - mae: 7.7559\n",
            "Epoch 9/100\n",
            "2/2 [==============================] - 0s 5ms/step - loss: 19.9703 - mae: 19.9703\n",
            "Epoch 10/100\n",
            "2/2 [==============================] - 0s 6ms/step - loss: 13.7276 - mae: 13.7276\n",
            "Epoch 11/100\n",
            "2/2 [==============================] - 0s 6ms/step - loss: 11.8062 - mae: 11.8062\n",
            "Epoch 12/100\n",
            "2/2 [==============================] - 0s 5ms/step - loss: 16.4026 - mae: 16.4026\n",
            "Epoch 13/100\n",
            "2/2 [==============================] - 0s 4ms/step - loss: 11.9453 - mae: 11.9453\n",
            "Epoch 14/100\n",
            "2/2 [==============================] - 0s 4ms/step - loss: 13.8705 - mae: 13.8705\n",
            "Epoch 15/100\n",
            "2/2 [==============================] - 0s 4ms/step - loss: 11.2588 - mae: 11.2588\n",
            "Epoch 16/100\n",
            "2/2 [==============================] - 0s 6ms/step - loss: 8.6048 - mae: 8.6048\n",
            "Epoch 17/100\n",
            "2/2 [==============================] - 0s 5ms/step - loss: 13.7662 - mae: 13.7662\n",
            "Epoch 18/100\n",
            "2/2 [==============================] - 0s 6ms/step - loss: 11.6224 - mae: 11.6224\n",
            "Epoch 19/100\n",
            "2/2 [==============================] - 0s 5ms/step - loss: 17.7581 - mae: 17.7581\n",
            "Epoch 20/100\n",
            "2/2 [==============================] - 0s 6ms/step - loss: 14.8939 - mae: 14.8939\n",
            "Epoch 21/100\n",
            "2/2 [==============================] - 0s 6ms/step - loss: 10.7973 - mae: 10.7973\n",
            "Epoch 22/100\n",
            "2/2 [==============================] - 0s 6ms/step - loss: 8.5413 - mae: 8.5413\n",
            "Epoch 23/100\n",
            "2/2 [==============================] - 0s 6ms/step - loss: 9.7852 - mae: 9.7852\n",
            "Epoch 24/100\n",
            "2/2 [==============================] - 0s 5ms/step - loss: 10.8995 - mae: 10.8995\n",
            "Epoch 25/100\n",
            "2/2 [==============================] - 0s 6ms/step - loss: 9.1485 - mae: 9.1485\n",
            "Epoch 26/100\n",
            "2/2 [==============================] - 0s 5ms/step - loss: 13.1312 - mae: 13.1312\n",
            "Epoch 27/100\n",
            "2/2 [==============================] - 0s 5ms/step - loss: 10.4482 - mae: 10.4482\n",
            "Epoch 28/100\n",
            "2/2 [==============================] - 0s 6ms/step - loss: 13.4750 - mae: 13.4750\n",
            "Epoch 29/100\n",
            "2/2 [==============================] - 0s 5ms/step - loss: 9.6402 - mae: 9.6402\n",
            "Epoch 30/100\n",
            "2/2 [==============================] - 0s 5ms/step - loss: 17.3205 - mae: 17.3205\n",
            "Epoch 31/100\n",
            "2/2 [==============================] - 0s 7ms/step - loss: 22.7667 - mae: 22.7667\n",
            "Epoch 32/100\n",
            "2/2 [==============================] - 0s 5ms/step - loss: 7.9338 - mae: 7.9338\n",
            "Epoch 33/100\n",
            "2/2 [==============================] - 0s 7ms/step - loss: 14.2199 - mae: 14.2199\n",
            "Epoch 34/100\n",
            "2/2 [==============================] - 0s 5ms/step - loss: 12.4834 - mae: 12.4834\n",
            "Epoch 35/100\n",
            "2/2 [==============================] - 0s 7ms/step - loss: 8.2513 - mae: 8.2513\n",
            "Epoch 36/100\n",
            "2/2 [==============================] - 0s 5ms/step - loss: 10.4520 - mae: 10.4520\n",
            "Epoch 37/100\n",
            "2/2 [==============================] - 0s 5ms/step - loss: 10.1068 - mae: 10.1068\n",
            "Epoch 38/100\n",
            "2/2 [==============================] - 0s 4ms/step - loss: 11.2706 - mae: 11.2706\n",
            "Epoch 39/100\n",
            "2/2 [==============================] - 0s 4ms/step - loss: 14.8429 - mae: 14.8429\n",
            "Epoch 40/100\n",
            "2/2 [==============================] - 0s 4ms/step - loss: 12.9725 - mae: 12.9725\n",
            "Epoch 41/100\n",
            "2/2 [==============================] - 0s 4ms/step - loss: 9.3723 - mae: 9.3723\n",
            "Epoch 42/100\n",
            "2/2 [==============================] - 0s 4ms/step - loss: 10.9655 - mae: 10.9655\n",
            "Epoch 43/100\n",
            "2/2 [==============================] - 0s 4ms/step - loss: 8.3398 - mae: 8.3398\n",
            "Epoch 44/100\n",
            "2/2 [==============================] - 0s 4ms/step - loss: 12.9666 - mae: 12.9666\n",
            "Epoch 45/100\n",
            "2/2 [==============================] - 0s 8ms/step - loss: 13.7734 - mae: 13.7734\n",
            "Epoch 46/100\n",
            "2/2 [==============================] - 0s 6ms/step - loss: 8.4605 - mae: 8.4605\n",
            "Epoch 47/100\n",
            "2/2 [==============================] - 0s 5ms/step - loss: 9.1672 - mae: 9.1672\n",
            "Epoch 48/100\n",
            "2/2 [==============================] - 0s 5ms/step - loss: 10.6623 - mae: 10.6623\n",
            "Epoch 49/100\n",
            "2/2 [==============================] - 0s 5ms/step - loss: 7.7815 - mae: 7.7815\n",
            "Epoch 50/100\n",
            "2/2 [==============================] - 0s 6ms/step - loss: 9.5811 - mae: 9.5811\n",
            "Epoch 51/100\n",
            "2/2 [==============================] - 0s 5ms/step - loss: 9.1806 - mae: 9.1806\n",
            "Epoch 52/100\n",
            "2/2 [==============================] - 0s 4ms/step - loss: 16.4194 - mae: 16.4194\n",
            "Epoch 53/100\n",
            "2/2 [==============================] - 0s 4ms/step - loss: 14.1204 - mae: 14.1204\n",
            "Epoch 54/100\n",
            "2/2 [==============================] - 0s 4ms/step - loss: 21.0769 - mae: 21.0769\n",
            "Epoch 55/100\n",
            "2/2 [==============================] - 0s 4ms/step - loss: 16.4511 - mae: 16.4511\n",
            "Epoch 56/100\n",
            "2/2 [==============================] - 0s 4ms/step - loss: 9.9156 - mae: 9.9156\n",
            "Epoch 57/100\n",
            "2/2 [==============================] - 0s 5ms/step - loss: 9.6522 - mae: 9.6522\n",
            "Epoch 58/100\n",
            "2/2 [==============================] - 0s 4ms/step - loss: 8.9791 - mae: 8.9791\n",
            "Epoch 59/100\n",
            "2/2 [==============================] - 0s 5ms/step - loss: 10.1756 - mae: 10.1756\n",
            "Epoch 60/100\n",
            "2/2 [==============================] - 0s 5ms/step - loss: 8.4537 - mae: 8.4537\n",
            "Epoch 61/100\n",
            "2/2 [==============================] - 0s 6ms/step - loss: 9.3002 - mae: 9.3002\n",
            "Epoch 62/100\n",
            "2/2 [==============================] - 0s 6ms/step - loss: 7.0912 - mae: 7.0912\n",
            "Epoch 63/100\n",
            "2/2 [==============================] - 0s 5ms/step - loss: 8.6549 - mae: 8.6549\n",
            "Epoch 64/100\n",
            "2/2 [==============================] - 0s 4ms/step - loss: 9.2332 - mae: 9.2332\n",
            "Epoch 65/100\n",
            "2/2 [==============================] - 0s 4ms/step - loss: 10.4814 - mae: 10.4814\n",
            "Epoch 66/100\n",
            "2/2 [==============================] - 0s 4ms/step - loss: 15.6807 - mae: 15.6807\n",
            "Epoch 67/100\n",
            "2/2 [==============================] - 0s 5ms/step - loss: 10.0717 - mae: 10.0717\n",
            "Epoch 68/100\n",
            "2/2 [==============================] - 0s 4ms/step - loss: 9.0425 - mae: 9.0425\n",
            "Epoch 69/100\n",
            "2/2 [==============================] - 0s 4ms/step - loss: 12.5526 - mae: 12.5526\n",
            "Epoch 70/100\n",
            "2/2 [==============================] - 0s 10ms/step - loss: 8.9858 - mae: 8.9858\n",
            "Epoch 71/100\n",
            "2/2 [==============================] - 0s 7ms/step - loss: 9.9617 - mae: 9.9617\n",
            "Epoch 72/100\n",
            "2/2 [==============================] - 0s 4ms/step - loss: 9.9977 - mae: 9.9977\n",
            "Epoch 73/100\n",
            "2/2 [==============================] - 0s 4ms/step - loss: 12.4745 - mae: 12.4745\n",
            "Epoch 74/100\n",
            "2/2 [==============================] - 0s 5ms/step - loss: 10.5683 - mae: 10.5683\n",
            "Epoch 75/100\n",
            "2/2 [==============================] - 0s 5ms/step - loss: 9.6575 - mae: 9.6575\n",
            "Epoch 76/100\n",
            "2/2 [==============================] - 0s 5ms/step - loss: 11.1282 - mae: 11.1282\n",
            "Epoch 77/100\n",
            "2/2 [==============================] - 0s 5ms/step - loss: 8.3043 - mae: 8.3043\n",
            "Epoch 78/100\n",
            "2/2 [==============================] - 0s 5ms/step - loss: 9.0044 - mae: 9.0044\n",
            "Epoch 79/100\n",
            "2/2 [==============================] - 0s 5ms/step - loss: 19.7653 - mae: 19.7653\n",
            "Epoch 80/100\n",
            "2/2 [==============================] - 0s 5ms/step - loss: 17.8524 - mae: 17.8524\n",
            "Epoch 81/100\n",
            "2/2 [==============================] - 0s 5ms/step - loss: 7.0850 - mae: 7.0850\n",
            "Epoch 82/100\n",
            "2/2 [==============================] - 0s 4ms/step - loss: 10.4376 - mae: 10.4376\n",
            "Epoch 83/100\n",
            "2/2 [==============================] - 0s 6ms/step - loss: 9.8643 - mae: 9.8643\n",
            "Epoch 84/100\n",
            "2/2 [==============================] - 0s 6ms/step - loss: 7.9452 - mae: 7.9452\n",
            "Epoch 85/100\n",
            "2/2 [==============================] - 0s 5ms/step - loss: 9.4487 - mae: 9.4487\n",
            "Epoch 86/100\n",
            "2/2 [==============================] - 0s 6ms/step - loss: 9.2696 - mae: 9.2696\n",
            "Epoch 87/100\n",
            "2/2 [==============================] - 0s 6ms/step - loss: 12.0571 - mae: 12.0571\n",
            "Epoch 88/100\n",
            "2/2 [==============================] - 0s 6ms/step - loss: 10.6775 - mae: 10.6775\n",
            "Epoch 89/100\n",
            "2/2 [==============================] - 0s 5ms/step - loss: 7.2813 - mae: 7.2813\n",
            "Epoch 90/100\n",
            "2/2 [==============================] - 0s 5ms/step - loss: 12.8204 - mae: 12.8204\n",
            "Epoch 91/100\n",
            "2/2 [==============================] - 0s 5ms/step - loss: 7.4954 - mae: 7.4954\n",
            "Epoch 92/100\n",
            "2/2 [==============================] - 0s 5ms/step - loss: 6.7642 - mae: 6.7642\n",
            "Epoch 93/100\n",
            "2/2 [==============================] - 0s 5ms/step - loss: 11.9703 - mae: 11.9703\n",
            "Epoch 94/100\n",
            "2/2 [==============================] - 0s 4ms/step - loss: 8.9005 - mae: 8.9005\n",
            "Epoch 95/100\n",
            "2/2 [==============================] - 0s 5ms/step - loss: 7.7383 - mae: 7.7383\n",
            "Epoch 96/100\n",
            "2/2 [==============================] - 0s 8ms/step - loss: 6.7643 - mae: 6.7643\n",
            "Epoch 97/100\n",
            "2/2 [==============================] - 0s 5ms/step - loss: 8.6538 - mae: 8.6538\n",
            "Epoch 98/100\n",
            "2/2 [==============================] - 0s 6ms/step - loss: 9.3998 - mae: 9.3998\n",
            "Epoch 99/100\n",
            "2/2 [==============================] - 0s 5ms/step - loss: 9.1363 - mae: 9.1363\n",
            "Epoch 100/100\n",
            "2/2 [==============================] - 0s 5ms/step - loss: 10.4908 - mae: 10.4908\n"
          ]
        },
        {
          "output_type": "execute_result",
          "data": {
            "text/plain": [
              "<keras.callbacks.History at 0x7f9ca5411d20>"
            ]
          },
          "metadata": {},
          "execution_count": 43
        }
      ]
    },
    {
      "cell_type": "code",
      "source": [
        "#Make and plot prediction for model_1\n",
        "\n",
        "y_preds_1 = model_1.predict(X_test)\n",
        "plot_predictions(predictions=y_preds_1)"
      ],
      "metadata": {
        "colab": {
          "base_uri": "https://localhost:8080/",
          "height": 523
        },
        "id": "NS1GvW2LwHu2",
        "outputId": "c6853ae1-c9eb-4053-c645-2bd0d621f584"
      },
      "execution_count": null,
      "outputs": [
        {
          "output_type": "stream",
          "name": "stderr",
          "text": [
            "WARNING:tensorflow:5 out of the last 5 calls to <function Model.make_predict_function.<locals>.predict_function at 0x7f9c9fc51120> triggered tf.function retracing. Tracing is expensive and the excessive number of tracings could be due to (1) creating @tf.function repeatedly in a loop, (2) passing tensors with different shapes, (3) passing Python objects instead of tensors. For (1), please define your @tf.function outside of the loop. For (2), @tf.function has reduce_retracing=True option that can avoid unnecessary retracing. For (3), please refer to https://www.tensorflow.org/guide/function#controlling_retracing and https://www.tensorflow.org/api_docs/python/tf/function for  more details.\n"
          ]
        },
        {
          "output_type": "stream",
          "name": "stdout",
          "text": [
            "1/1 [==============================] - 0s 37ms/step\n"
          ]
        },
        {
          "output_type": "display_data",
          "data": {
            "text/plain": [
              "<Figure size 1000x700 with 1 Axes>"
            ],
            "image/png": "[encoded data removed]"
          },
          "metadata": {}
        }
      ]
    },
    {
      "cell_type": "code",
      "source": [
        "tf.constant(y_preds_1), tf.squeeze(y_preds_1)"
      ],
      "metadata": {
        "colab": {
          "base_uri": "https://localhost:8080/"
        },
        "id": "1KXM8K4AbCGS",
        "outputId": "c7af2963-0718-4c7a-e970-6a6ed959ab42"
      },
      "execution_count": null,
      "outputs": [
        {
          "output_type": "execute_result",
          "data": {
            "text/plain": [
              "(<tf.Tensor: shape=(10, 1), dtype=float32, numpy=\n",
              " array([[56.474304],\n",
              "        [60.153885],\n",
              "        [63.833466],\n",
              "        [67.51305 ],\n",
              "        [71.19262 ],\n",
              "        [74.8722  ],\n",
              "        [78.55178 ],\n",
              "        [82.23135 ],\n",
              "        [85.910934],\n",
              "        [89.590515]], dtype=float32)>,\n",
              " <tf.Tensor: shape=(10,), dtype=float32, numpy=\n",
              " array([56.474304, 60.153885, 63.833466, 67.51305 , 71.19262 , 74.8722  ,\n",
              "        78.55178 , 82.23135 , 85.910934, 89.590515], dtype=float32)>)"
            ]
          },
          "metadata": {},
          "execution_count": 47
        }
      ]
    },
    {
      "cell_type": "code",
      "source": [
        "#calculate model_1 evaluation matrics\n",
        "mae_1 = tf.metrics.mean_absolute_error(y_test, tf.squeeze(y_preds_1))\n",
        "mse_1 = tf.metrics.mean_squared_error(y_test, y_preds_1)\n",
        "mae_1, mse_1"
      ],
      "metadata": {
        "colab": {
          "base_uri": "https://localhost:8080/"
        },
        "id": "y5cYCwYtxNyF",
        "outputId": "3f274d1f-5543-42ba-c46f-28f81bf3ddb9"
      },
      "execution_count": null,
      "outputs": [
        {
          "output_type": "execute_result",
          "data": {
            "text/plain": [
              "(<tf.Tensor: shape=(), dtype=float32, numpy=14.96759>,\n",
              " <tf.Tensor: shape=(10,), dtype=float32, numpy=\n",
              " array([1125.8695 ,  907.40607,  716.02136,  551.7153 ,  414.4881 ,\n",
              "         304.33914,  221.26884,  165.27728,  136.3642 ,  134.52974],\n",
              "       dtype=float32)>)"
            ]
          },
          "metadata": {},
          "execution_count": 45
        }
      ]
    },
    {
      "cell_type": "markdown",
      "source": [
        "Build model 2"
      ],
      "metadata": {
        "id": "ZIgQfLvhb2u8"
      }
    },
    {
      "cell_type": "code",
      "source": [
        "tf.random.set_seed(42)\n",
        "\n",
        "model_2 = tf.keras.Sequential([\n",
        "    tf.keras.layers.Dense(1000),\n",
        "    tf.keras.layers.Dense(1)\n",
        "])\n",
        "\n",
        "model_2.compile(loss=tf.keras.losses.mae,\n",
        "                optimizer = tf.keras.optimizers.SGD(),\n",
        "                metrics=[\"mse\"])\n",
        "\n",
        "model_2.fit(tf.expand_dims(X_train, axis = -1), y_train, epochs=100)"
      ],
      "metadata": {
        "id": "r_3cQk6YxxHx",
        "colab": {
          "base_uri": "https://localhost:8080/"
        },
        "outputId": "7421e335-4b31-4bfe-cc5e-fae09eeadf5e"
      },
      "execution_count": null,
      "outputs": [
        {
          "output_type": "stream",
          "name": "stdout",
          "text": [
            "Epoch 1/100\n",
            "2/2 [==============================] - 0s 9ms/step - loss: 42.8480 - mse: 2568.3811\n",
            "Epoch 2/100\n",
            "2/2 [==============================] - 0s 5ms/step - loss: 32.5638 - mse: 1438.3138\n",
            "Epoch 3/100\n",
            "2/2 [==============================] - 0s 6ms/step - loss: 36.8335 - mse: 2039.6342\n",
            "Epoch 4/100\n",
            "2/2 [==============================] - 0s 5ms/step - loss: 27.2618 - mse: 1083.6084\n",
            "Epoch 5/100\n",
            "2/2 [==============================] - 0s 5ms/step - loss: 14.8927 - mse: 277.4853\n",
            "Epoch 6/100\n",
            "2/2 [==============================] - 0s 5ms/step - loss: 11.8599 - mse: 166.8650\n",
            "Epoch 7/100\n",
            "2/2 [==============================] - 0s 5ms/step - loss: 11.2074 - mse: 152.3467\n",
            "Epoch 8/100\n",
            "2/2 [==============================] - 0s 5ms/step - loss: 11.1343 - mse: 161.0187\n",
            "Epoch 9/100\n",
            "2/2 [==============================] - 0s 4ms/step - loss: 40.7643 - mse: 2625.9888\n",
            "Epoch 10/100\n",
            "2/2 [==============================] - 0s 4ms/step - loss: 28.1196 - mse: 1114.7686\n",
            "Epoch 11/100\n",
            "2/2 [==============================] - 0s 4ms/step - loss: 10.2554 - mse: 149.1293\n",
            "Epoch 12/100\n",
            "2/2 [==============================] - 0s 6ms/step - loss: 25.2441 - mse: 888.5085\n",
            "Epoch 13/100\n",
            "2/2 [==============================] - 0s 5ms/step - loss: 17.1146 - mse: 407.3197\n",
            "Epoch 14/100\n",
            "2/2 [==============================] - 0s 4ms/step - loss: 26.1465 - mse: 1070.0165\n",
            "Epoch 15/100\n",
            "2/2 [==============================] - 0s 4ms/step - loss: 18.1784 - mse: 459.4329\n",
            "Epoch 16/100\n",
            "2/2 [==============================] - 0s 4ms/step - loss: 7.8646 - mse: 89.4018\n",
            "Epoch 17/100\n",
            "2/2 [==============================] - 0s 6ms/step - loss: 22.2917 - mse: 688.9418\n",
            "Epoch 18/100\n",
            "2/2 [==============================] - 0s 6ms/step - loss: 10.8527 - mse: 173.6277\n",
            "Epoch 19/100\n",
            "2/2 [==============================] - 0s 4ms/step - loss: 10.7415 - mse: 140.4871\n",
            "Epoch 20/100\n",
            "2/2 [==============================] - 0s 4ms/step - loss: 12.0627 - mse: 166.0556\n",
            "Epoch 21/100\n",
            "2/2 [==============================] - 0s 4ms/step - loss: 20.2027 - mse: 592.9028\n",
            "Epoch 22/100\n",
            "2/2 [==============================] - 0s 4ms/step - loss: 13.8204 - mse: 244.7118\n",
            "Epoch 23/100\n",
            "2/2 [==============================] - 0s 4ms/step - loss: 9.5563 - mse: 95.2892\n",
            "Epoch 24/100\n",
            "2/2 [==============================] - 0s 4ms/step - loss: 11.9142 - mse: 164.3471\n",
            "Epoch 25/100\n",
            "2/2 [==============================] - 0s 4ms/step - loss: 16.2452 - mse: 386.6669\n",
            "Epoch 26/100\n",
            "2/2 [==============================] - 0s 4ms/step - loss: 16.4363 - mse: 376.2611\n",
            "Epoch 27/100\n",
            "2/2 [==============================] - 0s 4ms/step - loss: 11.6006 - mse: 182.4660\n",
            "Epoch 28/100\n",
            "2/2 [==============================] - 0s 4ms/step - loss: 30.0462 - mse: 1472.3672\n",
            "Epoch 29/100\n",
            "2/2 [==============================] - 0s 5ms/step - loss: 9.2558 - mse: 92.5531\n",
            "Epoch 30/100\n",
            "2/2 [==============================] - 0s 5ms/step - loss: 30.5782 - mse: 1716.3248\n",
            "Epoch 31/100\n",
            "2/2 [==============================] - 0s 5ms/step - loss: 55.5938 - mse: 5545.1270\n",
            "Epoch 32/100\n",
            "2/2 [==============================] - 0s 6ms/step - loss: 9.7435 - mse: 103.6136\n",
            "Epoch 33/100\n",
            "2/2 [==============================] - 0s 4ms/step - loss: 12.3636 - mse: 195.6727\n",
            "Epoch 34/100\n",
            "2/2 [==============================] - 0s 4ms/step - loss: 24.7523 - mse: 932.0420\n",
            "Epoch 35/100\n",
            "2/2 [==============================] - 0s 5ms/step - loss: 11.9162 - mse: 211.8036\n",
            "Epoch 36/100\n",
            "2/2 [==============================] - 0s 4ms/step - loss: 22.0840 - mse: 694.7416\n",
            "Epoch 37/100\n",
            "2/2 [==============================] - 0s 4ms/step - loss: 17.5947 - mse: 442.6670\n",
            "Epoch 38/100\n",
            "2/2 [==============================] - 0s 4ms/step - loss: 10.7450 - mse: 134.1876\n",
            "Epoch 39/100\n",
            "2/2 [==============================] - 0s 4ms/step - loss: 11.2616 - mse: 167.8212\n",
            "Epoch 40/100\n",
            "2/2 [==============================] - 0s 4ms/step - loss: 18.2637 - mse: 481.6074\n",
            "Epoch 41/100\n",
            "2/2 [==============================] - 0s 5ms/step - loss: 10.5154 - mse: 181.7853\n",
            "Epoch 42/100\n",
            "2/2 [==============================] - 0s 6ms/step - loss: 7.8481 - mse: 83.2031\n",
            "Epoch 43/100\n",
            "2/2 [==============================] - 0s 4ms/step - loss: 14.2348 - mse: 292.3209\n",
            "Epoch 44/100\n",
            "2/2 [==============================] - 0s 4ms/step - loss: 25.0215 - mse: 993.9205\n",
            "Epoch 45/100\n",
            "2/2 [==============================] - 0s 4ms/step - loss: 10.9737 - mse: 138.4312\n",
            "Epoch 46/100\n",
            "2/2 [==============================] - 0s 4ms/step - loss: 13.0874 - mse: 245.6655\n",
            "Epoch 47/100\n",
            "2/2 [==============================] - 0s 4ms/step - loss: 10.4249 - mse: 172.0959\n",
            "Epoch 48/100\n",
            "2/2 [==============================] - 0s 4ms/step - loss: 17.1303 - mse: 397.7836\n",
            "Epoch 49/100\n",
            "2/2 [==============================] - 0s 4ms/step - loss: 9.6449 - mse: 101.5114\n",
            "Epoch 50/100\n",
            "2/2 [==============================] - 0s 4ms/step - loss: 13.9445 - mse: 267.6323\n",
            "Epoch 51/100\n",
            "2/2 [==============================] - 0s 5ms/step - loss: 11.6455 - mse: 156.9796\n",
            "Epoch 52/100\n",
            "2/2 [==============================] - 0s 6ms/step - loss: 30.8626 - mse: 1649.2301\n",
            "Epoch 53/100\n",
            "2/2 [==============================] - 0s 4ms/step - loss: 14.4904 - mse: 309.2083\n",
            "Epoch 54/100\n",
            "2/2 [==============================] - 0s 10ms/step - loss: 24.2096 - mse: 878.4862\n",
            "Epoch 55/100\n",
            "2/2 [==============================] - 0s 5ms/step - loss: 23.4542 - mse: 824.9122\n",
            "Epoch 56/100\n",
            "2/2 [==============================] - 0s 5ms/step - loss: 10.9697 - mse: 170.8446\n",
            "Epoch 57/100\n",
            "2/2 [==============================] - 0s 3ms/step - loss: 12.8602 - mse: 203.2713\n",
            "Epoch 58/100\n",
            "2/2 [==============================] - 0s 4ms/step - loss: 9.6655 - mse: 103.5592\n",
            "Epoch 59/100\n",
            "2/2 [==============================] - 0s 4ms/step - loss: 13.0255 - mse: 234.1818\n",
            "Epoch 60/100\n",
            "2/2 [==============================] - 0s 4ms/step - loss: 10.7037 - mse: 133.7659\n",
            "Epoch 61/100\n",
            "2/2 [==============================] - 0s 4ms/step - loss: 13.2375 - mse: 229.0588\n",
            "Epoch 62/100\n",
            "2/2 [==============================] - 0s 5ms/step - loss: 17.0647 - mse: 443.4108\n",
            "Epoch 63/100\n",
            "2/2 [==============================] - 0s 4ms/step - loss: 9.0557 - mse: 87.4832\n",
            "Epoch 64/100\n",
            "2/2 [==============================] - 0s 5ms/step - loss: 17.7105 - mse: 454.4975\n",
            "Epoch 65/100\n",
            "2/2 [==============================] - 0s 4ms/step - loss: 10.5279 - mse: 133.7417\n",
            "Epoch 66/100\n",
            "2/2 [==============================] - 0s 4ms/step - loss: 21.1919 - mse: 662.3595\n",
            "Epoch 67/100\n",
            "2/2 [==============================] - 0s 5ms/step - loss: 10.5230 - mse: 129.0099\n",
            "Epoch 68/100\n",
            "2/2 [==============================] - 0s 6ms/step - loss: 14.3608 - mse: 310.9163\n",
            "Epoch 69/100\n",
            "2/2 [==============================] - 0s 4ms/step - loss: 10.6119 - mse: 129.1094\n",
            "Epoch 70/100\n",
            "2/2 [==============================] - 0s 4ms/step - loss: 12.6959 - mse: 204.8670\n",
            "Epoch 71/100\n",
            "2/2 [==============================] - 0s 4ms/step - loss: 13.1243 - mse: 232.0589\n",
            "Epoch 72/100\n",
            "2/2 [==============================] - 0s 5ms/step - loss: 19.6133 - mse: 546.2123\n",
            "Epoch 73/100\n",
            "2/2 [==============================] - 0s 5ms/step - loss: 11.1944 - mse: 191.4892\n",
            "Epoch 74/100\n",
            "2/2 [==============================] - 0s 5ms/step - loss: 21.8915 - mse: 745.8961\n",
            "Epoch 75/100\n",
            "2/2 [==============================] - 0s 5ms/step - loss: 7.1995 - mse: 71.5096\n",
            "Epoch 76/100\n",
            "2/2 [==============================] - 0s 5ms/step - loss: 9.4229 - mse: 149.7711\n",
            "Epoch 77/100\n",
            "2/2 [==============================] - 0s 5ms/step - loss: 22.0573 - mse: 727.2349\n",
            "Epoch 78/100\n",
            "2/2 [==============================] - 0s 5ms/step - loss: 17.6835 - mse: 475.0311\n",
            "Epoch 79/100\n",
            "2/2 [==============================] - 0s 4ms/step - loss: 14.8528 - mse: 322.9660\n",
            "Epoch 80/100\n",
            "2/2 [==============================] - 0s 5ms/step - loss: 25.1614 - mse: 966.1168\n",
            "Epoch 81/100\n",
            "2/2 [==============================] - 0s 6ms/step - loss: 10.9233 - mse: 141.1969\n",
            "Epoch 82/100\n",
            "2/2 [==============================] - 0s 4ms/step - loss: 12.7488 - mse: 232.2533\n",
            "Epoch 83/100\n",
            "2/2 [==============================] - 0s 5ms/step - loss: 17.5212 - mse: 400.2483\n",
            "Epoch 84/100\n",
            "2/2 [==============================] - 0s 4ms/step - loss: 7.2899 - mse: 73.2229\n",
            "Epoch 85/100\n",
            "2/2 [==============================] - 0s 4ms/step - loss: 15.0424 - mse: 315.8402\n",
            "Epoch 86/100\n",
            "2/2 [==============================] - 0s 4ms/step - loss: 15.3489 - mse: 317.0287\n",
            "Epoch 87/100\n",
            "2/2 [==============================] - 0s 4ms/step - loss: 19.2310 - mse: 526.8331\n",
            "Epoch 88/100\n",
            "2/2 [==============================] - 0s 5ms/step - loss: 29.5049 - mse: 1257.9723\n",
            "Epoch 89/100\n",
            "2/2 [==============================] - 0s 5ms/step - loss: 10.1367 - mse: 124.2226\n",
            "Epoch 90/100\n",
            "2/2 [==============================] - 0s 4ms/step - loss: 21.2610 - mse: 647.3774\n",
            "Epoch 91/100\n",
            "2/2 [==============================] - 0s 4ms/step - loss: 10.5166 - mse: 163.0342\n",
            "Epoch 92/100\n",
            "2/2 [==============================] - 0s 5ms/step - loss: 18.1605 - mse: 451.5735\n",
            "Epoch 93/100\n",
            "2/2 [==============================] - 0s 4ms/step - loss: 6.5468 - mse: 60.6377\n",
            "Epoch 94/100\n",
            "2/2 [==============================] - 0s 3ms/step - loss: 11.1749 - mse: 155.6883\n",
            "Epoch 95/100\n",
            "2/2 [==============================] - 0s 3ms/step - loss: 24.6042 - mse: 909.2969\n",
            "Epoch 96/100\n",
            "2/2 [==============================] - 0s 4ms/step - loss: 10.7846 - mse: 171.7672\n",
            "Epoch 97/100\n",
            "2/2 [==============================] - 0s 5ms/step - loss: 15.5132 - mse: 365.2334\n",
            "Epoch 98/100\n",
            "2/2 [==============================] - 0s 4ms/step - loss: 9.0535 - mse: 143.6211\n",
            "Epoch 99/100\n",
            "2/2 [==============================] - 0s 4ms/step - loss: 10.8701 - mse: 139.0061\n",
            "Epoch 100/100\n",
            "2/2 [==============================] - 0s 4ms/step - loss: 27.1214 - mse: 1121.9583\n"
          ]
        },
        {
          "output_type": "execute_result",
          "data": {
            "text/plain": [
              "<keras.callbacks.History at 0x7f9c9dc9f250>"
            ]
          },
          "metadata": {},
          "execution_count": 54
        }
      ]
    },
    {
      "cell_type": "code",
      "source": [
        "#make and plot predictions of model_2\n",
        "y_preds_2 = model_2.predict(X_test)\n",
        "plot_predictions(predictions = y_preds_2)"
      ],
      "metadata": {
        "colab": {
          "base_uri": "https://localhost:8080/",
          "height": 480
        },
        "id": "tZSvjAQbdQEG",
        "outputId": "28a37b85-fbde-449d-f3ca-58410fd38507"
      },
      "execution_count": null,
      "outputs": [
        {
          "output_type": "stream",
          "name": "stdout",
          "text": [
            "1/1 [==============================] - 0s 38ms/step\n"
          ]
        },
        {
          "output_type": "display_data",
          "data": {
            "text/plain": [
              "<Figure size 1000x700 with 1 Axes>"
            ],
            "image/png": "[encoded data removed]"
          },
          "metadata": {}
        }
      ]
    },
    {
      "cell_type": "code",
      "source": [
        "#calculate model 2 evaluation metrics\n",
        "mae_2 = mae(y_test, y_preds_2)\n",
        "mse_2 = mse(y_test, y_preds_2)\n",
        "mae_2, mse_2"
      ],
      "metadata": {
        "colab": {
          "base_uri": "https://localhost:8080/"
        },
        "id": "ax_T3cCKdmpk",
        "outputId": "9d8f2354-5e99-4aac-8deb-6908aa07d318"
      },
      "execution_count": null,
      "outputs": [
        {
          "output_type": "execute_result",
          "data": {
            "text/plain": [
              "(<tf.Tensor: shape=(10,), dtype=float32, numpy=\n",
              " array([13.656282 , 11.2598295, 10.041066 , 10.1477785, 11.4732485,\n",
              "        13.976415 , 17.657276 , 22.515831 , 27.460068 , 32.40429  ],\n",
              "       dtype=float32)>,\n",
              " <tf.Tensor: shape=(10,), dtype=float32, numpy=\n",
              " array([ 278.26007,  183.11642,  136.86348,  139.50153,  191.03033,\n",
              "         291.45016,  440.7609 ,  638.96265,  886.0553 , 1182.0378 ],\n",
              "       dtype=float32)>)"
            ]
          },
          "metadata": {},
          "execution_count": 58
        }
      ]
    },
    {
      "cell_type": "code",
      "source": [
        "#model_3\n",
        "tf.random.set_seed(42)\n",
        "\n",
        "model_3 = tf.keras.Sequential([\n",
        "    tf.keras.layers.Dense(1000),\n",
        "    tf.keras.layers.Dense(1)\n",
        "])\n",
        "\n",
        "model_3.compile(loss = tf.keras.losses.mae,\n",
        "                optimizer = tf.keras.optimizers.SGD(),\n",
        "                metrics=[\"mse\"])\n",
        "model_3.fit(tf.expand_dims(X_train, axis=-1), y_train, epochs=500)"
      ],
      "metadata": {
        "colab": {
          "base_uri": "https://localhost:8080/"
        },
        "id": "WUt1kySnehaS",
        "outputId": "da0f755f-5a08-4c98-d8bf-922ef946fe27"
      },
      "execution_count": null,
      "outputs": [
        {
          "output_type": "stream",
          "name": "stdout",
          "text": [
            "Epoch 1/500\n",
            "2/2 [==============================] - 0s 10ms/step - loss: 40.4139 - mse: 2266.3879\n",
            "Epoch 2/500\n",
            "2/2 [==============================] - 0s 7ms/step - loss: 31.0510 - mse: 1287.6904\n",
            "Epoch 3/500\n",
            "2/2 [==============================] - 0s 6ms/step - loss: 36.0311 - mse: 1954.0505\n",
            "Epoch 4/500\n",
            "2/2 [==============================] - 0s 8ms/step - loss: 27.7017 - mse: 1122.8198\n",
            "Epoch 5/500\n",
            "2/2 [==============================] - 0s 6ms/step - loss: 15.0994 - mse: 287.7533\n",
            "Epoch 6/500\n",
            "2/2 [==============================] - 0s 6ms/step - loss: 12.0093 - mse: 174.2230\n",
            "Epoch 7/500\n",
            "2/2 [==============================] - 0s 6ms/step - loss: 11.3355 - mse: 155.8387\n",
            "Epoch 8/500\n",
            "2/2 [==============================] - 0s 6ms/step - loss: 11.1717 - mse: 167.4236\n",
            "Epoch 9/500\n",
            "2/2 [==============================] - 0s 5ms/step - loss: 41.2781 - mse: 2703.9438\n",
            "Epoch 10/500\n",
            "2/2 [==============================] - 0s 6ms/step - loss: 28.5678 - mse: 1152.0201\n",
            "Epoch 11/500\n",
            "2/2 [==============================] - 0s 5ms/step - loss: 9.4018 - mse: 118.5273\n",
            "Epoch 12/500\n",
            "2/2 [==============================] - 0s 6ms/step - loss: 26.3148 - mse: 957.9620\n",
            "Epoch 13/500\n",
            "2/2 [==============================] - 0s 12ms/step - loss: 14.4606 - mse: 279.6531\n",
            "Epoch 14/500\n",
            "2/2 [==============================] - 0s 6ms/step - loss: 29.8799 - mse: 1426.2098\n",
            "Epoch 15/500\n",
            "2/2 [==============================] - 0s 7ms/step - loss: 19.7333 - mse: 544.8564\n",
            "Epoch 16/500\n",
            "2/2 [==============================] - 0s 6ms/step - loss: 9.8481 - mse: 126.4332\n",
            "Epoch 17/500\n",
            "2/2 [==============================] - 0s 11ms/step - loss: 17.6611 - mse: 411.6487\n",
            "Epoch 18/500\n",
            "2/2 [==============================] - 0s 6ms/step - loss: 14.1325 - mse: 314.7669\n",
            "Epoch 19/500\n",
            "2/2 [==============================] - 0s 7ms/step - loss: 13.9726 - mse: 304.1966\n",
            "Epoch 20/500\n",
            "2/2 [==============================] - 0s 7ms/step - loss: 11.2187 - mse: 146.6034\n",
            "Epoch 21/500\n",
            "2/2 [==============================] - 0s 6ms/step - loss: 17.2914 - mse: 423.4440\n",
            "Epoch 22/500\n",
            "2/2 [==============================] - 0s 6ms/step - loss: 15.5286 - mse: 332.1637\n",
            "Epoch 23/500\n",
            "2/2 [==============================] - 0s 6ms/step - loss: 9.2444 - mse: 118.7626\n",
            "Epoch 24/500\n",
            "2/2 [==============================] - 0s 14ms/step - loss: 17.2648 - mse: 408.4525\n",
            "Epoch 25/500\n",
            "2/2 [==============================] - 0s 8ms/step - loss: 15.9408 - mse: 333.8553\n",
            "Epoch 26/500\n",
            "2/2 [==============================] - 0s 6ms/step - loss: 20.9307 - mse: 649.3531\n",
            "Epoch 27/500\n",
            "2/2 [==============================] - 0s 6ms/step - loss: 25.9647 - mse: 1051.8923\n",
            "Epoch 28/500\n",
            "2/2 [==============================] - 0s 7ms/step - loss: 18.4629 - mse: 539.5428\n",
            "Epoch 29/500\n",
            "2/2 [==============================] - 0s 6ms/step - loss: 9.2482 - mse: 97.7832\n",
            "Epoch 30/500\n",
            "2/2 [==============================] - 0s 6ms/step - loss: 29.0740 - mse: 1510.0510\n",
            "Epoch 31/500\n",
            "2/2 [==============================] - 0s 7ms/step - loss: 52.6579 - mse: 4958.1318\n",
            "Epoch 32/500\n",
            "2/2 [==============================] - 0s 7ms/step - loss: 11.9274 - mse: 206.8128\n",
            "Epoch 33/500\n",
            "2/2 [==============================] - 0s 6ms/step - loss: 15.5142 - mse: 331.5879\n",
            "Epoch 34/500\n",
            "2/2 [==============================] - 0s 9ms/step - loss: 12.6112 - mse: 209.6978\n",
            "Epoch 35/500\n",
            "2/2 [==============================] - 0s 8ms/step - loss: 9.2059 - mse: 91.7769\n",
            "Epoch 36/500\n",
            "2/2 [==============================] - 0s 13ms/step - loss: 16.4936 - mse: 395.3405\n",
            "Epoch 37/500\n",
            "2/2 [==============================] - 0s 6ms/step - loss: 11.0853 - mse: 192.3263\n",
            "Epoch 38/500\n",
            "2/2 [==============================] - 0s 7ms/step - loss: 18.2142 - mse: 437.0736\n",
            "Epoch 39/500\n",
            "2/2 [==============================] - 0s 6ms/step - loss: 19.1470 - mse: 533.8101\n",
            "Epoch 40/500\n",
            "2/2 [==============================] - 0s 7ms/step - loss: 20.5140 - mse: 614.6609\n",
            "Epoch 41/500\n",
            "2/2 [==============================] - 0s 7ms/step - loss: 14.8152 - mse: 274.5402\n",
            "Epoch 42/500\n",
            "2/2 [==============================] - 0s 8ms/step - loss: 12.2096 - mse: 182.2637\n",
            "Epoch 43/500\n",
            "2/2 [==============================] - 0s 6ms/step - loss: 10.7009 - mse: 163.1840\n",
            "Epoch 44/500\n",
            "2/2 [==============================] - 0s 5ms/step - loss: 32.2685 - mse: 1712.5945\n",
            "Epoch 45/500\n",
            "2/2 [==============================] - 0s 5ms/step - loss: 12.4744 - mse: 201.8226\n",
            "Epoch 46/500\n",
            "2/2 [==============================] - 0s 6ms/step - loss: 17.5166 - mse: 459.7491\n",
            "Epoch 47/500\n",
            "2/2 [==============================] - 0s 7ms/step - loss: 15.7594 - mse: 339.4244\n",
            "Epoch 48/500\n",
            "2/2 [==============================] - 0s 5ms/step - loss: 8.3802 - mse: 112.8403\n",
            "Epoch 49/500\n",
            "2/2 [==============================] - 0s 6ms/step - loss: 13.9915 - mse: 269.0008\n",
            "Epoch 50/500\n",
            "2/2 [==============================] - 0s 10ms/step - loss: 12.8311 - mse: 215.5606\n",
            "Epoch 51/500\n",
            "2/2 [==============================] - 0s 14ms/step - loss: 14.8420 - mse: 309.7248\n",
            "Epoch 52/500\n",
            "2/2 [==============================] - 0s 11ms/step - loss: 18.7278 - mse: 530.0034\n",
            "Epoch 53/500\n",
            "2/2 [==============================] - 0s 5ms/step - loss: 24.1782 - mse: 829.0032\n",
            "Epoch 54/500\n",
            "2/2 [==============================] - 0s 6ms/step - loss: 23.1581 - mse: 803.1183\n",
            "Epoch 55/500\n",
            "2/2 [==============================] - 0s 6ms/step - loss: 24.0069 - mse: 867.0748\n",
            "Epoch 56/500\n",
            "2/2 [==============================] - 0s 7ms/step - loss: 11.1579 - mse: 171.1814\n",
            "Epoch 57/500\n",
            "2/2 [==============================] - 0s 8ms/step - loss: 13.1083 - mse: 213.5400\n",
            "Epoch 58/500\n",
            "2/2 [==============================] - 0s 8ms/step - loss: 9.8079 - mse: 106.1659\n",
            "Epoch 59/500\n",
            "2/2 [==============================] - 0s 8ms/step - loss: 13.2894 - mse: 248.2644\n",
            "Epoch 60/500\n",
            "2/2 [==============================] - 0s 9ms/step - loss: 10.8638 - mse: 138.9426\n",
            "Epoch 61/500\n",
            "2/2 [==============================] - 0s 10ms/step - loss: 13.4573 - mse: 240.5881\n",
            "Epoch 62/500\n",
            "2/2 [==============================] - 0s 8ms/step - loss: 17.4608 - mse: 465.1007\n",
            "Epoch 63/500\n",
            "2/2 [==============================] - 0s 8ms/step - loss: 9.1561 - mse: 87.7548\n",
            "Epoch 64/500\n",
            "2/2 [==============================] - 0s 8ms/step - loss: 18.3309 - mse: 488.4579\n",
            "Epoch 65/500\n",
            "2/2 [==============================] - 0s 9ms/step - loss: 10.1108 - mse: 114.5539\n",
            "Epoch 66/500\n",
            "2/2 [==============================] - 0s 8ms/step - loss: 24.1775 - mse: 881.5160\n",
            "Epoch 67/500\n",
            "2/2 [==============================] - 0s 9ms/step - loss: 10.8705 - mse: 141.8280\n",
            "Epoch 68/500\n",
            "2/2 [==============================] - 0s 7ms/step - loss: 10.7585 - mse: 157.6224\n",
            "Epoch 69/500\n",
            "2/2 [==============================] - 0s 9ms/step - loss: 23.1490 - mse: 774.1964\n",
            "Epoch 70/500\n",
            "2/2 [==============================] - 0s 7ms/step - loss: 8.8355 - mse: 143.1698\n",
            "Epoch 71/500\n",
            "2/2 [==============================] - 0s 7ms/step - loss: 16.0557 - mse: 351.5423\n",
            "Epoch 72/500\n",
            "2/2 [==============================] - 0s 9ms/step - loss: 7.7552 - mse: 91.4464\n",
            "Epoch 73/500\n",
            "2/2 [==============================] - 0s 7ms/step - loss: 10.1585 - mse: 165.4215\n",
            "Epoch 74/500\n",
            "2/2 [==============================] - 0s 8ms/step - loss: 28.3314 - mse: 1123.3514\n",
            "Epoch 75/500\n",
            "2/2 [==============================] - 0s 9ms/step - loss: 10.0156 - mse: 146.2632\n",
            "Epoch 76/500\n",
            "2/2 [==============================] - 0s 8ms/step - loss: 12.9312 - mse: 207.9951\n",
            "Epoch 77/500\n",
            "2/2 [==============================] - 0s 10ms/step - loss: 17.8899 - mse: 498.7365\n",
            "Epoch 78/500\n",
            "2/2 [==============================] - 0s 6ms/step - loss: 8.9680 - mse: 87.8994\n",
            "Epoch 79/500\n",
            "2/2 [==============================] - 0s 8ms/step - loss: 28.7116 - mse: 1301.8406\n",
            "Epoch 80/500\n",
            "2/2 [==============================] - 0s 5ms/step - loss: 31.0485 - mse: 1530.7305\n",
            "Epoch 81/500\n",
            "2/2 [==============================] - 0s 8ms/step - loss: 13.4157 - mse: 251.6768\n",
            "Epoch 82/500\n",
            "2/2 [==============================] - 0s 5ms/step - loss: 14.3268 - mse: 284.6536\n",
            "Epoch 83/500\n",
            "2/2 [==============================] - 0s 9ms/step - loss: 18.8657 - mse: 472.2607\n",
            "Epoch 84/500\n",
            "2/2 [==============================] - 0s 7ms/step - loss: 9.4637 - mse: 149.0737\n",
            "Epoch 85/500\n",
            "2/2 [==============================] - 0s 4ms/step - loss: 25.2602 - mse: 893.1605\n",
            "Epoch 86/500\n",
            "2/2 [==============================] - 0s 4ms/step - loss: 16.4097 - mse: 396.1292\n",
            "Epoch 87/500\n",
            "2/2 [==============================] - 0s 7ms/step - loss: 11.4681 - mse: 156.2805\n",
            "Epoch 88/500\n",
            "2/2 [==============================] - 0s 4ms/step - loss: 26.9985 - mse: 1042.5148\n",
            "Epoch 89/500\n",
            "2/2 [==============================] - 0s 5ms/step - loss: 9.7400 - mse: 128.5363\n",
            "Epoch 90/500\n",
            "2/2 [==============================] - 0s 5ms/step - loss: 19.0468 - mse: 520.2235\n",
            "Epoch 91/500\n",
            "2/2 [==============================] - 0s 4ms/step - loss: 10.5939 - mse: 163.6236\n",
            "Epoch 92/500\n",
            "2/2 [==============================] - 0s 4ms/step - loss: 18.2585 - mse: 456.5814\n",
            "Epoch 93/500\n",
            "2/2 [==============================] - 0s 4ms/step - loss: 6.8661 - mse: 68.1858\n",
            "Epoch 94/500\n",
            "2/2 [==============================] - 0s 4ms/step - loss: 13.0514 - mse: 231.1395\n",
            "Epoch 95/500\n",
            "2/2 [==============================] - 0s 4ms/step - loss: 18.3979 - mse: 499.3334\n",
            "Epoch 96/500\n",
            "2/2 [==============================] - 0s 5ms/step - loss: 10.3990 - mse: 179.7594\n",
            "Epoch 97/500\n",
            "2/2 [==============================] - 0s 7ms/step - loss: 14.1500 - mse: 300.4542\n",
            "Epoch 98/500\n",
            "2/2 [==============================] - 0s 4ms/step - loss: 9.6363 - mse: 137.3542\n",
            "Epoch 99/500\n",
            "2/2 [==============================] - 0s 6ms/step - loss: 11.3331 - mse: 163.6502\n",
            "Epoch 100/500\n",
            "2/2 [==============================] - 0s 5ms/step - loss: 29.2253 - mse: 1314.6257\n",
            "Epoch 101/500\n",
            "2/2 [==============================] - 0s 6ms/step - loss: 15.5484 - mse: 361.6280\n",
            "Epoch 102/500\n",
            "2/2 [==============================] - 0s 4ms/step - loss: 10.9381 - mse: 161.3463\n",
            "Epoch 103/500\n",
            "2/2 [==============================] - 0s 5ms/step - loss: 9.2629 - mse: 96.7625\n",
            "Epoch 104/500\n",
            "2/2 [==============================] - 0s 5ms/step - loss: 24.1239 - mse: 872.9574\n",
            "Epoch 105/500\n",
            "2/2 [==============================] - 0s 5ms/step - loss: 10.9837 - mse: 167.3606\n",
            "Epoch 106/500\n",
            "2/2 [==============================] - 0s 5ms/step - loss: 11.4215 - mse: 183.1160\n",
            "Epoch 107/500\n",
            "2/2 [==============================] - 0s 4ms/step - loss: 21.6444 - mse: 699.8743\n",
            "Epoch 108/500\n",
            "2/2 [==============================] - 0s 5ms/step - loss: 7.2698 - mse: 74.0881\n",
            "Epoch 109/500\n",
            "2/2 [==============================] - 0s 4ms/step - loss: 18.8680 - mse: 505.5852\n",
            "Epoch 110/500\n",
            "2/2 [==============================] - 0s 4ms/step - loss: 11.0862 - mse: 199.7182\n",
            "Epoch 111/500\n",
            "2/2 [==============================] - 0s 4ms/step - loss: 17.6516 - mse: 449.3960\n",
            "Epoch 112/500\n",
            "2/2 [==============================] - 0s 5ms/step - loss: 6.6241 - mse: 64.3251\n",
            "Epoch 113/500\n",
            "2/2 [==============================] - 0s 5ms/step - loss: 13.5119 - mse: 269.8077\n",
            "Epoch 114/500\n",
            "2/2 [==============================] - 0s 5ms/step - loss: 19.9972 - mse: 605.2861\n",
            "Epoch 115/500\n",
            "2/2 [==============================] - 0s 4ms/step - loss: 10.8829 - mse: 142.5128\n",
            "Epoch 116/500\n",
            "2/2 [==============================] - 0s 5ms/step - loss: 22.1679 - mse: 712.4012\n",
            "Epoch 117/500\n",
            "2/2 [==============================] - 0s 5ms/step - loss: 9.3082 - mse: 129.7997\n",
            "Epoch 118/500\n",
            "2/2 [==============================] - 0s 5ms/step - loss: 10.3127 - mse: 131.4765\n",
            "Epoch 119/500\n",
            "2/2 [==============================] - 0s 6ms/step - loss: 8.0652 - mse: 72.5279\n",
            "Epoch 120/500\n",
            "2/2 [==============================] - 0s 4ms/step - loss: 37.3531 - mse: 2171.6294\n",
            "Epoch 121/500\n",
            "2/2 [==============================] - 0s 4ms/step - loss: 10.6146 - mse: 165.0086\n",
            "Epoch 122/500\n",
            "2/2 [==============================] - 0s 4ms/step - loss: 27.9989 - mse: 1202.3911\n",
            "Epoch 123/500\n",
            "2/2 [==============================] - 0s 4ms/step - loss: 32.5119 - mse: 1552.1674\n",
            "Epoch 124/500\n",
            "2/2 [==============================] - 0s 5ms/step - loss: 19.3571 - mse: 555.6805\n",
            "Epoch 125/500\n",
            "2/2 [==============================] - 0s 4ms/step - loss: 6.4826 - mse: 60.7076\n",
            "Epoch 126/500\n",
            "2/2 [==============================] - 0s 5ms/step - loss: 26.5625 - mse: 1024.0173\n",
            "Epoch 127/500\n",
            "2/2 [==============================] - 0s 6ms/step - loss: 8.5996 - mse: 95.3783\n",
            "Epoch 128/500\n",
            "2/2 [==============================] - 0s 4ms/step - loss: 13.7239 - mse: 263.1604\n",
            "Epoch 129/500\n",
            "2/2 [==============================] - 0s 4ms/step - loss: 10.8661 - mse: 179.6953\n",
            "Epoch 130/500\n",
            "2/2 [==============================] - 0s 4ms/step - loss: 15.3292 - mse: 340.8654\n",
            "Epoch 131/500\n",
            "2/2 [==============================] - 0s 4ms/step - loss: 8.8732 - mse: 89.1836\n",
            "Epoch 132/500\n",
            "2/2 [==============================] - 0s 4ms/step - loss: 14.8093 - mse: 330.0352\n",
            "Epoch 133/500\n",
            "2/2 [==============================] - 0s 5ms/step - loss: 7.9736 - mse: 88.1480\n",
            "Epoch 134/500\n",
            "2/2 [==============================] - 0s 5ms/step - loss: 22.4934 - mse: 730.6241\n",
            "Epoch 135/500\n",
            "2/2 [==============================] - 0s 5ms/step - loss: 19.9150 - mse: 559.3642\n",
            "Epoch 136/500\n",
            "2/2 [==============================] - 0s 6ms/step - loss: 13.8293 - mse: 264.9323\n",
            "Epoch 137/500\n",
            "2/2 [==============================] - 0s 6ms/step - loss: 25.3092 - mse: 872.1639\n",
            "Epoch 138/500\n",
            "2/2 [==============================] - 0s 5ms/step - loss: 10.0153 - mse: 142.2598\n",
            "Epoch 139/500\n",
            "2/2 [==============================] - 0s 5ms/step - loss: 9.4827 - mse: 137.4127\n",
            "Epoch 140/500\n",
            "2/2 [==============================] - 0s 5ms/step - loss: 18.5163 - mse: 489.8041\n",
            "Epoch 141/500\n",
            "2/2 [==============================] - 0s 4ms/step - loss: 8.3397 - mse: 74.2141\n",
            "Epoch 142/500\n",
            "2/2 [==============================] - 0s 6ms/step - loss: 33.1519 - mse: 1902.7816\n",
            "Epoch 143/500\n",
            "2/2 [==============================] - 0s 5ms/step - loss: 23.3046 - mse: 760.5609\n",
            "Epoch 144/500\n",
            "2/2 [==============================] - 0s 6ms/step - loss: 10.5061 - mse: 183.7162\n",
            "Epoch 145/500\n",
            "2/2 [==============================] - 0s 8ms/step - loss: 25.8641 - mse: 904.5939\n",
            "Epoch 146/500\n",
            "2/2 [==============================] - 0s 8ms/step - loss: 9.9420 - mse: 130.7976\n",
            "Epoch 147/500\n",
            "2/2 [==============================] - 0s 4ms/step - loss: 14.7695 - mse: 291.1001\n",
            "Epoch 148/500\n",
            "2/2 [==============================] - 0s 5ms/step - loss: 17.8892 - mse: 441.4262\n",
            "Epoch 149/500\n",
            "2/2 [==============================] - 0s 6ms/step - loss: 8.4435 - mse: 106.5568\n",
            "Epoch 150/500\n",
            "2/2 [==============================] - 0s 5ms/step - loss: 7.6325 - mse: 66.8360\n",
            "Epoch 151/500\n",
            "2/2 [==============================] - 0s 6ms/step - loss: 18.7545 - mse: 509.8619\n",
            "Epoch 152/500\n",
            "2/2 [==============================] - 0s 8ms/step - loss: 10.4630 - mse: 135.7641\n",
            "Epoch 153/500\n",
            "2/2 [==============================] - 0s 5ms/step - loss: 30.2138 - mse: 1322.8086\n",
            "Epoch 154/500\n",
            "2/2 [==============================] - 0s 5ms/step - loss: 10.0336 - mse: 177.8231\n",
            "Epoch 155/500\n",
            "2/2 [==============================] - 0s 5ms/step - loss: 15.7813 - mse: 370.4495\n",
            "Epoch 156/500\n",
            "2/2 [==============================] - 0s 5ms/step - loss: 17.7352 - mse: 466.6275\n",
            "Epoch 157/500\n",
            "2/2 [==============================] - 0s 6ms/step - loss: 30.9492 - mse: 1538.0144\n",
            "Epoch 158/500\n",
            "2/2 [==============================] - 0s 5ms/step - loss: 10.1913 - mse: 138.3969\n",
            "Epoch 159/500\n",
            "2/2 [==============================] - 0s 5ms/step - loss: 8.6898 - mse: 98.7984\n",
            "Epoch 160/500\n",
            "2/2 [==============================] - 0s 5ms/step - loss: 20.6237 - mse: 611.0587\n",
            "Epoch 161/500\n",
            "2/2 [==============================] - 0s 5ms/step - loss: 11.7786 - mse: 204.6564\n",
            "Epoch 162/500\n",
            "2/2 [==============================] - 0s 7ms/step - loss: 21.5958 - mse: 671.9435\n",
            "Epoch 163/500\n",
            "2/2 [==============================] - 0s 5ms/step - loss: 19.2781 - mse: 535.0468\n",
            "Epoch 164/500\n",
            "2/2 [==============================] - 0s 4ms/step - loss: 11.0758 - mse: 178.7755\n",
            "Epoch 165/500\n",
            "2/2 [==============================] - 0s 5ms/step - loss: 9.6499 - mse: 180.1467\n",
            "Epoch 166/500\n",
            "2/2 [==============================] - 0s 4ms/step - loss: 21.6185 - mse: 683.3777\n",
            "Epoch 167/500\n",
            "2/2 [==============================] - 0s 5ms/step - loss: 26.2347 - mse: 1044.9895\n",
            "Epoch 168/500\n",
            "2/2 [==============================] - 0s 5ms/step - loss: 9.9086 - mse: 119.2910\n",
            "Epoch 169/500\n",
            "2/2 [==============================] - 0s 4ms/step - loss: 22.4627 - mse: 780.7474\n",
            "Epoch 170/500\n",
            "2/2 [==============================] - 0s 7ms/step - loss: 10.2005 - mse: 196.1738\n",
            "Epoch 171/500\n",
            "2/2 [==============================] - 0s 5ms/step - loss: 18.1090 - mse: 505.9695\n",
            "Epoch 172/500\n",
            "2/2 [==============================] - 0s 7ms/step - loss: 28.6947 - mse: 1292.6702\n",
            "Epoch 173/500\n",
            "2/2 [==============================] - 0s 7ms/step - loss: 16.4357 - mse: 428.2829\n",
            "Epoch 174/500\n",
            "2/2 [==============================] - 0s 6ms/step - loss: 11.2549 - mse: 200.0374\n",
            "Epoch 175/500\n",
            "2/2 [==============================] - 0s 4ms/step - loss: 27.6274 - mse: 1100.5771\n",
            "Epoch 176/500\n",
            "2/2 [==============================] - 0s 6ms/step - loss: 8.2835 - mse: 77.6953\n",
            "Epoch 177/500\n",
            "2/2 [==============================] - 0s 6ms/step - loss: 9.2862 - mse: 109.3637\n",
            "Epoch 178/500\n",
            "2/2 [==============================] - 0s 4ms/step - loss: 17.9866 - mse: 459.0401\n",
            "Epoch 179/500\n",
            "2/2 [==============================] - 0s 5ms/step - loss: 10.6906 - mse: 150.2466\n",
            "Epoch 180/500\n",
            "2/2 [==============================] - 0s 7ms/step - loss: 7.9290 - mse: 102.9790\n",
            "Epoch 181/500\n",
            "2/2 [==============================] - 0s 7ms/step - loss: 17.2362 - mse: 430.9778\n",
            "Epoch 182/500\n",
            "2/2 [==============================] - 0s 4ms/step - loss: 10.9913 - mse: 156.2928\n",
            "Epoch 183/500\n",
            "2/2 [==============================] - 0s 4ms/step - loss: 11.6334 - mse: 201.6893\n",
            "Epoch 184/500\n",
            "2/2 [==============================] - 0s 5ms/step - loss: 30.0688 - mse: 1355.4967\n",
            "Epoch 185/500\n",
            "2/2 [==============================] - 0s 5ms/step - loss: 8.2432 - mse: 130.0921\n",
            "Epoch 186/500\n",
            "2/2 [==============================] - 0s 4ms/step - loss: 18.7600 - mse: 516.5175\n",
            "Epoch 187/500\n",
            "2/2 [==============================] - 0s 5ms/step - loss: 8.8260 - mse: 145.5946\n",
            "Epoch 188/500\n",
            "2/2 [==============================] - 0s 4ms/step - loss: 23.7529 - mse: 823.8883\n",
            "Epoch 189/500\n",
            "2/2 [==============================] - 0s 4ms/step - loss: 9.3889 - mse: 114.7323\n",
            "Epoch 190/500\n",
            "2/2 [==============================] - 0s 5ms/step - loss: 16.9682 - mse: 394.5192\n",
            "Epoch 191/500\n",
            "2/2 [==============================] - 0s 5ms/step - loss: 8.6503 - mse: 137.9975\n",
            "Epoch 192/500\n",
            "2/2 [==============================] - 0s 4ms/step - loss: 15.2118 - mse: 305.0009\n",
            "Epoch 193/500\n",
            "2/2 [==============================] - 0s 5ms/step - loss: 30.0653 - mse: 1248.5289\n",
            "Epoch 194/500\n",
            "2/2 [==============================] - 0s 4ms/step - loss: 9.7253 - mse: 165.7648\n",
            "Epoch 195/500\n",
            "2/2 [==============================] - 0s 9ms/step - loss: 12.0660 - mse: 241.4501\n",
            "Epoch 196/500\n",
            "2/2 [==============================] - 0s 7ms/step - loss: 23.4624 - mse: 795.1873\n",
            "Epoch 197/500\n",
            "2/2 [==============================] - 0s 5ms/step - loss: 17.7247 - mse: 462.3831\n",
            "Epoch 198/500\n",
            "2/2 [==============================] - 0s 6ms/step - loss: 12.5488 - mse: 238.7051\n",
            "Epoch 199/500\n",
            "2/2 [==============================] - 0s 5ms/step - loss: 17.9766 - mse: 463.7118\n",
            "Epoch 200/500\n",
            "2/2 [==============================] - 0s 7ms/step - loss: 13.8152 - mse: 284.6229\n",
            "Epoch 201/500\n",
            "2/2 [==============================] - 0s 5ms/step - loss: 5.5595 - mse: 42.3363\n",
            "Epoch 202/500\n",
            "2/2 [==============================] - 0s 6ms/step - loss: 13.7433 - mse: 294.9660\n",
            "Epoch 203/500\n",
            "2/2 [==============================] - 0s 7ms/step - loss: 9.4965 - mse: 141.6519\n",
            "Epoch 204/500\n",
            "2/2 [==============================] - 0s 7ms/step - loss: 20.9139 - mse: 652.6906\n",
            "Epoch 205/500\n",
            "2/2 [==============================] - 0s 5ms/step - loss: 9.6062 - mse: 129.3154\n",
            "Epoch 206/500\n",
            "2/2 [==============================] - 0s 8ms/step - loss: 11.2318 - mse: 172.4198\n",
            "Epoch 207/500\n",
            "2/2 [==============================] - 0s 5ms/step - loss: 17.7372 - mse: 475.4867\n",
            "Epoch 208/500\n",
            "2/2 [==============================] - 0s 5ms/step - loss: 14.4621 - mse: 300.9369\n",
            "Epoch 209/500\n",
            "2/2 [==============================] - 0s 6ms/step - loss: 16.7464 - mse: 414.6173\n",
            "Epoch 210/500\n",
            "2/2 [==============================] - 0s 7ms/step - loss: 18.2686 - mse: 486.5096\n",
            "Epoch 211/500\n",
            "2/2 [==============================] - 0s 5ms/step - loss: 10.0282 - mse: 147.0415\n",
            "Epoch 212/500\n",
            "2/2 [==============================] - 0s 4ms/step - loss: 18.7134 - mse: 528.0522\n",
            "Epoch 213/500\n",
            "2/2 [==============================] - 0s 4ms/step - loss: 14.9793 - mse: 305.8252\n",
            "Epoch 214/500\n",
            "2/2 [==============================] - 0s 4ms/step - loss: 14.5578 - mse: 291.5116\n",
            "Epoch 215/500\n",
            "2/2 [==============================] - 0s 4ms/step - loss: 23.2094 - mse: 793.4323\n",
            "Epoch 216/500\n",
            "2/2 [==============================] - 0s 6ms/step - loss: 13.5557 - mse: 284.7429\n",
            "Epoch 217/500\n",
            "2/2 [==============================] - 0s 4ms/step - loss: 10.0697 - mse: 142.4731\n",
            "Epoch 218/500\n",
            "2/2 [==============================] - 0s 4ms/step - loss: 12.4912 - mse: 205.3859\n",
            "Epoch 219/500\n",
            "2/2 [==============================] - 0s 4ms/step - loss: 5.3716 - mse: 41.7999\n",
            "Epoch 220/500\n",
            "2/2 [==============================] - 0s 4ms/step - loss: 12.4134 - mse: 243.4470\n",
            "Epoch 221/500\n",
            "2/2 [==============================] - 0s 4ms/step - loss: 22.3718 - mse: 728.2421\n",
            "Epoch 222/500\n",
            "2/2 [==============================] - 0s 6ms/step - loss: 21.4520 - mse: 719.5582\n",
            "Epoch 223/500\n",
            "2/2 [==============================] - 0s 4ms/step - loss: 11.6779 - mse: 198.0316\n",
            "Epoch 224/500\n",
            "2/2 [==============================] - 0s 4ms/step - loss: 13.6048 - mse: 262.5754\n",
            "Epoch 225/500\n",
            "2/2 [==============================] - 0s 4ms/step - loss: 15.7492 - mse: 321.4382\n",
            "Epoch 226/500\n",
            "2/2 [==============================] - 0s 4ms/step - loss: 14.9956 - mse: 319.3421\n",
            "Epoch 227/500\n",
            "2/2 [==============================] - 0s 5ms/step - loss: 15.3171 - mse: 326.6035\n",
            "Epoch 228/500\n",
            "2/2 [==============================] - 0s 5ms/step - loss: 17.5008 - mse: 460.0231\n",
            "Epoch 229/500\n",
            "2/2 [==============================] - 0s 4ms/step - loss: 7.2369 - mse: 94.6731\n",
            "Epoch 230/500\n",
            "2/2 [==============================] - 0s 4ms/step - loss: 7.4909 - mse: 68.6544\n",
            "Epoch 231/500\n",
            "2/2 [==============================] - 0s 4ms/step - loss: 24.6049 - mse: 894.1771\n",
            "Epoch 232/500\n",
            "2/2 [==============================] - 0s 7ms/step - loss: 8.8121 - mse: 97.5726\n",
            "Epoch 233/500\n",
            "2/2 [==============================] - 0s 4ms/step - loss: 24.5408 - mse: 874.3219\n",
            "Epoch 234/500\n",
            "2/2 [==============================] - 0s 4ms/step - loss: 8.1584 - mse: 93.0471\n",
            "Epoch 235/500\n",
            "2/2 [==============================] - 0s 4ms/step - loss: 16.7792 - mse: 393.7832\n",
            "Epoch 236/500\n",
            "2/2 [==============================] - 0s 4ms/step - loss: 7.1032 - mse: 70.5331\n",
            "Epoch 237/500\n",
            "2/2 [==============================] - 0s 4ms/step - loss: 9.1458 - mse: 118.6853\n",
            "Epoch 238/500\n",
            "2/2 [==============================] - 0s 5ms/step - loss: 8.0891 - mse: 87.5578\n",
            "Epoch 239/500\n",
            "2/2 [==============================] - 0s 4ms/step - loss: 16.5712 - mse: 414.1065\n",
            "Epoch 240/500\n",
            "2/2 [==============================] - 0s 5ms/step - loss: 9.4563 - mse: 115.7465\n",
            "Epoch 241/500\n",
            "2/2 [==============================] - 0s 4ms/step - loss: 14.4562 - mse: 319.9950\n",
            "Epoch 242/500\n",
            "2/2 [==============================] - 0s 4ms/step - loss: 8.5041 - mse: 99.5426\n",
            "Epoch 243/500\n",
            "2/2 [==============================] - 0s 4ms/step - loss: 20.5212 - mse: 641.7230\n",
            "Epoch 244/500\n",
            "2/2 [==============================] - 0s 4ms/step - loss: 14.1458 - mse: 277.8603\n",
            "Epoch 245/500\n",
            "2/2 [==============================] - 0s 4ms/step - loss: 14.7615 - mse: 293.6866\n",
            "Epoch 246/500\n",
            "2/2 [==============================] - 0s 4ms/step - loss: 15.8961 - mse: 375.4571\n",
            "Epoch 247/500\n",
            "2/2 [==============================] - 0s 4ms/step - loss: 17.8016 - mse: 427.4073\n",
            "Epoch 248/500\n",
            "2/2 [==============================] - 0s 4ms/step - loss: 13.3549 - mse: 254.0080\n",
            "Epoch 249/500\n",
            "2/2 [==============================] - 0s 4ms/step - loss: 14.5949 - mse: 292.7271\n",
            "Epoch 250/500\n",
            "2/2 [==============================] - 0s 4ms/step - loss: 23.3706 - mse: 801.1071\n",
            "Epoch 251/500\n",
            "2/2 [==============================] - 0s 4ms/step - loss: 8.5264 - mse: 95.3869\n",
            "Epoch 252/500\n",
            "2/2 [==============================] - 0s 4ms/step - loss: 41.1010 - mse: 2847.1785\n",
            "Epoch 253/500\n",
            "2/2 [==============================] - 0s 4ms/step - loss: 25.3517 - mse: 908.6251\n",
            "Epoch 254/500\n",
            "2/2 [==============================] - 0s 4ms/step - loss: 7.6102 - mse: 71.7745\n",
            "Epoch 255/500\n",
            "2/2 [==============================] - 0s 4ms/step - loss: 26.7450 - mse: 1056.6948\n",
            "Epoch 256/500\n",
            "2/2 [==============================] - 0s 5ms/step - loss: 14.6193 - mse: 310.7303\n",
            "Epoch 257/500\n",
            "2/2 [==============================] - 0s 4ms/step - loss: 7.7861 - mse: 118.1407\n",
            "Epoch 258/500\n",
            "2/2 [==============================] - 0s 4ms/step - loss: 10.9868 - mse: 183.5450\n",
            "Epoch 259/500\n",
            "2/2 [==============================] - 0s 4ms/step - loss: 16.1512 - mse: 382.5296\n",
            "Epoch 260/500\n",
            "2/2 [==============================] - 0s 4ms/step - loss: 24.2006 - mse: 869.6713\n",
            "Epoch 261/500\n",
            "2/2 [==============================] - 0s 4ms/step - loss: 8.8543 - mse: 139.8503\n",
            "Epoch 262/500\n",
            "2/2 [==============================] - 0s 7ms/step - loss: 8.0335 - mse: 126.3106\n",
            "Epoch 263/500\n",
            "2/2 [==============================] - 0s 4ms/step - loss: 7.7571 - mse: 108.7632\n",
            "Epoch 264/500\n",
            "2/2 [==============================] - 0s 4ms/step - loss: 16.5302 - mse: 386.1498\n",
            "Epoch 265/500\n",
            "2/2 [==============================] - 0s 4ms/step - loss: 12.7341 - mse: 224.1525\n",
            "Epoch 266/500\n",
            "2/2 [==============================] - 0s 4ms/step - loss: 14.2926 - mse: 284.1464\n",
            "Epoch 267/500\n",
            "2/2 [==============================] - 0s 4ms/step - loss: 11.4032 - mse: 220.5946\n",
            "Epoch 268/500\n",
            "2/2 [==============================] - 0s 7ms/step - loss: 19.9204 - mse: 584.5607\n",
            "Epoch 269/500\n",
            "2/2 [==============================] - 0s 4ms/step - loss: 38.3620 - mse: 2261.3823\n",
            "Epoch 270/500\n",
            "2/2 [==============================] - 0s 6ms/step - loss: 11.4070 - mse: 199.3721\n",
            "Epoch 271/500\n",
            "2/2 [==============================] - 0s 4ms/step - loss: 13.9980 - mse: 271.3234\n",
            "Epoch 272/500\n",
            "2/2 [==============================] - 0s 7ms/step - loss: 27.7058 - mse: 1055.2213\n",
            "Epoch 273/500\n",
            "2/2 [==============================] - 0s 5ms/step - loss: 8.3597 - mse: 92.3926\n",
            "Epoch 274/500\n",
            "2/2 [==============================] - 0s 4ms/step - loss: 6.5043 - mse: 50.1967\n",
            "Epoch 275/500\n",
            "2/2 [==============================] - 0s 4ms/step - loss: 35.1597 - mse: 1877.8682\n",
            "Epoch 276/500\n",
            "2/2 [==============================] - 0s 4ms/step - loss: 8.1317 - mse: 117.4571\n",
            "Epoch 277/500\n",
            "2/2 [==============================] - 0s 5ms/step - loss: 26.2669 - mse: 936.2433\n",
            "Epoch 278/500\n",
            "2/2 [==============================] - 0s 9ms/step - loss: 11.3311 - mse: 226.9148\n",
            "Epoch 279/500\n",
            "2/2 [==============================] - 0s 8ms/step - loss: 16.1096 - mse: 389.2243\n",
            "Epoch 280/500\n",
            "2/2 [==============================] - 0s 8ms/step - loss: 21.2185 - mse: 680.5981\n",
            "Epoch 281/500\n",
            "2/2 [==============================] - 0s 6ms/step - loss: 23.8389 - mse: 869.1281\n",
            "Epoch 282/500\n",
            "2/2 [==============================] - 0s 7ms/step - loss: 8.3177 - mse: 97.4568\n",
            "Epoch 283/500\n",
            "2/2 [==============================] - 0s 5ms/step - loss: 8.4883 - mse: 99.4476\n",
            "Epoch 284/500\n",
            "2/2 [==============================] - 0s 4ms/step - loss: 26.6450 - mse: 1077.9744\n",
            "Epoch 285/500\n",
            "2/2 [==============================] - 0s 5ms/step - loss: 14.2482 - mse: 322.7656\n",
            "Epoch 286/500\n",
            "2/2 [==============================] - 0s 5ms/step - loss: 5.2986 - mse: 37.4614\n",
            "Epoch 287/500\n",
            "2/2 [==============================] - 0s 6ms/step - loss: 20.8238 - mse: 649.6576\n",
            "Epoch 288/500\n",
            "2/2 [==============================] - 0s 4ms/step - loss: 27.6066 - mse: 1159.3040\n",
            "Epoch 289/500\n",
            "2/2 [==============================] - 0s 4ms/step - loss: 10.4503 - mse: 224.5965\n",
            "Epoch 290/500\n",
            "2/2 [==============================] - 0s 5ms/step - loss: 16.3215 - mse: 354.0829\n",
            "Epoch 291/500\n",
            "2/2 [==============================] - 0s 4ms/step - loss: 16.5141 - mse: 399.6828\n",
            "Epoch 292/500\n",
            "2/2 [==============================] - 0s 5ms/step - loss: 7.4637 - mse: 105.0084\n",
            "Epoch 293/500\n",
            "2/2 [==============================] - 0s 4ms/step - loss: 16.5661 - mse: 423.2057\n",
            "Epoch 294/500\n",
            "2/2 [==============================] - 0s 4ms/step - loss: 25.3565 - mse: 944.6401\n",
            "Epoch 295/500\n",
            "2/2 [==============================] - 0s 6ms/step - loss: 14.5383 - mse: 308.2457\n",
            "Epoch 296/500\n",
            "2/2 [==============================] - 0s 4ms/step - loss: 4.7115 - mse: 33.2784\n",
            "Epoch 297/500\n",
            "2/2 [==============================] - 0s 4ms/step - loss: 6.2972 - mse: 65.0261\n",
            "Epoch 298/500\n",
            "2/2 [==============================] - 0s 5ms/step - loss: 26.6646 - mse: 1060.9863\n",
            "Epoch 299/500\n",
            "2/2 [==============================] - 0s 5ms/step - loss: 7.2716 - mse: 71.8970\n",
            "Epoch 300/500\n",
            "2/2 [==============================] - 0s 4ms/step - loss: 26.8116 - mse: 1108.1003\n",
            "Epoch 301/500\n",
            "2/2 [==============================] - 0s 4ms/step - loss: 11.7978 - mse: 210.4289\n",
            "Epoch 302/500\n",
            "2/2 [==============================] - 0s 6ms/step - loss: 7.9150 - mse: 84.4394\n",
            "Epoch 303/500\n",
            "2/2 [==============================] - 0s 6ms/step - loss: 19.8370 - mse: 577.7729\n",
            "Epoch 304/500\n",
            "2/2 [==============================] - 0s 8ms/step - loss: 13.6732 - mse: 278.0006\n",
            "Epoch 305/500\n",
            "2/2 [==============================] - 0s 8ms/step - loss: 7.0878 - mse: 93.2850\n",
            "Epoch 306/500\n",
            "2/2 [==============================] - 0s 6ms/step - loss: 19.1721 - mse: 514.1008\n",
            "Epoch 307/500\n",
            "2/2 [==============================] - 0s 8ms/step - loss: 9.0263 - mse: 163.7078\n",
            "Epoch 308/500\n",
            "2/2 [==============================] - 0s 5ms/step - loss: 20.6552 - mse: 655.0795\n",
            "Epoch 309/500\n",
            "2/2 [==============================] - 0s 8ms/step - loss: 13.4788 - mse: 285.9822\n",
            "Epoch 310/500\n",
            "2/2 [==============================] - 0s 7ms/step - loss: 6.7238 - mse: 96.5139\n",
            "Epoch 311/500\n",
            "2/2 [==============================] - 0s 4ms/step - loss: 13.6935 - mse: 264.3278\n",
            "Epoch 312/500\n",
            "2/2 [==============================] - 0s 4ms/step - loss: 30.0633 - mse: 1247.9425\n",
            "Epoch 313/500\n",
            "2/2 [==============================] - 0s 7ms/step - loss: 7.5030 - mse: 105.0838\n",
            "Epoch 314/500\n",
            "2/2 [==============================] - 0s 4ms/step - loss: 10.4920 - mse: 270.3873\n",
            "Epoch 315/500\n",
            "2/2 [==============================] - 0s 7ms/step - loss: 23.3931 - mse: 796.6256\n",
            "Epoch 316/500\n",
            "2/2 [==============================] - 0s 4ms/step - loss: 14.7358 - mse: 336.6349\n",
            "Epoch 317/500\n",
            "2/2 [==============================] - 0s 5ms/step - loss: 20.4066 - mse: 569.4965\n",
            "Epoch 318/500\n",
            "2/2 [==============================] - 0s 7ms/step - loss: 8.1549 - mse: 88.4386\n",
            "Epoch 319/500\n",
            "2/2 [==============================] - 0s 4ms/step - loss: 18.4819 - mse: 504.9490\n",
            "Epoch 320/500\n",
            "2/2 [==============================] - 0s 6ms/step - loss: 10.9147 - mse: 200.0530\n",
            "Epoch 321/500\n",
            "2/2 [==============================] - 0s 3ms/step - loss: 7.2225 - mse: 107.8477\n",
            "Epoch 322/500\n",
            "2/2 [==============================] - 0s 4ms/step - loss: 8.6216 - mse: 174.8056\n",
            "Epoch 323/500\n",
            "2/2 [==============================] - 0s 4ms/step - loss: 18.2474 - mse: 512.5198\n",
            "Epoch 324/500\n",
            "2/2 [==============================] - 0s 4ms/step - loss: 16.3085 - mse: 359.8133\n",
            "Epoch 325/500\n",
            "2/2 [==============================] - 0s 4ms/step - loss: 18.2673 - mse: 525.3525\n",
            "Epoch 326/500\n",
            "2/2 [==============================] - 0s 4ms/step - loss: 22.4728 - mse: 758.7972\n",
            "Epoch 327/500\n",
            "2/2 [==============================] - 0s 5ms/step - loss: 8.5656 - mse: 104.4756\n",
            "Epoch 328/500\n",
            "2/2 [==============================] - 0s 3ms/step - loss: 7.0824 - mse: 101.0294\n",
            "Epoch 329/500\n",
            "2/2 [==============================] - 0s 6ms/step - loss: 9.9828 - mse: 148.4217\n",
            "Epoch 330/500\n",
            "2/2 [==============================] - 0s 6ms/step - loss: 6.8721 - mse: 89.5394\n",
            "Epoch 331/500\n",
            "2/2 [==============================] - 0s 6ms/step - loss: 20.1985 - mse: 620.5258\n",
            "Epoch 332/500\n",
            "2/2 [==============================] - 0s 6ms/step - loss: 11.2426 - mse: 201.2478\n",
            "Epoch 333/500\n",
            "2/2 [==============================] - 0s 4ms/step - loss: 13.5099 - mse: 283.8769\n",
            "Epoch 334/500\n",
            "2/2 [==============================] - 0s 4ms/step - loss: 10.3479 - mse: 211.4619\n",
            "Epoch 335/500\n",
            "2/2 [==============================] - 0s 4ms/step - loss: 13.0657 - mse: 267.5098\n",
            "Epoch 336/500\n",
            "2/2 [==============================] - 0s 4ms/step - loss: 32.4992 - mse: 1440.4525\n",
            "Epoch 337/500\n",
            "2/2 [==============================] - 0s 7ms/step - loss: 11.0441 - mse: 189.7750\n",
            "Epoch 338/500\n",
            "2/2 [==============================] - 0s 4ms/step - loss: 19.9666 - mse: 586.6129\n",
            "Epoch 339/500\n",
            "2/2 [==============================] - 0s 4ms/step - loss: 34.2833 - mse: 1759.1477\n",
            "Epoch 340/500\n",
            "2/2 [==============================] - 0s 6ms/step - loss: 8.7348 - mse: 108.0002\n",
            "Epoch 341/500\n",
            "2/2 [==============================] - 0s 4ms/step - loss: 21.9147 - mse: 671.1203\n",
            "Epoch 342/500\n",
            "2/2 [==============================] - 0s 4ms/step - loss: 13.8602 - mse: 257.2411\n",
            "Epoch 343/500\n",
            "2/2 [==============================] - 0s 6ms/step - loss: 11.7107 - mse: 181.8137\n",
            "Epoch 344/500\n",
            "2/2 [==============================] - 0s 4ms/step - loss: 10.7084 - mse: 227.3315\n",
            "Epoch 345/500\n",
            "2/2 [==============================] - 0s 4ms/step - loss: 30.9184 - mse: 1344.3024\n",
            "Epoch 346/500\n",
            "2/2 [==============================] - 0s 5ms/step - loss: 10.6551 - mse: 259.7816\n",
            "Epoch 347/500\n",
            "2/2 [==============================] - 0s 4ms/step - loss: 25.5871 - mse: 916.8026\n",
            "Epoch 348/500\n",
            "2/2 [==============================] - 0s 8ms/step - loss: 13.2389 - mse: 271.9893\n",
            "Epoch 349/500\n",
            "2/2 [==============================] - 0s 7ms/step - loss: 13.0630 - mse: 249.6113\n",
            "Epoch 350/500\n",
            "2/2 [==============================] - 0s 4ms/step - loss: 15.4149 - mse: 328.4064\n",
            "Epoch 351/500\n",
            "2/2 [==============================] - 0s 7ms/step - loss: 32.8899 - mse: 1518.3757\n",
            "Epoch 352/500\n",
            "2/2 [==============================] - 0s 4ms/step - loss: 14.1119 - mse: 280.4392\n",
            "Epoch 353/500\n",
            "2/2 [==============================] - 0s 3ms/step - loss: 15.8472 - mse: 368.0942\n",
            "Epoch 354/500\n",
            "2/2 [==============================] - 0s 6ms/step - loss: 18.9310 - mse: 527.3788\n",
            "Epoch 355/500\n",
            "2/2 [==============================] - 0s 5ms/step - loss: 34.5677 - mse: 1835.0590\n",
            "Epoch 356/500\n",
            "2/2 [==============================] - 0s 5ms/step - loss: 8.3744 - mse: 111.9506\n",
            "Epoch 357/500\n",
            "2/2 [==============================] - 0s 6ms/step - loss: 21.9901 - mse: 726.4244\n",
            "Epoch 358/500\n",
            "2/2 [==============================] - 0s 5ms/step - loss: 20.1547 - mse: 585.9530\n",
            "Epoch 359/500\n",
            "2/2 [==============================] - 0s 5ms/step - loss: 11.0463 - mse: 295.0305\n",
            "Epoch 360/500\n",
            "2/2 [==============================] - 0s 4ms/step - loss: 20.2425 - mse: 615.7805\n",
            "Epoch 361/500\n",
            "2/2 [==============================] - 0s 5ms/step - loss: 11.0832 - mse: 222.4787\n",
            "Epoch 362/500\n",
            "2/2 [==============================] - 0s 6ms/step - loss: 6.8647 - mse: 76.4598\n",
            "Epoch 363/500\n",
            "2/2 [==============================] - 0s 5ms/step - loss: 24.0525 - mse: 843.5645\n",
            "Epoch 364/500\n",
            "2/2 [==============================] - 0s 5ms/step - loss: 29.8410 - mse: 1293.9916\n",
            "Epoch 365/500\n",
            "2/2 [==============================] - 0s 5ms/step - loss: 8.4102 - mse: 109.3043\n",
            "Epoch 366/500\n",
            "2/2 [==============================] - 0s 5ms/step - loss: 6.1302 - mse: 48.7537\n",
            "Epoch 367/500\n",
            "2/2 [==============================] - 0s 5ms/step - loss: 34.9353 - mse: 1854.1501\n",
            "Epoch 368/500\n",
            "2/2 [==============================] - 0s 5ms/step - loss: 7.4524 - mse: 101.2484\n",
            "Epoch 369/500\n",
            "2/2 [==============================] - 0s 6ms/step - loss: 9.2593 - mse: 129.8562\n",
            "Epoch 370/500\n",
            "2/2 [==============================] - 0s 7ms/step - loss: 10.9526 - mse: 207.1474\n",
            "Epoch 371/500\n",
            "2/2 [==============================] - 0s 4ms/step - loss: 9.0139 - mse: 141.9767\n",
            "Epoch 372/500\n",
            "2/2 [==============================] - 0s 4ms/step - loss: 7.7241 - mse: 143.2228\n",
            "Epoch 373/500\n",
            "2/2 [==============================] - 0s 5ms/step - loss: 25.0676 - mse: 919.7824\n",
            "Epoch 374/500\n",
            "2/2 [==============================] - 0s 4ms/step - loss: 13.2085 - mse: 282.7303\n",
            "Epoch 375/500\n",
            "2/2 [==============================] - 0s 4ms/step - loss: 11.8707 - mse: 213.9697\n",
            "Epoch 376/500\n",
            "2/2 [==============================] - 0s 4ms/step - loss: 14.1407 - mse: 285.8768\n",
            "Epoch 377/500\n",
            "2/2 [==============================] - 0s 4ms/step - loss: 15.7382 - mse: 319.5651\n",
            "Epoch 378/500\n",
            "2/2 [==============================] - 0s 6ms/step - loss: 17.0690 - mse: 465.8672\n",
            "Epoch 379/500\n",
            "2/2 [==============================] - 0s 6ms/step - loss: 19.3490 - mse: 534.9551\n",
            "Epoch 380/500\n",
            "2/2 [==============================] - 0s 4ms/step - loss: 15.7072 - mse: 385.8065\n",
            "Epoch 381/500\n",
            "2/2 [==============================] - 0s 5ms/step - loss: 11.4848 - mse: 217.4664\n",
            "Epoch 382/500\n",
            "2/2 [==============================] - 0s 6ms/step - loss: 16.3629 - mse: 357.9094\n",
            "Epoch 383/500\n",
            "2/2 [==============================] - 0s 7ms/step - loss: 22.1287 - mse: 754.3301\n",
            "Epoch 384/500\n",
            "2/2 [==============================] - 0s 4ms/step - loss: 7.7519 - mse: 82.9135\n",
            "Epoch 385/500\n",
            "2/2 [==============================] - 0s 4ms/step - loss: 10.6465 - mse: 272.1579\n",
            "Epoch 386/500\n",
            "2/2 [==============================] - 0s 4ms/step - loss: 19.1464 - mse: 572.7059\n",
            "Epoch 387/500\n",
            "2/2 [==============================] - 0s 6ms/step - loss: 26.3707 - mse: 1014.6099\n",
            "Epoch 388/500\n",
            "2/2 [==============================] - 0s 5ms/step - loss: 10.0611 - mse: 173.3581\n",
            "Epoch 389/500\n",
            "2/2 [==============================] - 0s 5ms/step - loss: 5.1877 - mse: 41.0678\n",
            "Epoch 390/500\n",
            "2/2 [==============================] - 0s 5ms/step - loss: 18.7059 - mse: 507.2634\n",
            "Epoch 391/500\n",
            "2/2 [==============================] - 0s 4ms/step - loss: 9.3784 - mse: 259.7176\n",
            "Epoch 392/500\n",
            "2/2 [==============================] - 0s 4ms/step - loss: 14.4439 - mse: 328.6542\n",
            "Epoch 393/500\n",
            "2/2 [==============================] - 0s 5ms/step - loss: 12.1169 - mse: 248.4283\n",
            "Epoch 394/500\n",
            "2/2 [==============================] - 0s 5ms/step - loss: 14.1090 - mse: 272.2206\n",
            "Epoch 395/500\n",
            "2/2 [==============================] - 0s 5ms/step - loss: 28.4812 - mse: 1125.7957\n",
            "Epoch 396/500\n",
            "2/2 [==============================] - 0s 4ms/step - loss: 8.4823 - mse: 114.2708\n",
            "Epoch 397/500\n",
            "2/2 [==============================] - 0s 4ms/step - loss: 11.1561 - mse: 229.0632\n",
            "Epoch 398/500\n",
            "2/2 [==============================] - 0s 4ms/step - loss: 6.8925 - mse: 79.2677\n",
            "Epoch 399/500\n",
            "2/2 [==============================] - 0s 6ms/step - loss: 13.9524 - mse: 307.7187\n",
            "Epoch 400/500\n",
            "2/2 [==============================] - 0s 4ms/step - loss: 6.6688 - mse: 60.0966\n",
            "Epoch 401/500\n",
            "2/2 [==============================] - 0s 8ms/step - loss: 7.4833 - mse: 95.7045\n",
            "Epoch 402/500\n",
            "2/2 [==============================] - 0s 4ms/step - loss: 19.3676 - mse: 518.5778\n",
            "Epoch 403/500\n",
            "2/2 [==============================] - 0s 4ms/step - loss: 10.4865 - mse: 247.2001\n",
            "Epoch 404/500\n",
            "2/2 [==============================] - 0s 5ms/step - loss: 23.2536 - mse: 757.4823\n",
            "Epoch 405/500\n",
            "2/2 [==============================] - 0s 4ms/step - loss: 17.4072 - mse: 469.2502\n",
            "Epoch 406/500\n",
            "2/2 [==============================] - 0s 5ms/step - loss: 6.8370 - mse: 72.3501\n",
            "Epoch 407/500\n",
            "2/2 [==============================] - 0s 5ms/step - loss: 11.9092 - mse: 243.5852\n",
            "Epoch 408/500\n",
            "2/2 [==============================] - 0s 4ms/step - loss: 7.0949 - mse: 78.8579\n",
            "Epoch 409/500\n",
            "2/2 [==============================] - 0s 4ms/step - loss: 23.3959 - mse: 818.7233\n",
            "Epoch 410/500\n",
            "2/2 [==============================] - 0s 6ms/step - loss: 12.4195 - mse: 262.5383\n",
            "Epoch 411/500\n",
            "2/2 [==============================] - 0s 4ms/step - loss: 15.2081 - mse: 299.4785\n",
            "Epoch 412/500\n",
            "2/2 [==============================] - 0s 4ms/step - loss: 22.3355 - mse: 757.8458\n",
            "Epoch 413/500\n",
            "2/2 [==============================] - 0s 4ms/step - loss: 15.6341 - mse: 359.6516\n",
            "Epoch 414/500\n",
            "2/2 [==============================] - 0s 4ms/step - loss: 6.6350 - mse: 111.5165\n",
            "Epoch 415/500\n",
            "2/2 [==============================] - 0s 4ms/step - loss: 12.7055 - mse: 229.4380\n",
            "Epoch 416/500\n",
            "2/2 [==============================] - 0s 4ms/step - loss: 26.9411 - mse: 1003.4722\n",
            "Epoch 417/500\n",
            "2/2 [==============================] - 0s 3ms/step - loss: 12.0196 - mse: 247.6784\n",
            "Epoch 418/500\n",
            "2/2 [==============================] - 0s 4ms/step - loss: 13.0802 - mse: 243.1610\n",
            "Epoch 419/500\n",
            "2/2 [==============================] - 0s 4ms/step - loss: 16.0464 - mse: 390.0604\n",
            "Epoch 420/500\n",
            "2/2 [==============================] - 0s 4ms/step - loss: 25.0904 - mse: 871.1093\n",
            "Epoch 421/500\n",
            "2/2 [==============================] - 0s 4ms/step - loss: 16.5523 - mse: 409.2009\n",
            "Epoch 422/500\n",
            "2/2 [==============================] - 0s 4ms/step - loss: 8.7078 - mse: 193.8740\n",
            "Epoch 423/500\n",
            "2/2 [==============================] - 0s 4ms/step - loss: 24.8218 - mse: 871.8805\n",
            "Epoch 424/500\n",
            "2/2 [==============================] - 0s 4ms/step - loss: 16.4587 - mse: 422.6335\n",
            "Epoch 425/500\n",
            "2/2 [==============================] - 0s 4ms/step - loss: 7.2410 - mse: 76.4066\n",
            "Epoch 426/500\n",
            "2/2 [==============================] - 0s 4ms/step - loss: 20.5894 - mse: 586.5749\n",
            "Epoch 427/500\n",
            "2/2 [==============================] - 0s 4ms/step - loss: 6.4056 - mse: 84.1680\n",
            "Epoch 428/500\n",
            "2/2 [==============================] - 0s 4ms/step - loss: 13.1625 - mse: 292.2559\n",
            "Epoch 429/500\n",
            "2/2 [==============================] - 0s 5ms/step - loss: 10.9303 - mse: 195.8517\n",
            "Epoch 430/500\n",
            "2/2 [==============================] - 0s 5ms/step - loss: 11.7986 - mse: 268.2330\n",
            "Epoch 431/500\n",
            "2/2 [==============================] - 0s 4ms/step - loss: 7.9619 - mse: 112.7625\n",
            "Epoch 432/500\n",
            "2/2 [==============================] - 0s 4ms/step - loss: 22.2355 - mse: 681.1955\n",
            "Epoch 433/500\n",
            "2/2 [==============================] - 0s 5ms/step - loss: 5.9442 - mse: 65.5821\n",
            "Epoch 434/500\n",
            "2/2 [==============================] - 0s 5ms/step - loss: 32.6482 - mse: 1484.3961\n",
            "Epoch 435/500\n",
            "2/2 [==============================] - 0s 5ms/step - loss: 13.5030 - mse: 259.3676\n",
            "Epoch 436/500\n",
            "2/2 [==============================] - 0s 8ms/step - loss: 29.0675 - mse: 1230.2083\n",
            "Epoch 437/500\n",
            "2/2 [==============================] - 0s 8ms/step - loss: 9.2026 - mse: 232.1001\n",
            "Epoch 438/500\n",
            "2/2 [==============================] - 0s 5ms/step - loss: 12.3704 - mse: 257.5519\n",
            "Epoch 439/500\n",
            "2/2 [==============================] - 0s 7ms/step - loss: 33.6576 - mse: 1568.6708\n",
            "Epoch 440/500\n",
            "2/2 [==============================] - 0s 5ms/step - loss: 15.0660 - mse: 293.5087\n",
            "Epoch 441/500\n",
            "2/2 [==============================] - 0s 4ms/step - loss: 17.4602 - mse: 484.8189\n",
            "Epoch 442/500\n",
            "2/2 [==============================] - 0s 4ms/step - loss: 22.2613 - mse: 748.5148\n",
            "Epoch 443/500\n",
            "2/2 [==============================] - 0s 4ms/step - loss: 23.6914 - mse: 791.7266\n",
            "Epoch 444/500\n",
            "2/2 [==============================] - 0s 4ms/step - loss: 11.0862 - mse: 205.9478\n",
            "Epoch 445/500\n",
            "2/2 [==============================] - 0s 4ms/step - loss: 14.8948 - mse: 315.1823\n",
            "Epoch 446/500\n",
            "2/2 [==============================] - 0s 4ms/step - loss: 17.9659 - mse: 513.1815\n",
            "Epoch 447/500\n",
            "2/2 [==============================] - 0s 4ms/step - loss: 5.4841 - mse: 51.5394\n",
            "Epoch 448/500\n",
            "2/2 [==============================] - 0s 4ms/step - loss: 9.6859 - mse: 228.5640\n",
            "Epoch 449/500\n",
            "2/2 [==============================] - 0s 4ms/step - loss: 14.3175 - mse: 286.2155\n",
            "Epoch 450/500\n",
            "2/2 [==============================] - 0s 7ms/step - loss: 17.0801 - mse: 446.2959\n",
            "Epoch 451/500\n",
            "2/2 [==============================] - 0s 7ms/step - loss: 14.4200 - mse: 317.6648\n",
            "Epoch 452/500\n",
            "2/2 [==============================] - 0s 4ms/step - loss: 30.8885 - mse: 1351.4938\n",
            "Epoch 453/500\n",
            "2/2 [==============================] - 0s 4ms/step - loss: 9.1465 - mse: 233.1549\n",
            "Epoch 454/500\n",
            "2/2 [==============================] - 0s 5ms/step - loss: 27.2658 - mse: 1040.7454\n",
            "Epoch 455/500\n",
            "2/2 [==============================] - 0s 4ms/step - loss: 11.0877 - mse: 219.9740\n",
            "Epoch 456/500\n",
            "2/2 [==============================] - 0s 4ms/step - loss: 15.0093 - mse: 302.7770\n",
            "Epoch 457/500\n",
            "2/2 [==============================] - 0s 4ms/step - loss: 18.4177 - mse: 514.4635\n",
            "Epoch 458/500\n",
            "2/2 [==============================] - 0s 4ms/step - loss: 24.8571 - mse: 923.2184\n",
            "Epoch 459/500\n",
            "2/2 [==============================] - 0s 4ms/step - loss: 18.1304 - mse: 461.9059\n",
            "Epoch 460/500\n",
            "2/2 [==============================] - 0s 3ms/step - loss: 4.6628 - mse: 42.9051\n",
            "Epoch 461/500\n",
            "2/2 [==============================] - 0s 4ms/step - loss: 15.9721 - mse: 390.5136\n",
            "Epoch 462/500\n",
            "2/2 [==============================] - 0s 4ms/step - loss: 12.1721 - mse: 282.3147\n",
            "Epoch 463/500\n",
            "2/2 [==============================] - 0s 4ms/step - loss: 27.2100 - mse: 1045.7614\n",
            "Epoch 464/500\n",
            "2/2 [==============================] - 0s 4ms/step - loss: 11.5683 - mse: 229.6020\n",
            "Epoch 465/500\n",
            "2/2 [==============================] - 0s 4ms/step - loss: 7.3262 - mse: 101.7178\n",
            "Epoch 466/500\n",
            "2/2 [==============================] - 0s 4ms/step - loss: 12.1116 - mse: 262.5461\n",
            "Epoch 467/500\n",
            "2/2 [==============================] - 0s 5ms/step - loss: 5.9088 - mse: 67.8571\n",
            "Epoch 468/500\n",
            "2/2 [==============================] - 0s 4ms/step - loss: 13.3965 - mse: 290.0046\n",
            "Epoch 469/500\n",
            "2/2 [==============================] - 0s 4ms/step - loss: 13.3526 - mse: 291.5739\n",
            "Epoch 470/500\n",
            "2/2 [==============================] - 0s 4ms/step - loss: 6.6706 - mse: 109.4343\n",
            "Epoch 471/500\n",
            "2/2 [==============================] - 0s 5ms/step - loss: 22.4594 - mse: 738.6093\n",
            "Epoch 472/500\n",
            "2/2 [==============================] - 0s 6ms/step - loss: 13.4459 - mse: 253.7902\n",
            "Epoch 473/500\n",
            "2/2 [==============================] - 0s 4ms/step - loss: 15.3655 - mse: 401.4410\n",
            "Epoch 474/500\n",
            "2/2 [==============================] - 0s 5ms/step - loss: 11.8330 - mse: 300.9531\n",
            "Epoch 475/500\n",
            "2/2 [==============================] - 0s 6ms/step - loss: 16.4868 - mse: 402.4671\n",
            "Epoch 476/500\n",
            "2/2 [==============================] - 0s 5ms/step - loss: 13.9153 - mse: 276.9938\n",
            "Epoch 477/500\n",
            "2/2 [==============================] - 0s 4ms/step - loss: 30.7334 - mse: 1314.3591\n",
            "Epoch 478/500\n",
            "2/2 [==============================] - 0s 5ms/step - loss: 8.7237 - mse: 186.3976\n",
            "Epoch 479/500\n",
            "2/2 [==============================] - 0s 4ms/step - loss: 10.8281 - mse: 257.1360\n",
            "Epoch 480/500\n",
            "2/2 [==============================] - 0s 4ms/step - loss: 17.9969 - mse: 491.3144\n",
            "Epoch 481/500\n",
            "2/2 [==============================] - 0s 4ms/step - loss: 15.8823 - mse: 373.7642\n",
            "Epoch 482/500\n",
            "2/2 [==============================] - 0s 4ms/step - loss: 21.4581 - mse: 706.1603\n",
            "Epoch 483/500\n",
            "2/2 [==============================] - 0s 4ms/step - loss: 25.0434 - mse: 925.9114\n",
            "Epoch 484/500\n",
            "2/2 [==============================] - 0s 4ms/step - loss: 23.6234 - mse: 785.6216\n",
            "Epoch 485/500\n",
            "2/2 [==============================] - 0s 4ms/step - loss: 5.7241 - mse: 53.8477\n",
            "Epoch 486/500\n",
            "2/2 [==============================] - 0s 7ms/step - loss: 19.5650 - mse: 540.7384\n",
            "Epoch 487/500\n",
            "2/2 [==============================] - 0s 4ms/step - loss: 13.9649 - mse: 280.1546\n",
            "Epoch 488/500\n",
            "2/2 [==============================] - 0s 6ms/step - loss: 30.4613 - mse: 1322.6909\n",
            "Epoch 489/500\n",
            "2/2 [==============================] - 0s 7ms/step - loss: 11.7111 - mse: 238.7212\n",
            "Epoch 490/500\n",
            "2/2 [==============================] - 0s 4ms/step - loss: 12.4422 - mse: 244.6500\n",
            "Epoch 491/500\n",
            "2/2 [==============================] - 0s 4ms/step - loss: 23.6043 - mse: 837.2355\n",
            "Epoch 492/500\n",
            "2/2 [==============================] - 0s 5ms/step - loss: 20.5703 - mse: 594.1855\n",
            "Epoch 493/500\n",
            "2/2 [==============================] - 0s 4ms/step - loss: 5.0118 - mse: 48.0884\n",
            "Epoch 494/500\n",
            "2/2 [==============================] - 0s 4ms/step - loss: 12.8215 - mse: 248.4557\n",
            "Epoch 495/500\n",
            "2/2 [==============================] - 0s 6ms/step - loss: 13.3758 - mse: 239.0469\n",
            "Epoch 496/500\n",
            "2/2 [==============================] - 0s 3ms/step - loss: 12.6721 - mse: 241.6085\n",
            "Epoch 497/500\n",
            "2/2 [==============================] - 0s 4ms/step - loss: 17.6190 - mse: 515.3112\n",
            "Epoch 498/500\n",
            "2/2 [==============================] - 0s 3ms/step - loss: 23.5698 - mse: 817.1396\n",
            "Epoch 499/500\n",
            "2/2 [==============================] - 0s 4ms/step - loss: 9.3797 - mse: 136.2375\n",
            "Epoch 500/500\n",
            "2/2 [==============================] - 0s 4ms/step - loss: 14.6353 - mse: 295.3286\n"
          ]
        },
        {
          "output_type": "execute_result",
          "data": {
            "text/plain": [
              "<keras.callbacks.History at 0x7f9c9dc9dfc0>"
            ]
          },
          "metadata": {},
          "execution_count": 61
        }
      ]
    },
    {
      "cell_type": "code",
      "source": [
        "y_preds_3 = model_3.predict(X_test)\n",
        "plot_predictions(predictions = y_preds_3)"
      ],
      "metadata": {
        "colab": {
          "base_uri": "https://localhost:8080/",
          "height": 485
        },
        "id": "NadoO5T0gIUp",
        "outputId": "7dfecc42-69d2-40e5-fb77-b8f95bce86ad"
      },
      "execution_count": null,
      "outputs": [
        {
          "output_type": "stream",
          "name": "stdout",
          "text": [
            "1/1 [==============================] - 0s 35ms/step\n"
          ]
        },
        {
          "output_type": "display_data",
          "data": {
            "text/plain": [
              "<Figure size 1000x700 with 1 Axes>"
            ],
            "image/png": "[encoded data removed]"
          },
          "metadata": {}
        }
      ]
    },
    {
      "cell_type": "code",
      "source": [
        "#calculate model 3 evaluation metrics\n",
        "mae_3 = mae(y_test, y_preds_3)\n",
        "mse_3 = mse(y_test, y_preds_3)\n",
        "mae_3, mse_3"
      ],
      "metadata": {
        "colab": {
          "base_uri": "https://localhost:8080/"
        },
        "id": "NQwtpuopgXvY",
        "outputId": "8a03f9dd-ed86-487f-aa7d-00edc946d1d4"
      },
      "execution_count": null,
      "outputs": [
        {
          "output_type": "execute_result",
          "data": {
            "text/plain": [
              "(<tf.Tensor: shape=(10,), dtype=float32, numpy=\n",
              " array([72.15771 , 71.39546 , 70.633224, 69.87097 , 69.108734, 68.3465  ,\n",
              "        67.58425 , 66.82201 , 66.05977 , 65.29752 ], dtype=float32)>,\n",
              " <tf.Tensor: shape=(10,), dtype=float32, numpy=\n",
              " array([5338.7344, 5229.312 , 5121.0522, 5013.9526, 4908.0166, 4803.2437,\n",
              "        4699.6313, 4597.1807, 4495.893 , 4395.7666], dtype=float32)>)"
            ]
          },
          "metadata": {},
          "execution_count": 63
        }
      ]
    },
    {
      "cell_type": "markdown",
      "source": [
        "Compare the results of all the three models"
      ],
      "metadata": {
        "id": "WAs5e1NJhZQ8"
      }
    },
    {
      "cell_type": "code",
      "source": [
        "import pandas as pd\n",
        "\n",
        "model_results = [[\"models_1\", mae_1.numpy(), mse_1.numpy()],\n",
        "                 [\"model_2\", mae_2.numpy(), mse_2.numpy()],\n",
        "                 [\"model_3\",mae_3.numpy(), mse_3.numpy()]]\n",
        "\n",
        "all_results=pd.DataFrame(model_results,columns=[\"model\",\"mae\",\"mse\"])\n",
        "all_results"
      ],
      "metadata": {
        "colab": {
          "base_uri": "https://localhost:8080/",
          "height": 239
        },
        "id": "4Gd5g8SRhd1b",
        "outputId": "12b7858d-3c6b-479b-add4-c655b5861cfe"
      },
      "execution_count": null,
      "outputs": [
        {
          "output_type": "execute_result",
          "data": {
            "text/plain": [
              "      model                                                mae  \\\n",
              "0  models_1                                           14.96759   \n",
              "1   model_2  [13.656282, 11.2598295, 10.041066, 10.1477785,...   \n",
              "2   model_3  [72.15771, 71.39546, 70.633224, 69.87097, 69.1...   \n",
              "\n",
              "                                                 mse  \n",
              "0  [1125.8695, 907.40607, 716.02136, 551.7153, 41...  \n",
              "1  [278.26007, 183.11642, 136.86348, 139.50153, 1...  \n",
              "2  [5338.7344, 5229.312, 5121.0522, 5013.9526, 49...  "
            ],
            "text/html": [
              "\n",
              "  <div id=\"df-f9b4dc48-b011-450e-85d3-0edbf7b0da5e\">\n",
              "    <div class=\"colab-df-container\">\n",
              "      <div>\n",
              "<style scoped>\n",
              "    .dataframe tbody tr th:only-of-type {\n",
              "        vertical-align: middle;\n",
              "    }\n",
              "\n",
              "    .dataframe tbody tr th {\n",
              "        vertical-align: top;\n",
              "    }\n",
              "\n",
              "    .dataframe thead th {\n",
              "        text-align: right;\n",
              "    }\n",
              "</style>\n",
              "<table border=\"1\" class=\"dataframe\">\n",
              "  <thead>\n",
              "    <tr style=\"text-align: right;\">\n",
              "      <th></th>\n",
              "      <th>model</th>\n",
              "      <th>mae</th>\n",
              "      <th>mse</th>\n",
              "    </tr>\n",
              "  </thead>\n",
              "  <tbody>\n",
              "    <tr>\n",
              "      <th>0</th>\n",
              "      <td>models_1</td>\n",
              "      <td>14.96759</td>\n",
              "      <td>[1125.8695, 907.40607, 716.02136, 551.7153, 41...</td>\n",
              "    </tr>\n",
              "    <tr>\n",
              "      <th>1</th>\n",
              "      <td>model_2</td>\n",
              "      <td>[13.656282, 11.2598295, 10.041066, 10.1477785,...</td>\n",
              "      <td>[278.26007, 183.11642, 136.86348, 139.50153, 1...</td>\n",
              "    </tr>\n",
              "    <tr>\n",
              "      <th>2</th>\n",
              "      <td>model_3</td>\n",
              "      <td>[72.15771, 71.39546, 70.633224, 69.87097, 69.1...</td>\n",
              "      <td>[5338.7344, 5229.312, 5121.0522, 5013.9526, 49...</td>\n",
              "    </tr>\n",
              "  </tbody>\n",
              "</table>\n",
              "</div>\n",
              "      <button class=\"colab-df-convert\" onclick=\"convertToInteractive('df-f9b4dc48-b011-450e-85d3-0edbf7b0da5e')\"\n",
              "              title=\"Convert this dataframe to an interactive table.\"\n",
              "              style=\"display:none;\">\n",
              "        \n",
              "  <svg xmlns=\"http://www.w3.org/2000/svg\" height=\"24px\"viewBox=\"0 0 24 24\"\n",
              "       width=\"24px\">\n",
              "    <path d=\"M0 0h24v24H0V0z\" fill=\"none\"/>\n",
              "    <path d=\"M18.56 5.44l.94 2.06.94-2.06 2.06-.94-2.06-.94-.94-2.06-.94 2.06-2.06.94zm-11 1L8.5 8.5l.94-2.06 2.06-.94-2.06-.94L8.5 2.5l-.94 2.06-2.06.94zm10 10l.94 2.06.94-2.06 2.06-.94-2.06-.94-.94-2.06-.94 2.06-2.06.94z\"/><path d=\"M17.41 7.96l-1.37-1.37c-.4-.4-.92-.59-1.43-.59-.52 0-1.04.2-1.43.59L10.3 9.45l-7.72 7.72c-.78.78-.78 2.05 0 2.83L4 21.41c.39.39.9.59 1.41.59.51 0 1.02-.2 1.41-.59l7.78-7.78 2.81-2.81c.8-.78.8-2.07 0-2.86zM5.41 20L4 18.59l7.72-7.72 1.47 1.35L5.41 20z\"/>\n",
              "  </svg>\n",
              "      </button>\n",
              "      \n",
              "  <style>\n",
              "    .colab-df-container {\n",
              "      display:flex;\n",
              "      flex-wrap:wrap;\n",
              "      gap: 12px;\n",
              "    }\n",
              "\n",
              "    .colab-df-convert {\n",
              "      background-color: #E8F0FE;\n",
              "      border: none;\n",
              "      border-radius: 50%;\n",
              "      cursor: pointer;\n",
              "      display: none;\n",
              "      fill: #1967D2;\n",
              "      height: 32px;\n",
              "      padding: 0 0 0 0;\n",
              "      width: 32px;\n",
              "    }\n",
              "\n",
              "    .colab-df-convert:hover {\n",
              "      background-color: #E2EBFA;\n",
              "      box-shadow: 0px 1px 2px rgba(60, 64, 67, 0.3), 0px 1px 3px 1px rgba(60, 64, 67, 0.15);\n",
              "      fill: #174EA6;\n",
              "    }\n",
              "\n",
              "    [theme=dark] .colab-df-convert {\n",
              "      background-color: #3B4455;\n",
              "      fill: #D2E3FC;\n",
              "    }\n",
              "\n",
              "    [theme=dark] .colab-df-convert:hover {\n",
              "      background-color: #434B5C;\n",
              "      box-shadow: 0px 1px 3px 1px rgba(0, 0, 0, 0.15);\n",
              "      filter: drop-shadow(0px 1px 2px rgba(0, 0, 0, 0.3));\n",
              "      fill: #FFFFFF;\n",
              "    }\n",
              "  </style>\n",
              "\n",
              "      <script>\n",
              "        const buttonEl =\n",
              "          document.querySelector('#df-f9b4dc48-b011-450e-85d3-0edbf7b0da5e button.colab-df-convert');\n",
              "        buttonEl.style.display =\n",
              "          google.colab.kernel.accessAllowed ? 'block' : 'none';\n",
              "\n",
              "        async function convertToInteractive(key) {\n",
              "          const element = document.querySelector('#df-f9b4dc48-b011-450e-85d3-0edbf7b0da5e');\n",
              "          const dataTable =\n",
              "            await google.colab.kernel.invokeFunction('convertToInteractive',\n",
              "                                                     [key], {});\n",
              "          if (!dataTable) return;\n",
              "\n",
              "          const docLinkHtml = 'Like what you see? Visit the ' +\n",
              "            '<a target=\"_blank\" href=https://colab.research.google.com/notebooks/data_table.ipynb>data table notebook</a>'\n",
              "            + ' to learn more about interactive tables.';\n",
              "          element.innerHTML = '';\n",
              "          dataTable['output_type'] = 'display_data';\n",
              "          await google.colab.output.renderOutput(dataTable, element);\n",
              "          const docLink = document.createElement('div');\n",
              "          docLink.innerHTML = docLinkHtml;\n",
              "          element.appendChild(docLink);\n",
              "        }\n",
              "      </script>\n",
              "    </div>\n",
              "  </div>\n",
              "  "
            ]
          },
          "metadata": {},
          "execution_count": 65
        }
      ]
    },
    {
      "cell_type": "markdown",
      "source": [
        "\"Tensorboard\" and \"weight and biases\" are two vizualiztion tools used for visualizing different models performance"
      ],
      "metadata": {
        "id": "rUAPgEOyjKd8"
      }
    },
    {
      "cell_type": "markdown",
      "source": [
        "###Saving the models\n",
        "\n",
        "Saving the model allows us to use them outside of Google colab(orwhatever they were trained) such as an web application or a mobile app\n",
        "\n",
        "There are two main formats we can save our model's too:\n",
        "\n",
        "1. The SaveModel format\n",
        "2. The HDF5 format"
      ],
      "metadata": {
        "id": "5V2FbSZOmwub"
      }
    },
    {
      "cell_type": "code",
      "source": [
        "#saving a model using savedmodel format\n",
        "\n",
        "model_2.save(\"best_model_SavedModel_format\")"
      ],
      "metadata": {
        "colab": {
          "base_uri": "https://localhost:8080/"
        },
        "id": "YT4boEJdiAXo",
        "outputId": "826b5a5d-91b0-4bea-b6f7-26dcae4b1534"
      },
      "execution_count": null,
      "outputs": [
        {
          "output_type": "stream",
          "name": "stderr",
          "text": [
            "WARNING:absl:Found untraced functions such as _update_step_xla while saving (showing 1 of 1). These functions will not be directly callable after loading.\n"
          ]
        }
      ]
    },
    {
      "cell_type": "code",
      "source": [
        "#save model using the hdfi format\n",
        "model_2.save(\"best_model_HDF5_format.h5\")"
      ],
      "metadata": {
        "id": "mUlG8ZuFnggj"
      },
      "execution_count": null,
      "outputs": []
    },
    {
      "cell_type": "markdown",
      "source": [
        "Loading in a saved module"
      ],
      "metadata": {
        "id": "FvCOr_z5osZa"
      }
    },
    {
      "cell_type": "code",
      "source": [
        "#load in the saved in model format\n",
        "\n",
        "loaded_SavedModel_format = tf.keras.models.load_model(\"/content/best_model_SavedModel_format\")\n",
        "loaded_SavedModel_format.summary()"
      ],
      "metadata": {
        "colab": {
          "base_uri": "https://localhost:8080/"
        },
        "id": "hrprTUU3n3AI",
        "outputId": "ae134732-5776-4236-e226-6113181538ef"
      },
      "execution_count": null,
      "outputs": [
        {
          "output_type": "stream",
          "name": "stdout",
          "text": [
            "Model: \"sequential_11\"\n",
            "_________________________________________________________________\n",
            " Layer (type)                Output Shape              Param #   \n",
            "=================================================================\n",
            " dense_18 (Dense)            (None, 1000)              2000      \n",
            "                                                                 \n",
            " dense_19 (Dense)            (None, 1)                 1001      \n",
            "                                                                 \n",
            "=================================================================\n",
            "Total params: 3,001\n",
            "Trainable params: 3,001\n",
            "Non-trainable params: 0\n",
            "_________________________________________________________________\n"
          ]
        }
      ]
    },
    {
      "cell_type": "code",
      "source": [
        "model_2.summary()"
      ],
      "metadata": {
        "colab": {
          "base_uri": "https://localhost:8080/"
        },
        "id": "aIfyeE_JpE54",
        "outputId": "1303417d-7ec3-4bd1-a260-968b96517b72"
      },
      "execution_count": null,
      "outputs": [
        {
          "output_type": "stream",
          "name": "stdout",
          "text": [
            "Model: \"sequential_11\"\n",
            "_________________________________________________________________\n",
            " Layer (type)                Output Shape              Param #   \n",
            "=================================================================\n",
            " dense_18 (Dense)            (None, 1000)              2000      \n",
            "                                                                 \n",
            " dense_19 (Dense)            (None, 1)                 1001      \n",
            "                                                                 \n",
            "=================================================================\n",
            "Total params: 3,001\n",
            "Trainable params: 3,001\n",
            "Non-trainable params: 0\n",
            "_________________________________________________________________\n"
          ]
        }
      ]
    },
    {
      "cell_type": "code",
      "source": [
        "#compare model_2 predictions with the SavedModel format model predictions\n",
        "model_2_preds = model_2.predict(X_test)\n",
        "loaded_SavedModel_format_preds = loaded_SavedModel_format.predict(X_test)\n",
        "model_2_preds == loaded_SavedModel_format_preds"
      ],
      "metadata": {
        "colab": {
          "base_uri": "https://localhost:8080/"
        },
        "id": "R39VKU0gpRXd",
        "outputId": "1f1baed9-4226-45c2-de9f-96e108e4f837"
      },
      "execution_count": null,
      "outputs": [
        {
          "output_type": "stream",
          "name": "stdout",
          "text": [
            "1/1 [==============================] - 0s 19ms/step\n",
            "1/1 [==============================] - 0s 15ms/step\n"
          ]
        },
        {
          "output_type": "execute_result",
          "data": {
            "text/plain": [
              "array([[ True],\n",
              "       [ True],\n",
              "       [ True],\n",
              "       [ True],\n",
              "       [ True],\n",
              "       [ True],\n",
              "       [ True],\n",
              "       [ True],\n",
              "       [ True],\n",
              "       [ True]])"
            ]
          },
          "metadata": {},
          "execution_count": 72
        }
      ]
    },
    {
      "cell_type": "code",
      "source": [
        "#loading a model using .h5 format\n",
        "loaded_h5_model = tf.keras.models.load_model(\"/content/best_model_HDF5_format.h5\")\n",
        "loaded_h5_model.summary()"
      ],
      "metadata": {
        "colab": {
          "base_uri": "https://localhost:8080/"
        },
        "id": "nagv3eBmqE2o",
        "outputId": "2a9c0ddc-adec-4279-ce22-a5ccdbb7a49f"
      },
      "execution_count": null,
      "outputs": [
        {
          "output_type": "stream",
          "name": "stdout",
          "text": [
            "Model: \"sequential_11\"\n",
            "_________________________________________________________________\n",
            " Layer (type)                Output Shape              Param #   \n",
            "=================================================================\n",
            " dense_18 (Dense)            (None, 1000)              2000      \n",
            "                                                                 \n",
            " dense_19 (Dense)            (None, 1)                 1001      \n",
            "                                                                 \n",
            "=================================================================\n",
            "Total params: 3,001\n",
            "Trainable params: 3,001\n",
            "Non-trainable params: 0\n",
            "_________________________________________________________________\n"
          ]
        }
      ]
    },
    {
      "cell_type": "code",
      "source": [
        "model_2.summary()"
      ],
      "metadata": {
        "colab": {
          "base_uri": "https://localhost:8080/"
        },
        "id": "vKyI_Mw6rIPA",
        "outputId": "0a5e7130-5ae3-42b7-fc99-dc07e211a17a"
      },
      "execution_count": null,
      "outputs": [
        {
          "output_type": "stream",
          "name": "stdout",
          "text": [
            "Model: \"sequential_11\"\n",
            "_________________________________________________________________\n",
            " Layer (type)                Output Shape              Param #   \n",
            "=================================================================\n",
            " dense_18 (Dense)            (None, 1000)              2000      \n",
            "                                                                 \n",
            " dense_19 (Dense)            (None, 1)                 1001      \n",
            "                                                                 \n",
            "=================================================================\n",
            "Total params: 3,001\n",
            "Trainable params: 3,001\n",
            "Non-trainable params: 0\n",
            "_________________________________________________________________\n"
          ]
        }
      ]
    },
    {
      "cell_type": "code",
      "source": [
        "load_model_2 = model_2.predict(X_test)\n",
        "loaded_model_h5_pred = loaded_h5_model.predict(X_test)\n",
        "loaded_model_2 == loaded_model_h5_pred"
      ],
      "metadata": {
        "colab": {
          "base_uri": "https://localhost:8080/"
        },
        "id": "9w4P65DurVAE",
        "outputId": "94698582-7d29-4823-bdd4-f5a42d488a4a"
      },
      "execution_count": null,
      "outputs": [
        {
          "output_type": "stream",
          "name": "stdout",
          "text": [
            "1/1 [==============================] - 0s 16ms/step\n",
            "1/1 [==============================] - 0s 16ms/step\n"
          ]
        },
        {
          "output_type": "execute_result",
          "data": {
            "text/plain": [
              "array([[ True],\n",
              "       [ True],\n",
              "       [ True],\n",
              "       [ True],\n",
              "       [ True],\n",
              "       [ True],\n",
              "       [ True],\n",
              "       [ True],\n",
              "       [ True],\n",
              "       [ True]])"
            ]
          },
          "metadata": {},
          "execution_count": 79
        }
      ]
    },
    {
      "cell_type": "markdown",
      "source": [
        "To save and dowload models in colab"
      ],
      "metadata": {
        "id": "iwRSitASsCB4"
      }
    },
    {
      "cell_type": "code",
      "source": [
        " #Downloads files from Google colab\n",
        "from google.colab import files\n",
        "files.download(\"Path\")"
      ],
      "metadata": {
        "id": "QeMZziuwrw67"
      },
      "execution_count": null,
      "outputs": []
    },
    {
      "cell_type": "code",
      "source": [
        "#Save a file from google colab to google drive (requires mounting Google drive)\n",
        "!cp Path_of_the_model Path_were_you_need_to_store"
      ],
      "metadata": {
        "id": "gA9O0P_73iUF"
      },
      "execution_count": null,
      "outputs": []
    },
    {
      "cell_type": "markdown",
      "source": [
        "###A larger example"
      ],
      "metadata": {
        "id": "KFgzLDYZ4LKB"
      }
    },
    {
      "cell_type": "code",
      "source": [
        "import pandas as pd\n",
        "import numpy as np\n",
        "import matplotlib.pyplot as plt\n",
        "import seaborn as sns\n",
        "import tensorflow as tf"
      ],
      "metadata": {
        "id": "ezBwovra8roV"
      },
      "execution_count": null,
      "outputs": []
    },
    {
      "cell_type": "code",
      "source": [
        "insurance = pd.read_csv(\"/content/insurance.csv\")"
      ],
      "metadata": {
        "id": "_LBX-RPs82W-"
      },
      "execution_count": null,
      "outputs": []
    },
    {
      "cell_type": "code",
      "source": [
        "insurance"
      ],
      "metadata": {
        "id": "ifGQXSGT9AIL",
        "outputId": "0a045b2f-19ee-4325-8915-dd8648bedfd2",
        "colab": {
          "base_uri": "https://localhost:8080/",
          "height": 423
        }
      },
      "execution_count": null,
      "outputs": [
        {
          "output_type": "execute_result",
          "data": {
            "text/plain": [
              "      age     sex     bmi  children smoker     region      charges\n",
              "0      19  female  27.900         0    yes  southwest  16884.92400\n",
              "1      18    male  33.770         1     no  southeast   1725.55230\n",
              "2      28    male  33.000         3     no  southeast   4449.46200\n",
              "3      33    male  22.705         0     no  northwest  21984.47061\n",
              "4      32    male  28.880         0     no  northwest   3866.85520\n",
              "...   ...     ...     ...       ...    ...        ...          ...\n",
              "1333   50    male  30.970         3     no  northwest  10600.54830\n",
              "1334   18  female  31.920         0     no  northeast   2205.98080\n",
              "1335   18  female  36.850         0     no  southeast   1629.83350\n",
              "1336   21  female  25.800         0     no  southwest   2007.94500\n",
              "1337   61  female  29.070         0    yes  northwest  29141.36030\n",
              "\n",
              "[1338 rows x 7 columns]"
            ],
            "text/html": [
              "\n",
              "  <div id=\"df-78c33677-d5c0-486a-b644-5abeeaf578a8\">\n",
              "    <div class=\"colab-df-container\">\n",
              "      <div>\n",
              "<style scoped>\n",
              "    .dataframe tbody tr th:only-of-type {\n",
              "        vertical-align: middle;\n",
              "    }\n",
              "\n",
              "    .dataframe tbody tr th {\n",
              "        vertical-align: top;\n",
              "    }\n",
              "\n",
              "    .dataframe thead th {\n",
              "        text-align: right;\n",
              "    }\n",
              "</style>\n",
              "<table border=\"1\" class=\"dataframe\">\n",
              "  <thead>\n",
              "    <tr style=\"text-align: right;\">\n",
              "      <th></th>\n",
              "      <th>age</th>\n",
              "      <th>sex</th>\n",
              "      <th>bmi</th>\n",
              "      <th>children</th>\n",
              "      <th>smoker</th>\n",
              "      <th>region</th>\n",
              "      <th>charges</th>\n",
              "    </tr>\n",
              "  </thead>\n",
              "  <tbody>\n",
              "    <tr>\n",
              "      <th>0</th>\n",
              "      <td>19</td>\n",
              "      <td>female</td>\n",
              "      <td>27.900</td>\n",
              "      <td>0</td>\n",
              "      <td>yes</td>\n",
              "      <td>southwest</td>\n",
              "      <td>16884.92400</td>\n",
              "    </tr>\n",
              "    <tr>\n",
              "      <th>1</th>\n",
              "      <td>18</td>\n",
              "      <td>male</td>\n",
              "      <td>33.770</td>\n",
              "      <td>1</td>\n",
              "      <td>no</td>\n",
              "      <td>southeast</td>\n",
              "      <td>1725.55230</td>\n",
              "    </tr>\n",
              "    <tr>\n",
              "      <th>2</th>\n",
              "      <td>28</td>\n",
              "      <td>male</td>\n",
              "      <td>33.000</td>\n",
              "      <td>3</td>\n",
              "      <td>no</td>\n",
              "      <td>southeast</td>\n",
              "      <td>4449.46200</td>\n",
              "    </tr>\n",
              "    <tr>\n",
              "      <th>3</th>\n",
              "      <td>33</td>\n",
              "      <td>male</td>\n",
              "      <td>22.705</td>\n",
              "      <td>0</td>\n",
              "      <td>no</td>\n",
              "      <td>northwest</td>\n",
              "      <td>21984.47061</td>\n",
              "    </tr>\n",
              "    <tr>\n",
              "      <th>4</th>\n",
              "      <td>32</td>\n",
              "      <td>male</td>\n",
              "      <td>28.880</td>\n",
              "      <td>0</td>\n",
              "      <td>no</td>\n",
              "      <td>northwest</td>\n",
              "      <td>3866.85520</td>\n",
              "    </tr>\n",
              "    <tr>\n",
              "      <th>...</th>\n",
              "      <td>...</td>\n",
              "      <td>...</td>\n",
              "      <td>...</td>\n",
              "      <td>...</td>\n",
              "      <td>...</td>\n",
              "      <td>...</td>\n",
              "      <td>...</td>\n",
              "    </tr>\n",
              "    <tr>\n",
              "      <th>1333</th>\n",
              "      <td>50</td>\n",
              "      <td>male</td>\n",
              "      <td>30.970</td>\n",
              "      <td>3</td>\n",
              "      <td>no</td>\n",
              "      <td>northwest</td>\n",
              "      <td>10600.54830</td>\n",
              "    </tr>\n",
              "    <tr>\n",
              "      <th>1334</th>\n",
              "      <td>18</td>\n",
              "      <td>female</td>\n",
              "      <td>31.920</td>\n",
              "      <td>0</td>\n",
              "      <td>no</td>\n",
              "      <td>northeast</td>\n",
              "      <td>2205.98080</td>\n",
              "    </tr>\n",
              "    <tr>\n",
              "      <th>1335</th>\n",
              "      <td>18</td>\n",
              "      <td>female</td>\n",
              "      <td>36.850</td>\n",
              "      <td>0</td>\n",
              "      <td>no</td>\n",
              "      <td>southeast</td>\n",
              "      <td>1629.83350</td>\n",
              "    </tr>\n",
              "    <tr>\n",
              "      <th>1336</th>\n",
              "      <td>21</td>\n",
              "      <td>female</td>\n",
              "      <td>25.800</td>\n",
              "      <td>0</td>\n",
              "      <td>no</td>\n",
              "      <td>southwest</td>\n",
              "      <td>2007.94500</td>\n",
              "    </tr>\n",
              "    <tr>\n",
              "      <th>1337</th>\n",
              "      <td>61</td>\n",
              "      <td>female</td>\n",
              "      <td>29.070</td>\n",
              "      <td>0</td>\n",
              "      <td>yes</td>\n",
              "      <td>northwest</td>\n",
              "      <td>29141.36030</td>\n",
              "    </tr>\n",
              "  </tbody>\n",
              "</table>\n",
              "<p>1338 rows × 7 columns</p>\n",
              "</div>\n",
              "      <button class=\"colab-df-convert\" onclick=\"convertToInteractive('df-78c33677-d5c0-486a-b644-5abeeaf578a8')\"\n",
              "              title=\"Convert this dataframe to an interactive table.\"\n",
              "              style=\"display:none;\">\n",
              "        \n",
              "  <svg xmlns=\"http://www.w3.org/2000/svg\" height=\"24px\"viewBox=\"0 0 24 24\"\n",
              "       width=\"24px\">\n",
              "    <path d=\"M0 0h24v24H0V0z\" fill=\"none\"/>\n",
              "    <path d=\"M18.56 5.44l.94 2.06.94-2.06 2.06-.94-2.06-.94-.94-2.06-.94 2.06-2.06.94zm-11 1L8.5 8.5l.94-2.06 2.06-.94-2.06-.94L8.5 2.5l-.94 2.06-2.06.94zm10 10l.94 2.06.94-2.06 2.06-.94-2.06-.94-.94-2.06-.94 2.06-2.06.94z\"/><path d=\"M17.41 7.96l-1.37-1.37c-.4-.4-.92-.59-1.43-.59-.52 0-1.04.2-1.43.59L10.3 9.45l-7.72 7.72c-.78.78-.78 2.05 0 2.83L4 21.41c.39.39.9.59 1.41.59.51 0 1.02-.2 1.41-.59l7.78-7.78 2.81-2.81c.8-.78.8-2.07 0-2.86zM5.41 20L4 18.59l7.72-7.72 1.47 1.35L5.41 20z\"/>\n",
              "  </svg>\n",
              "      </button>\n",
              "      \n",
              "  <style>\n",
              "    .colab-df-container {\n",
              "      display:flex;\n",
              "      flex-wrap:wrap;\n",
              "      gap: 12px;\n",
              "    }\n",
              "\n",
              "    .colab-df-convert {\n",
              "      background-color: #E8F0FE;\n",
              "      border: none;\n",
              "      border-radius: 50%;\n",
              "      cursor: pointer;\n",
              "      display: none;\n",
              "      fill: #1967D2;\n",
              "      height: 32px;\n",
              "      padding: 0 0 0 0;\n",
              "      width: 32px;\n",
              "    }\n",
              "\n",
              "    .colab-df-convert:hover {\n",
              "      background-color: #E2EBFA;\n",
              "      box-shadow: 0px 1px 2px rgba(60, 64, 67, 0.3), 0px 1px 3px 1px rgba(60, 64, 67, 0.15);\n",
              "      fill: #174EA6;\n",
              "    }\n",
              "\n",
              "    [theme=dark] .colab-df-convert {\n",
              "      background-color: #3B4455;\n",
              "      fill: #D2E3FC;\n",
              "    }\n",
              "\n",
              "    [theme=dark] .colab-df-convert:hover {\n",
              "      background-color: #434B5C;\n",
              "      box-shadow: 0px 1px 3px 1px rgba(0, 0, 0, 0.15);\n",
              "      filter: drop-shadow(0px 1px 2px rgba(0, 0, 0, 0.3));\n",
              "      fill: #FFFFFF;\n",
              "    }\n",
              "  </style>\n",
              "\n",
              "      <script>\n",
              "        const buttonEl =\n",
              "          document.querySelector('#df-78c33677-d5c0-486a-b644-5abeeaf578a8 button.colab-df-convert');\n",
              "        buttonEl.style.display =\n",
              "          google.colab.kernel.accessAllowed ? 'block' : 'none';\n",
              "\n",
              "        async function convertToInteractive(key) {\n",
              "          const element = document.querySelector('#df-78c33677-d5c0-486a-b644-5abeeaf578a8');\n",
              "          const dataTable =\n",
              "            await google.colab.kernel.invokeFunction('convertToInteractive',\n",
              "                                                     [key], {});\n",
              "          if (!dataTable) return;\n",
              "\n",
              "          const docLinkHtml = 'Like what you see? Visit the ' +\n",
              "            '<a target=\"_blank\" href=https://colab.research.google.com/notebooks/data_table.ipynb>data table notebook</a>'\n",
              "            + ' to learn more about interactive tables.';\n",
              "          element.innerHTML = '';\n",
              "          dataTable['output_type'] = 'display_data';\n",
              "          await google.colab.output.renderOutput(dataTable, element);\n",
              "          const docLink = document.createElement('div');\n",
              "          docLink.innerHTML = docLinkHtml;\n",
              "          element.appendChild(docLink);\n",
              "        }\n",
              "      </script>\n",
              "    </div>\n",
              "  </div>\n",
              "  "
            ]
          },
          "metadata": {},
          "execution_count": 3
        }
      ]
    },
    {
      "cell_type": "code",
      "source": [
        "#One hot encoding - to convert all the object type attributes to numbers\n",
        "insurance_one_hot = pd.get_dummies(insurance)\n",
        "insurance_one_hot.head()"
      ],
      "metadata": {
        "id": "IUwaxSnI9BLO",
        "colab": {
          "base_uri": "https://localhost:8080/",
          "height": 270
        },
        "outputId": "33d903c5-4bfc-4ac5-ef65-4118aed07c60"
      },
      "execution_count": null,
      "outputs": [
        {
          "output_type": "execute_result",
          "data": {
            "text/plain": [
              "   age     bmi  children      charges  sex_female  sex_male  smoker_no  \\\n",
              "0   19  27.900         0  16884.92400           1         0          0   \n",
              "1   18  33.770         1   1725.55230           0         1          1   \n",
              "2   28  33.000         3   4449.46200           0         1          1   \n",
              "3   33  22.705         0  21984.47061           0         1          1   \n",
              "4   32  28.880         0   3866.85520           0         1          1   \n",
              "\n",
              "   smoker_yes  region_northeast  region_northwest  region_southeast  \\\n",
              "0           1                 0                 0                 0   \n",
              "1           0                 0                 0                 1   \n",
              "2           0                 0                 0                 1   \n",
              "3           0                 0                 1                 0   \n",
              "4           0                 0                 1                 0   \n",
              "\n",
              "   region_southwest  \n",
              "0                 1  \n",
              "1                 0  \n",
              "2                 0  \n",
              "3                 0  \n",
              "4                 0  "
            ],
            "text/html": [
              "\n",
              "  <div id=\"df-08ba7734-59bc-4363-9901-49728ef441c9\">\n",
              "    <div class=\"colab-df-container\">\n",
              "      <div>\n",
              "<style scoped>\n",
              "    .dataframe tbody tr th:only-of-type {\n",
              "        vertical-align: middle;\n",
              "    }\n",
              "\n",
              "    .dataframe tbody tr th {\n",
              "        vertical-align: top;\n",
              "    }\n",
              "\n",
              "    .dataframe thead th {\n",
              "        text-align: right;\n",
              "    }\n",
              "</style>\n",
              "<table border=\"1\" class=\"dataframe\">\n",
              "  <thead>\n",
              "    <tr style=\"text-align: right;\">\n",
              "      <th></th>\n",
              "      <th>age</th>\n",
              "      <th>bmi</th>\n",
              "      <th>children</th>\n",
              "      <th>charges</th>\n",
              "      <th>sex_female</th>\n",
              "      <th>sex_male</th>\n",
              "      <th>smoker_no</th>\n",
              "      <th>smoker_yes</th>\n",
              "      <th>region_northeast</th>\n",
              "      <th>region_northwest</th>\n",
              "      <th>region_southeast</th>\n",
              "      <th>region_southwest</th>\n",
              "    </tr>\n",
              "  </thead>\n",
              "  <tbody>\n",
              "    <tr>\n",
              "      <th>0</th>\n",
              "      <td>19</td>\n",
              "      <td>27.900</td>\n",
              "      <td>0</td>\n",
              "      <td>16884.92400</td>\n",
              "      <td>1</td>\n",
              "      <td>0</td>\n",
              "      <td>0</td>\n",
              "      <td>1</td>\n",
              "      <td>0</td>\n",
              "      <td>0</td>\n",
              "      <td>0</td>\n",
              "      <td>1</td>\n",
              "    </tr>\n",
              "    <tr>\n",
              "      <th>1</th>\n",
              "      <td>18</td>\n",
              "      <td>33.770</td>\n",
              "      <td>1</td>\n",
              "      <td>1725.55230</td>\n",
              "      <td>0</td>\n",
              "      <td>1</td>\n",
              "      <td>1</td>\n",
              "      <td>0</td>\n",
              "      <td>0</td>\n",
              "      <td>0</td>\n",
              "      <td>1</td>\n",
              "      <td>0</td>\n",
              "    </tr>\n",
              "    <tr>\n",
              "      <th>2</th>\n",
              "      <td>28</td>\n",
              "      <td>33.000</td>\n",
              "      <td>3</td>\n",
              "      <td>4449.46200</td>\n",
              "      <td>0</td>\n",
              "      <td>1</td>\n",
              "      <td>1</td>\n",
              "      <td>0</td>\n",
              "      <td>0</td>\n",
              "      <td>0</td>\n",
              "      <td>1</td>\n",
              "      <td>0</td>\n",
              "    </tr>\n",
              "    <tr>\n",
              "      <th>3</th>\n",
              "      <td>33</td>\n",
              "      <td>22.705</td>\n",
              "      <td>0</td>\n",
              "      <td>21984.47061</td>\n",
              "      <td>0</td>\n",
              "      <td>1</td>\n",
              "      <td>1</td>\n",
              "      <td>0</td>\n",
              "      <td>0</td>\n",
              "      <td>1</td>\n",
              "      <td>0</td>\n",
              "      <td>0</td>\n",
              "    </tr>\n",
              "    <tr>\n",
              "      <th>4</th>\n",
              "      <td>32</td>\n",
              "      <td>28.880</td>\n",
              "      <td>0</td>\n",
              "      <td>3866.85520</td>\n",
              "      <td>0</td>\n",
              "      <td>1</td>\n",
              "      <td>1</td>\n",
              "      <td>0</td>\n",
              "      <td>0</td>\n",
              "      <td>1</td>\n",
              "      <td>0</td>\n",
              "      <td>0</td>\n",
              "    </tr>\n",
              "  </tbody>\n",
              "</table>\n",
              "</div>\n",
              "      <button class=\"colab-df-convert\" onclick=\"convertToInteractive('df-08ba7734-59bc-4363-9901-49728ef441c9')\"\n",
              "              title=\"Convert this dataframe to an interactive table.\"\n",
              "              style=\"display:none;\">\n",
              "        \n",
              "  <svg xmlns=\"http://www.w3.org/2000/svg\" height=\"24px\"viewBox=\"0 0 24 24\"\n",
              "       width=\"24px\">\n",
              "    <path d=\"M0 0h24v24H0V0z\" fill=\"none\"/>\n",
              "    <path d=\"M18.56 5.44l.94 2.06.94-2.06 2.06-.94-2.06-.94-.94-2.06-.94 2.06-2.06.94zm-11 1L8.5 8.5l.94-2.06 2.06-.94-2.06-.94L8.5 2.5l-.94 2.06-2.06.94zm10 10l.94 2.06.94-2.06 2.06-.94-2.06-.94-.94-2.06-.94 2.06-2.06.94z\"/><path d=\"M17.41 7.96l-1.37-1.37c-.4-.4-.92-.59-1.43-.59-.52 0-1.04.2-1.43.59L10.3 9.45l-7.72 7.72c-.78.78-.78 2.05 0 2.83L4 21.41c.39.39.9.59 1.41.59.51 0 1.02-.2 1.41-.59l7.78-7.78 2.81-2.81c.8-.78.8-2.07 0-2.86zM5.41 20L4 18.59l7.72-7.72 1.47 1.35L5.41 20z\"/>\n",
              "  </svg>\n",
              "      </button>\n",
              "      \n",
              "  <style>\n",
              "    .colab-df-container {\n",
              "      display:flex;\n",
              "      flex-wrap:wrap;\n",
              "      gap: 12px;\n",
              "    }\n",
              "\n",
              "    .colab-df-convert {\n",
              "      background-color: #E8F0FE;\n",
              "      border: none;\n",
              "      border-radius: 50%;\n",
              "      cursor: pointer;\n",
              "      display: none;\n",
              "      fill: #1967D2;\n",
              "      height: 32px;\n",
              "      padding: 0 0 0 0;\n",
              "      width: 32px;\n",
              "    }\n",
              "\n",
              "    .colab-df-convert:hover {\n",
              "      background-color: #E2EBFA;\n",
              "      box-shadow: 0px 1px 2px rgba(60, 64, 67, 0.3), 0px 1px 3px 1px rgba(60, 64, 67, 0.15);\n",
              "      fill: #174EA6;\n",
              "    }\n",
              "\n",
              "    [theme=dark] .colab-df-convert {\n",
              "      background-color: #3B4455;\n",
              "      fill: #D2E3FC;\n",
              "    }\n",
              "\n",
              "    [theme=dark] .colab-df-convert:hover {\n",
              "      background-color: #434B5C;\n",
              "      box-shadow: 0px 1px 3px 1px rgba(0, 0, 0, 0.15);\n",
              "      filter: drop-shadow(0px 1px 2px rgba(0, 0, 0, 0.3));\n",
              "      fill: #FFFFFF;\n",
              "    }\n",
              "  </style>\n",
              "\n",
              "      <script>\n",
              "        const buttonEl =\n",
              "          document.querySelector('#df-08ba7734-59bc-4363-9901-49728ef441c9 button.colab-df-convert');\n",
              "        buttonEl.style.display =\n",
              "          google.colab.kernel.accessAllowed ? 'block' : 'none';\n",
              "\n",
              "        async function convertToInteractive(key) {\n",
              "          const element = document.querySelector('#df-08ba7734-59bc-4363-9901-49728ef441c9');\n",
              "          const dataTable =\n",
              "            await google.colab.kernel.invokeFunction('convertToInteractive',\n",
              "                                                     [key], {});\n",
              "          if (!dataTable) return;\n",
              "\n",
              "          const docLinkHtml = 'Like what you see? Visit the ' +\n",
              "            '<a target=\"_blank\" href=https://colab.research.google.com/notebooks/data_table.ipynb>data table notebook</a>'\n",
              "            + ' to learn more about interactive tables.';\n",
              "          element.innerHTML = '';\n",
              "          dataTable['output_type'] = 'display_data';\n",
              "          await google.colab.output.renderOutput(dataTable, element);\n",
              "          const docLink = document.createElement('div');\n",
              "          docLink.innerHTML = docLinkHtml;\n",
              "          element.appendChild(docLink);\n",
              "        }\n",
              "      </script>\n",
              "    </div>\n",
              "  </div>\n",
              "  "
            ]
          },
          "metadata": {},
          "execution_count": 4
        }
      ]
    },
    {
      "cell_type": "code",
      "source": [
        "#create x and y i.e., features and labels\n",
        "\n",
        "X = insurance_one_hot.drop(\"charges\", axis=1)\n",
        "y = insurance_one_hot[\"charges\"]"
      ],
      "metadata": {
        "id": "IvKMRhOPfwiG"
      },
      "execution_count": null,
      "outputs": []
    },
    {
      "cell_type": "code",
      "source": [
        "X.head()"
      ],
      "metadata": {
        "colab": {
          "base_uri": "https://localhost:8080/",
          "height": 270
        },
        "id": "_JPfBPEHg7Fx",
        "outputId": "9f9c6c4e-587c-4db7-f5ce-1588127dfa82"
      },
      "execution_count": null,
      "outputs": [
        {
          "output_type": "execute_result",
          "data": {
            "text/plain": [
              "   age     bmi  children  sex_female  sex_male  smoker_no  smoker_yes  \\\n",
              "0   19  27.900         0           1         0          0           1   \n",
              "1   18  33.770         1           0         1          1           0   \n",
              "2   28  33.000         3           0         1          1           0   \n",
              "3   33  22.705         0           0         1          1           0   \n",
              "4   32  28.880         0           0         1          1           0   \n",
              "\n",
              "   region_northeast  region_northwest  region_southeast  region_southwest  \n",
              "0                 0                 0                 0                 1  \n",
              "1                 0                 0                 1                 0  \n",
              "2                 0                 0                 1                 0  \n",
              "3                 0                 1                 0                 0  \n",
              "4                 0                 1                 0                 0  "
            ],
            "text/html": [
              "\n",
              "  <div id=\"df-ceb8eef1-438c-44c2-b70d-a3e49023f691\">\n",
              "    <div class=\"colab-df-container\">\n",
              "      <div>\n",
              "<style scoped>\n",
              "    .dataframe tbody tr th:only-of-type {\n",
              "        vertical-align: middle;\n",
              "    }\n",
              "\n",
              "    .dataframe tbody tr th {\n",
              "        vertical-align: top;\n",
              "    }\n",
              "\n",
              "    .dataframe thead th {\n",
              "        text-align: right;\n",
              "    }\n",
              "</style>\n",
              "<table border=\"1\" class=\"dataframe\">\n",
              "  <thead>\n",
              "    <tr style=\"text-align: right;\">\n",
              "      <th></th>\n",
              "      <th>age</th>\n",
              "      <th>bmi</th>\n",
              "      <th>children</th>\n",
              "      <th>sex_female</th>\n",
              "      <th>sex_male</th>\n",
              "      <th>smoker_no</th>\n",
              "      <th>smoker_yes</th>\n",
              "      <th>region_northeast</th>\n",
              "      <th>region_northwest</th>\n",
              "      <th>region_southeast</th>\n",
              "      <th>region_southwest</th>\n",
              "    </tr>\n",
              "  </thead>\n",
              "  <tbody>\n",
              "    <tr>\n",
              "      <th>0</th>\n",
              "      <td>19</td>\n",
              "      <td>27.900</td>\n",
              "      <td>0</td>\n",
              "      <td>1</td>\n",
              "      <td>0</td>\n",
              "      <td>0</td>\n",
              "      <td>1</td>\n",
              "      <td>0</td>\n",
              "      <td>0</td>\n",
              "      <td>0</td>\n",
              "      <td>1</td>\n",
              "    </tr>\n",
              "    <tr>\n",
              "      <th>1</th>\n",
              "      <td>18</td>\n",
              "      <td>33.770</td>\n",
              "      <td>1</td>\n",
              "      <td>0</td>\n",
              "      <td>1</td>\n",
              "      <td>1</td>\n",
              "      <td>0</td>\n",
              "      <td>0</td>\n",
              "      <td>0</td>\n",
              "      <td>1</td>\n",
              "      <td>0</td>\n",
              "    </tr>\n",
              "    <tr>\n",
              "      <th>2</th>\n",
              "      <td>28</td>\n",
              "      <td>33.000</td>\n",
              "      <td>3</td>\n",
              "      <td>0</td>\n",
              "      <td>1</td>\n",
              "      <td>1</td>\n",
              "      <td>0</td>\n",
              "      <td>0</td>\n",
              "      <td>0</td>\n",
              "      <td>1</td>\n",
              "      <td>0</td>\n",
              "    </tr>\n",
              "    <tr>\n",
              "      <th>3</th>\n",
              "      <td>33</td>\n",
              "      <td>22.705</td>\n",
              "      <td>0</td>\n",
              "      <td>0</td>\n",
              "      <td>1</td>\n",
              "      <td>1</td>\n",
              "      <td>0</td>\n",
              "      <td>0</td>\n",
              "      <td>1</td>\n",
              "      <td>0</td>\n",
              "      <td>0</td>\n",
              "    </tr>\n",
              "    <tr>\n",
              "      <th>4</th>\n",
              "      <td>32</td>\n",
              "      <td>28.880</td>\n",
              "      <td>0</td>\n",
              "      <td>0</td>\n",
              "      <td>1</td>\n",
              "      <td>1</td>\n",
              "      <td>0</td>\n",
              "      <td>0</td>\n",
              "      <td>1</td>\n",
              "      <td>0</td>\n",
              "      <td>0</td>\n",
              "    </tr>\n",
              "  </tbody>\n",
              "</table>\n",
              "</div>\n",
              "      <button class=\"colab-df-convert\" onclick=\"convertToInteractive('df-ceb8eef1-438c-44c2-b70d-a3e49023f691')\"\n",
              "              title=\"Convert this dataframe to an interactive table.\"\n",
              "              style=\"display:none;\">\n",
              "        \n",
              "  <svg xmlns=\"http://www.w3.org/2000/svg\" height=\"24px\"viewBox=\"0 0 24 24\"\n",
              "       width=\"24px\">\n",
              "    <path d=\"M0 0h24v24H0V0z\" fill=\"none\"/>\n",
              "    <path d=\"M18.56 5.44l.94 2.06.94-2.06 2.06-.94-2.06-.94-.94-2.06-.94 2.06-2.06.94zm-11 1L8.5 8.5l.94-2.06 2.06-.94-2.06-.94L8.5 2.5l-.94 2.06-2.06.94zm10 10l.94 2.06.94-2.06 2.06-.94-2.06-.94-.94-2.06-.94 2.06-2.06.94z\"/><path d=\"M17.41 7.96l-1.37-1.37c-.4-.4-.92-.59-1.43-.59-.52 0-1.04.2-1.43.59L10.3 9.45l-7.72 7.72c-.78.78-.78 2.05 0 2.83L4 21.41c.39.39.9.59 1.41.59.51 0 1.02-.2 1.41-.59l7.78-7.78 2.81-2.81c.8-.78.8-2.07 0-2.86zM5.41 20L4 18.59l7.72-7.72 1.47 1.35L5.41 20z\"/>\n",
              "  </svg>\n",
              "      </button>\n",
              "      \n",
              "  <style>\n",
              "    .colab-df-container {\n",
              "      display:flex;\n",
              "      flex-wrap:wrap;\n",
              "      gap: 12px;\n",
              "    }\n",
              "\n",
              "    .colab-df-convert {\n",
              "      background-color: #E8F0FE;\n",
              "      border: none;\n",
              "      border-radius: 50%;\n",
              "      cursor: pointer;\n",
              "      display: none;\n",
              "      fill: #1967D2;\n",
              "      height: 32px;\n",
              "      padding: 0 0 0 0;\n",
              "      width: 32px;\n",
              "    }\n",
              "\n",
              "    .colab-df-convert:hover {\n",
              "      background-color: #E2EBFA;\n",
              "      box-shadow: 0px 1px 2px rgba(60, 64, 67, 0.3), 0px 1px 3px 1px rgba(60, 64, 67, 0.15);\n",
              "      fill: #174EA6;\n",
              "    }\n",
              "\n",
              "    [theme=dark] .colab-df-convert {\n",
              "      background-color: #3B4455;\n",
              "      fill: #D2E3FC;\n",
              "    }\n",
              "\n",
              "    [theme=dark] .colab-df-convert:hover {\n",
              "      background-color: #434B5C;\n",
              "      box-shadow: 0px 1px 3px 1px rgba(0, 0, 0, 0.15);\n",
              "      filter: drop-shadow(0px 1px 2px rgba(0, 0, 0, 0.3));\n",
              "      fill: #FFFFFF;\n",
              "    }\n",
              "  </style>\n",
              "\n",
              "      <script>\n",
              "        const buttonEl =\n",
              "          document.querySelector('#df-ceb8eef1-438c-44c2-b70d-a3e49023f691 button.colab-df-convert');\n",
              "        buttonEl.style.display =\n",
              "          google.colab.kernel.accessAllowed ? 'block' : 'none';\n",
              "\n",
              "        async function convertToInteractive(key) {\n",
              "          const element = document.querySelector('#df-ceb8eef1-438c-44c2-b70d-a3e49023f691');\n",
              "          const dataTable =\n",
              "            await google.colab.kernel.invokeFunction('convertToInteractive',\n",
              "                                                     [key], {});\n",
              "          if (!dataTable) return;\n",
              "\n",
              "          const docLinkHtml = 'Like what you see? Visit the ' +\n",
              "            '<a target=\"_blank\" href=https://colab.research.google.com/notebooks/data_table.ipynb>data table notebook</a>'\n",
              "            + ' to learn more about interactive tables.';\n",
              "          element.innerHTML = '';\n",
              "          dataTable['output_type'] = 'display_data';\n",
              "          await google.colab.output.renderOutput(dataTable, element);\n",
              "          const docLink = document.createElement('div');\n",
              "          docLink.innerHTML = docLinkHtml;\n",
              "          element.appendChild(docLink);\n",
              "        }\n",
              "      </script>\n",
              "    </div>\n",
              "  </div>\n",
              "  "
            ]
          },
          "metadata": {},
          "execution_count": 6
        }
      ]
    },
    {
      "cell_type": "code",
      "source": [
        "y.head()"
      ],
      "metadata": {
        "colab": {
          "base_uri": "https://localhost:8080/"
        },
        "id": "d7JWIcDrhAvH",
        "outputId": "728c4eae-3098-4e99-9076-19c45bc5afb3"
      },
      "execution_count": null,
      "outputs": [
        {
          "output_type": "execute_result",
          "data": {
            "text/plain": [
              "0    16884.92400\n",
              "1     1725.55230\n",
              "2     4449.46200\n",
              "3    21984.47061\n",
              "4     3866.85520\n",
              "Name: charges, dtype: float64"
            ]
          },
          "metadata": {},
          "execution_count": 7
        }
      ]
    },
    {
      "cell_type": "code",
      "source": [
        "from sklearn.model_selection import train_test_split\n",
        "X_train, X_test, y_train, y_test = train_test_split(X, y, test_size=0.2,random_state=42)\n",
        "len(X), len(X_train), len(X_test)"
      ],
      "metadata": {
        "colab": {
          "base_uri": "https://localhost:8080/"
        },
        "id": "welybtckhHNQ",
        "outputId": "afb45d40-946b-4880-d282-e407d386d53f"
      },
      "execution_count": null,
      "outputs": [
        {
          "output_type": "execute_result",
          "data": {
            "text/plain": [
              "(1338, 1070, 268)"
            ]
          },
          "metadata": {},
          "execution_count": 8
        }
      ]
    },
    {
      "cell_type": "code",
      "source": [
        "X_train"
      ],
      "metadata": {
        "colab": {
          "base_uri": "https://localhost:8080/",
          "height": 487
        },
        "id": "q5t1Jdg5h8dK",
        "outputId": "e9330ecd-81c0-455b-93d0-5a2cc39e5ac5"
      },
      "execution_count": null,
      "outputs": [
        {
          "output_type": "execute_result",
          "data": {
            "text/plain": [
              "      age     bmi  children  sex_female  sex_male  smoker_no  smoker_yes  \\\n",
              "560    46  19.950         2           1         0          1           0   \n",
              "1285   47  24.320         0           1         0          1           0   \n",
              "1142   52  24.860         0           1         0          1           0   \n",
              "969    39  34.320         5           1         0          1           0   \n",
              "486    54  21.470         3           1         0          1           0   \n",
              "...   ...     ...       ...         ...       ...        ...         ...   \n",
              "1095   18  31.350         4           1         0          1           0   \n",
              "1130   39  23.870         5           1         0          1           0   \n",
              "1294   58  25.175         0           0         1          1           0   \n",
              "860    37  47.600         2           1         0          0           1   \n",
              "1126   55  29.900         0           0         1          1           0   \n",
              "\n",
              "      region_northeast  region_northwest  region_southeast  region_southwest  \n",
              "560                  0                 1                 0                 0  \n",
              "1285                 1                 0                 0                 0  \n",
              "1142                 0                 0                 1                 0  \n",
              "969                  0                 0                 1                 0  \n",
              "486                  0                 1                 0                 0  \n",
              "...                ...               ...               ...               ...  \n",
              "1095                 1                 0                 0                 0  \n",
              "1130                 0                 0                 1                 0  \n",
              "1294                 1                 0                 0                 0  \n",
              "860                  0                 0                 0                 1  \n",
              "1126                 0                 0                 0                 1  \n",
              "\n",
              "[1070 rows x 11 columns]"
            ],
            "text/html": [
              "\n",
              "  <div id=\"df-1ba2f79e-2b60-46ee-ba72-2b9266098427\">\n",
              "    <div class=\"colab-df-container\">\n",
              "      <div>\n",
              "<style scoped>\n",
              "    .dataframe tbody tr th:only-of-type {\n",
              "        vertical-align: middle;\n",
              "    }\n",
              "\n",
              "    .dataframe tbody tr th {\n",
              "        vertical-align: top;\n",
              "    }\n",
              "\n",
              "    .dataframe thead th {\n",
              "        text-align: right;\n",
              "    }\n",
              "</style>\n",
              "<table border=\"1\" class=\"dataframe\">\n",
              "  <thead>\n",
              "    <tr style=\"text-align: right;\">\n",
              "      <th></th>\n",
              "      <th>age</th>\n",
              "      <th>bmi</th>\n",
              "      <th>children</th>\n",
              "      <th>sex_female</th>\n",
              "      <th>sex_male</th>\n",
              "      <th>smoker_no</th>\n",
              "      <th>smoker_yes</th>\n",
              "      <th>region_northeast</th>\n",
              "      <th>region_northwest</th>\n",
              "      <th>region_southeast</th>\n",
              "      <th>region_southwest</th>\n",
              "    </tr>\n",
              "  </thead>\n",
              "  <tbody>\n",
              "    <tr>\n",
              "      <th>560</th>\n",
              "      <td>46</td>\n",
              "      <td>19.950</td>\n",
              "      <td>2</td>\n",
              "      <td>1</td>\n",
              "      <td>0</td>\n",
              "      <td>1</td>\n",
              "      <td>0</td>\n",
              "      <td>0</td>\n",
              "      <td>1</td>\n",
              "      <td>0</td>\n",
              "      <td>0</td>\n",
              "    </tr>\n",
              "    <tr>\n",
              "      <th>1285</th>\n",
              "      <td>47</td>\n",
              "      <td>24.320</td>\n",
              "      <td>0</td>\n",
              "      <td>1</td>\n",
              "      <td>0</td>\n",
              "      <td>1</td>\n",
              "      <td>0</td>\n",
              "      <td>1</td>\n",
              "      <td>0</td>\n",
              "      <td>0</td>\n",
              "      <td>0</td>\n",
              "    </tr>\n",
              "    <tr>\n",
              "      <th>1142</th>\n",
              "      <td>52</td>\n",
              "      <td>24.860</td>\n",
              "      <td>0</td>\n",
              "      <td>1</td>\n",
              "      <td>0</td>\n",
              "      <td>1</td>\n",
              "      <td>0</td>\n",
              "      <td>0</td>\n",
              "      <td>0</td>\n",
              "      <td>1</td>\n",
              "      <td>0</td>\n",
              "    </tr>\n",
              "    <tr>\n",
              "      <th>969</th>\n",
              "      <td>39</td>\n",
              "      <td>34.320</td>\n",
              "      <td>5</td>\n",
              "      <td>1</td>\n",
              "      <td>0</td>\n",
              "      <td>1</td>\n",
              "      <td>0</td>\n",
              "      <td>0</td>\n",
              "      <td>0</td>\n",
              "      <td>1</td>\n",
              "      <td>0</td>\n",
              "    </tr>\n",
              "    <tr>\n",
              "      <th>486</th>\n",
              "      <td>54</td>\n",
              "      <td>21.470</td>\n",
              "      <td>3</td>\n",
              "      <td>1</td>\n",
              "      <td>0</td>\n",
              "      <td>1</td>\n",
              "      <td>0</td>\n",
              "      <td>0</td>\n",
              "      <td>1</td>\n",
              "      <td>0</td>\n",
              "      <td>0</td>\n",
              "    </tr>\n",
              "    <tr>\n",
              "      <th>...</th>\n",
              "      <td>...</td>\n",
              "      <td>...</td>\n",
              "      <td>...</td>\n",
              "      <td>...</td>\n",
              "      <td>...</td>\n",
              "      <td>...</td>\n",
              "      <td>...</td>\n",
              "      <td>...</td>\n",
              "      <td>...</td>\n",
              "      <td>...</td>\n",
              "      <td>...</td>\n",
              "    </tr>\n",
              "    <tr>\n",
              "      <th>1095</th>\n",
              "      <td>18</td>\n",
              "      <td>31.350</td>\n",
              "      <td>4</td>\n",
              "      <td>1</td>\n",
              "      <td>0</td>\n",
              "      <td>1</td>\n",
              "      <td>0</td>\n",
              "      <td>1</td>\n",
              "      <td>0</td>\n",
              "      <td>0</td>\n",
              "      <td>0</td>\n",
              "    </tr>\n",
              "    <tr>\n",
              "      <th>1130</th>\n",
              "      <td>39</td>\n",
              "      <td>23.870</td>\n",
              "      <td>5</td>\n",
              "      <td>1</td>\n",
              "      <td>0</td>\n",
              "      <td>1</td>\n",
              "      <td>0</td>\n",
              "      <td>0</td>\n",
              "      <td>0</td>\n",
              "      <td>1</td>\n",
              "      <td>0</td>\n",
              "    </tr>\n",
              "    <tr>\n",
              "      <th>1294</th>\n",
              "      <td>58</td>\n",
              "      <td>25.175</td>\n",
              "      <td>0</td>\n",
              "      <td>0</td>\n",
              "      <td>1</td>\n",
              "      <td>1</td>\n",
              "      <td>0</td>\n",
              "      <td>1</td>\n",
              "      <td>0</td>\n",
              "      <td>0</td>\n",
              "      <td>0</td>\n",
              "    </tr>\n",
              "    <tr>\n",
              "      <th>860</th>\n",
              "      <td>37</td>\n",
              "      <td>47.600</td>\n",
              "      <td>2</td>\n",
              "      <td>1</td>\n",
              "      <td>0</td>\n",
              "      <td>0</td>\n",
              "      <td>1</td>\n",
              "      <td>0</td>\n",
              "      <td>0</td>\n",
              "      <td>0</td>\n",
              "      <td>1</td>\n",
              "    </tr>\n",
              "    <tr>\n",
              "      <th>1126</th>\n",
              "      <td>55</td>\n",
              "      <td>29.900</td>\n",
              "      <td>0</td>\n",
              "      <td>0</td>\n",
              "      <td>1</td>\n",
              "      <td>1</td>\n",
              "      <td>0</td>\n",
              "      <td>0</td>\n",
              "      <td>0</td>\n",
              "      <td>0</td>\n",
              "      <td>1</td>\n",
              "    </tr>\n",
              "  </tbody>\n",
              "</table>\n",
              "<p>1070 rows × 11 columns</p>\n",
              "</div>\n",
              "      <button class=\"colab-df-convert\" onclick=\"convertToInteractive('df-1ba2f79e-2b60-46ee-ba72-2b9266098427')\"\n",
              "              title=\"Convert this dataframe to an interactive table.\"\n",
              "              style=\"display:none;\">\n",
              "        \n",
              "  <svg xmlns=\"http://www.w3.org/2000/svg\" height=\"24px\"viewBox=\"0 0 24 24\"\n",
              "       width=\"24px\">\n",
              "    <path d=\"M0 0h24v24H0V0z\" fill=\"none\"/>\n",
              "    <path d=\"M18.56 5.44l.94 2.06.94-2.06 2.06-.94-2.06-.94-.94-2.06-.94 2.06-2.06.94zm-11 1L8.5 8.5l.94-2.06 2.06-.94-2.06-.94L8.5 2.5l-.94 2.06-2.06.94zm10 10l.94 2.06.94-2.06 2.06-.94-2.06-.94-.94-2.06-.94 2.06-2.06.94z\"/><path d=\"M17.41 7.96l-1.37-1.37c-.4-.4-.92-.59-1.43-.59-.52 0-1.04.2-1.43.59L10.3 9.45l-7.72 7.72c-.78.78-.78 2.05 0 2.83L4 21.41c.39.39.9.59 1.41.59.51 0 1.02-.2 1.41-.59l7.78-7.78 2.81-2.81c.8-.78.8-2.07 0-2.86zM5.41 20L4 18.59l7.72-7.72 1.47 1.35L5.41 20z\"/>\n",
              "  </svg>\n",
              "      </button>\n",
              "      \n",
              "  <style>\n",
              "    .colab-df-container {\n",
              "      display:flex;\n",
              "      flex-wrap:wrap;\n",
              "      gap: 12px;\n",
              "    }\n",
              "\n",
              "    .colab-df-convert {\n",
              "      background-color: #E8F0FE;\n",
              "      border: none;\n",
              "      border-radius: 50%;\n",
              "      cursor: pointer;\n",
              "      display: none;\n",
              "      fill: #1967D2;\n",
              "      height: 32px;\n",
              "      padding: 0 0 0 0;\n",
              "      width: 32px;\n",
              "    }\n",
              "\n",
              "    .colab-df-convert:hover {\n",
              "      background-color: #E2EBFA;\n",
              "      box-shadow: 0px 1px 2px rgba(60, 64, 67, 0.3), 0px 1px 3px 1px rgba(60, 64, 67, 0.15);\n",
              "      fill: #174EA6;\n",
              "    }\n",
              "\n",
              "    [theme=dark] .colab-df-convert {\n",
              "      background-color: #3B4455;\n",
              "      fill: #D2E3FC;\n",
              "    }\n",
              "\n",
              "    [theme=dark] .colab-df-convert:hover {\n",
              "      background-color: #434B5C;\n",
              "      box-shadow: 0px 1px 3px 1px rgba(0, 0, 0, 0.15);\n",
              "      filter: drop-shadow(0px 1px 2px rgba(0, 0, 0, 0.3));\n",
              "      fill: #FFFFFF;\n",
              "    }\n",
              "  </style>\n",
              "\n",
              "      <script>\n",
              "        const buttonEl =\n",
              "          document.querySelector('#df-1ba2f79e-2b60-46ee-ba72-2b9266098427 button.colab-df-convert');\n",
              "        buttonEl.style.display =\n",
              "          google.colab.kernel.accessAllowed ? 'block' : 'none';\n",
              "\n",
              "        async function convertToInteractive(key) {\n",
              "          const element = document.querySelector('#df-1ba2f79e-2b60-46ee-ba72-2b9266098427');\n",
              "          const dataTable =\n",
              "            await google.colab.kernel.invokeFunction('convertToInteractive',\n",
              "                                                     [key], {});\n",
              "          if (!dataTable) return;\n",
              "\n",
              "          const docLinkHtml = 'Like what you see? Visit the ' +\n",
              "            '<a target=\"_blank\" href=https://colab.research.google.com/notebooks/data_table.ipynb>data table notebook</a>'\n",
              "            + ' to learn more about interactive tables.';\n",
              "          element.innerHTML = '';\n",
              "          dataTable['output_type'] = 'display_data';\n",
              "          await google.colab.output.renderOutput(dataTable, element);\n",
              "          const docLink = document.createElement('div');\n",
              "          docLink.innerHTML = docLinkHtml;\n",
              "          element.appendChild(docLink);\n",
              "        }\n",
              "      </script>\n",
              "    </div>\n",
              "  </div>\n",
              "  "
            ]
          },
          "metadata": {},
          "execution_count": 9
        }
      ]
    },
    {
      "cell_type": "code",
      "source": [
        "tf.random.set_seed(42)\n",
        "\n",
        "insurance_model = tf.keras.Sequential([\n",
        "    tf.keras.layers.Dense(100),\n",
        "    tf.keras.layers.Dense(10),\n",
        "    tf.keras.layers.Dense(1)\n",
        "])\n",
        "\n",
        "insurance_model.compile(loss=tf.keras.losses.mae,\n",
        "                        optimizer = tf.keras.optimizers.Adam(),\n",
        "                        metrics=[\"mae\"])\n",
        "\n",
        "history = insurance_model.fit(X_train,y_train,epochs=200)"
      ],
      "metadata": {
        "colab": {
          "base_uri": "https://localhost:8080/"
        },
        "id": "2xjpXo05h_3-",
        "outputId": "c3b60f5f-34ac-48b1-ca38-ad913a63842d"
      },
      "execution_count": null,
      "outputs": [
        {
          "output_type": "stream",
          "name": "stdout",
          "text": [
            "Epoch 1/200\n",
            "34/34 [==============================] - 6s 3ms/step - loss: 13278.8564 - mae: 13278.8564\n",
            "Epoch 2/200\n",
            "34/34 [==============================] - 0s 3ms/step - loss: 13089.0098 - mae: 13089.0098\n",
            "Epoch 3/200\n",
            "34/34 [==============================] - 0s 3ms/step - loss: 12715.5430 - mae: 12715.5430\n",
            "Epoch 4/200\n",
            "34/34 [==============================] - 0s 3ms/step - loss: 12010.5469 - mae: 12010.5469\n",
            "Epoch 5/200\n",
            "34/34 [==============================] - 0s 3ms/step - loss: 10853.1631 - mae: 10853.1631\n",
            "Epoch 6/200\n",
            "34/34 [==============================] - 0s 3ms/step - loss: 9395.0967 - mae: 9395.0967\n",
            "Epoch 7/200\n",
            "34/34 [==============================] - 0s 3ms/step - loss: 8092.5859 - mae: 8092.5859\n",
            "Epoch 8/200\n",
            "34/34 [==============================] - 0s 3ms/step - loss: 7496.3809 - mae: 7496.3809\n",
            "Epoch 9/200\n",
            "34/34 [==============================] - 0s 3ms/step - loss: 7405.2212 - mae: 7405.2212\n",
            "Epoch 10/200\n",
            "34/34 [==============================] - 0s 3ms/step - loss: 7385.9004 - mae: 7385.9004\n",
            "Epoch 11/200\n",
            "34/34 [==============================] - 0s 3ms/step - loss: 7367.0225 - mae: 7367.0225\n",
            "Epoch 12/200\n",
            "34/34 [==============================] - 0s 3ms/step - loss: 7345.0986 - mae: 7345.0986\n",
            "Epoch 13/200\n",
            "34/34 [==============================] - 0s 3ms/step - loss: 7324.7979 - mae: 7324.7979\n",
            "Epoch 14/200\n",
            "34/34 [==============================] - 0s 3ms/step - loss: 7302.3525 - mae: 7302.3525\n",
            "Epoch 15/200\n",
            "34/34 [==============================] - 0s 3ms/step - loss: 7283.3892 - mae: 7283.3892\n",
            "Epoch 16/200\n",
            "34/34 [==============================] - 0s 3ms/step - loss: 7261.5293 - mae: 7261.5293\n",
            "Epoch 17/200\n",
            "34/34 [==============================] - 0s 3ms/step - loss: 7239.7124 - mae: 7239.7124\n",
            "Epoch 18/200\n",
            "34/34 [==============================] - 0s 3ms/step - loss: 7216.5762 - mae: 7216.5762\n",
            "Epoch 19/200\n",
            "34/34 [==============================] - 0s 3ms/step - loss: 7193.6406 - mae: 7193.6406\n",
            "Epoch 20/200\n",
            "34/34 [==============================] - 0s 3ms/step - loss: 7169.0303 - mae: 7169.0303\n",
            "Epoch 21/200\n",
            "34/34 [==============================] - 0s 3ms/step - loss: 7149.1460 - mae: 7149.1460\n",
            "Epoch 22/200\n",
            "34/34 [==============================] - 0s 3ms/step - loss: 7120.4468 - mae: 7120.4468\n",
            "Epoch 23/200\n",
            "34/34 [==============================] - 0s 3ms/step - loss: 7095.0596 - mae: 7095.0596\n",
            "Epoch 24/200\n",
            "34/34 [==============================] - 0s 3ms/step - loss: 7068.0342 - mae: 7068.0342\n",
            "Epoch 25/200\n",
            "34/34 [==============================] - 0s 3ms/step - loss: 7048.0386 - mae: 7048.0386\n",
            "Epoch 26/200\n",
            "34/34 [==============================] - 0s 3ms/step - loss: 7014.8936 - mae: 7014.8936\n",
            "Epoch 27/200\n",
            "34/34 [==============================] - 0s 3ms/step - loss: 6984.7681 - mae: 6984.7681\n",
            "Epoch 28/200\n",
            "34/34 [==============================] - 0s 3ms/step - loss: 6954.5688 - mae: 6954.5688\n",
            "Epoch 29/200\n",
            "34/34 [==============================] - 0s 3ms/step - loss: 6923.5044 - mae: 6923.5044\n",
            "Epoch 30/200\n",
            "34/34 [==============================] - 0s 3ms/step - loss: 6896.7026 - mae: 6896.7026\n",
            "Epoch 31/200\n",
            "34/34 [==============================] - 0s 3ms/step - loss: 6862.6777 - mae: 6862.6777\n",
            "Epoch 32/200\n",
            "34/34 [==============================] - 0s 3ms/step - loss: 6831.4458 - mae: 6831.4458\n",
            "Epoch 33/200\n",
            "34/34 [==============================] - 0s 3ms/step - loss: 6796.8965 - mae: 6796.8965\n",
            "Epoch 34/200\n",
            "34/34 [==============================] - 0s 3ms/step - loss: 6762.9531 - mae: 6762.9531\n",
            "Epoch 35/200\n",
            "34/34 [==============================] - 0s 3ms/step - loss: 6726.3687 - mae: 6726.3687\n",
            "Epoch 36/200\n",
            "34/34 [==============================] - 0s 3ms/step - loss: 6690.6626 - mae: 6690.6626\n",
            "Epoch 37/200\n",
            "34/34 [==============================] - 0s 3ms/step - loss: 6654.0137 - mae: 6654.0137\n",
            "Epoch 38/200\n",
            "34/34 [==============================] - 0s 3ms/step - loss: 6623.1094 - mae: 6623.1094\n",
            "Epoch 39/200\n",
            "34/34 [==============================] - 0s 3ms/step - loss: 6585.9390 - mae: 6585.9390\n",
            "Epoch 40/200\n",
            "34/34 [==============================] - 0s 3ms/step - loss: 6557.9980 - mae: 6557.9980\n",
            "Epoch 41/200\n",
            "34/34 [==============================] - 0s 3ms/step - loss: 6535.1172 - mae: 6535.1172\n",
            "Epoch 42/200\n",
            "34/34 [==============================] - 0s 3ms/step - loss: 6513.7407 - mae: 6513.7407\n",
            "Epoch 43/200\n",
            "34/34 [==============================] - 0s 3ms/step - loss: 6496.4824 - mae: 6496.4824\n",
            "Epoch 44/200\n",
            "34/34 [==============================] - 0s 3ms/step - loss: 6479.0859 - mae: 6479.0859\n",
            "Epoch 45/200\n",
            "34/34 [==============================] - 0s 3ms/step - loss: 6472.1387 - mae: 6472.1387\n",
            "Epoch 46/200\n",
            "34/34 [==============================] - 0s 3ms/step - loss: 6452.7153 - mae: 6452.7153\n",
            "Epoch 47/200\n",
            "34/34 [==============================] - 0s 3ms/step - loss: 6438.5234 - mae: 6438.5234\n",
            "Epoch 48/200\n",
            "34/34 [==============================] - 0s 3ms/step - loss: 6425.0728 - mae: 6425.0728\n",
            "Epoch 49/200\n",
            "34/34 [==============================] - 0s 3ms/step - loss: 6413.9639 - mae: 6413.9639\n",
            "Epoch 50/200\n",
            "34/34 [==============================] - 0s 3ms/step - loss: 6399.9199 - mae: 6399.9199\n",
            "Epoch 51/200\n",
            "34/34 [==============================] - 0s 3ms/step - loss: 6386.5596 - mae: 6386.5596\n",
            "Epoch 52/200\n",
            "34/34 [==============================] - 0s 3ms/step - loss: 6373.5742 - mae: 6373.5742\n",
            "Epoch 53/200\n",
            "34/34 [==============================] - 0s 3ms/step - loss: 6360.0049 - mae: 6360.0049\n",
            "Epoch 54/200\n",
            "34/34 [==============================] - 0s 3ms/step - loss: 6345.7710 - mae: 6345.7710\n",
            "Epoch 55/200\n",
            "34/34 [==============================] - 0s 3ms/step - loss: 6332.2554 - mae: 6332.2554\n",
            "Epoch 56/200\n",
            "34/34 [==============================] - 0s 3ms/step - loss: 6318.2520 - mae: 6318.2520\n",
            "Epoch 57/200\n",
            "34/34 [==============================] - 0s 3ms/step - loss: 6304.7129 - mae: 6304.7129\n",
            "Epoch 58/200\n",
            "34/34 [==============================] - 0s 3ms/step - loss: 6291.0317 - mae: 6291.0317\n",
            "Epoch 59/200\n",
            "34/34 [==============================] - 0s 3ms/step - loss: 6274.9707 - mae: 6274.9707\n",
            "Epoch 60/200\n",
            "34/34 [==============================] - 0s 3ms/step - loss: 6264.2393 - mae: 6264.2393\n",
            "Epoch 61/200\n",
            "34/34 [==============================] - 0s 3ms/step - loss: 6243.5947 - mae: 6243.5947\n",
            "Epoch 62/200\n",
            "34/34 [==============================] - 0s 3ms/step - loss: 6231.6997 - mae: 6231.6997\n",
            "Epoch 63/200\n",
            "34/34 [==============================] - 0s 3ms/step - loss: 6212.7393 - mae: 6212.7393\n",
            "Epoch 64/200\n",
            "34/34 [==============================] - 0s 3ms/step - loss: 6195.0024 - mae: 6195.0024\n",
            "Epoch 65/200\n",
            "34/34 [==============================] - 0s 3ms/step - loss: 6177.5483 - mae: 6177.5483\n",
            "Epoch 66/200\n",
            "34/34 [==============================] - 0s 3ms/step - loss: 6159.6978 - mae: 6159.6978\n",
            "Epoch 67/200\n",
            "34/34 [==============================] - 0s 3ms/step - loss: 6146.9448 - mae: 6146.9448\n",
            "Epoch 68/200\n",
            "34/34 [==============================] - 0s 3ms/step - loss: 6123.9248 - mae: 6123.9248\n",
            "Epoch 69/200\n",
            "34/34 [==============================] - 0s 4ms/step - loss: 6106.2422 - mae: 6106.2422\n",
            "Epoch 70/200\n",
            "34/34 [==============================] - 0s 4ms/step - loss: 6085.4116 - mae: 6085.4116\n",
            "Epoch 71/200\n",
            "34/34 [==============================] - 0s 4ms/step - loss: 6065.6304 - mae: 6065.6304\n",
            "Epoch 72/200\n",
            "34/34 [==============================] - 0s 4ms/step - loss: 6044.4824 - mae: 6044.4824\n",
            "Epoch 73/200\n",
            "34/34 [==============================] - 0s 4ms/step - loss: 6030.3530 - mae: 6030.3530\n",
            "Epoch 74/200\n",
            "34/34 [==============================] - 0s 4ms/step - loss: 6000.6006 - mae: 6000.6006\n",
            "Epoch 75/200\n",
            "34/34 [==============================] - 0s 4ms/step - loss: 5979.8423 - mae: 5979.8423\n",
            "Epoch 76/200\n",
            "34/34 [==============================] - 0s 4ms/step - loss: 5963.1553 - mae: 5963.1553\n",
            "Epoch 77/200\n",
            "34/34 [==============================] - 0s 4ms/step - loss: 5929.6611 - mae: 5929.6611\n",
            "Epoch 78/200\n",
            "34/34 [==============================] - 0s 4ms/step - loss: 5905.2622 - mae: 5905.2622\n",
            "Epoch 79/200\n",
            "34/34 [==============================] - 0s 4ms/step - loss: 5879.5293 - mae: 5879.5293\n",
            "Epoch 80/200\n",
            "34/34 [==============================] - 0s 4ms/step - loss: 5850.7192 - mae: 5850.7192\n",
            "Epoch 81/200\n",
            "34/34 [==============================] - 0s 4ms/step - loss: 5825.0342 - mae: 5825.0342\n",
            "Epoch 82/200\n",
            "34/34 [==============================] - 0s 5ms/step - loss: 5794.0435 - mae: 5794.0435\n",
            "Epoch 83/200\n",
            "34/34 [==============================] - 0s 4ms/step - loss: 5765.3345 - mae: 5765.3345\n",
            "Epoch 84/200\n",
            "34/34 [==============================] - 0s 4ms/step - loss: 5730.0332 - mae: 5730.0332\n",
            "Epoch 85/200\n",
            "34/34 [==============================] - 0s 3ms/step - loss: 5702.7109 - mae: 5702.7109\n",
            "Epoch 86/200\n",
            "34/34 [==============================] - 0s 3ms/step - loss: 5667.4683 - mae: 5667.4683\n",
            "Epoch 87/200\n",
            "34/34 [==============================] - 0s 3ms/step - loss: 5629.3521 - mae: 5629.3521\n",
            "Epoch 88/200\n",
            "34/34 [==============================] - 0s 3ms/step - loss: 5592.0625 - mae: 5592.0625\n",
            "Epoch 89/200\n",
            "34/34 [==============================] - 0s 3ms/step - loss: 5552.0215 - mae: 5552.0215\n",
            "Epoch 90/200\n",
            "34/34 [==============================] - 0s 3ms/step - loss: 5508.2739 - mae: 5508.2739\n",
            "Epoch 91/200\n",
            "34/34 [==============================] - 0s 3ms/step - loss: 5468.4048 - mae: 5468.4048\n",
            "Epoch 92/200\n",
            "34/34 [==============================] - 0s 3ms/step - loss: 5419.6904 - mae: 5419.6904\n",
            "Epoch 93/200\n",
            "34/34 [==============================] - 0s 3ms/step - loss: 5375.6958 - mae: 5375.6958\n",
            "Epoch 94/200\n",
            "34/34 [==============================] - 0s 3ms/step - loss: 5326.5024 - mae: 5326.5024\n",
            "Epoch 95/200\n",
            "34/34 [==============================] - 0s 5ms/step - loss: 5274.5234 - mae: 5274.5234\n",
            "Epoch 96/200\n",
            "34/34 [==============================] - 0s 5ms/step - loss: 5227.0791 - mae: 5227.0791\n",
            "Epoch 97/200\n",
            "34/34 [==============================] - 0s 5ms/step - loss: 5171.4395 - mae: 5171.4395\n",
            "Epoch 98/200\n",
            "34/34 [==============================] - 0s 6ms/step - loss: 5107.1157 - mae: 5107.1157\n",
            "Epoch 99/200\n",
            "34/34 [==============================] - 0s 4ms/step - loss: 5047.3232 - mae: 5047.3232\n",
            "Epoch 100/200\n",
            "34/34 [==============================] - 0s 4ms/step - loss: 4991.8848 - mae: 4991.8848\n",
            "Epoch 101/200\n",
            "34/34 [==============================] - 0s 5ms/step - loss: 4918.6543 - mae: 4918.6543\n",
            "Epoch 102/200\n",
            "34/34 [==============================] - 0s 5ms/step - loss: 4842.4868 - mae: 4842.4868\n",
            "Epoch 103/200\n",
            "34/34 [==============================] - 0s 5ms/step - loss: 4773.2549 - mae: 4773.2549\n",
            "Epoch 104/200\n",
            "34/34 [==============================] - 0s 6ms/step - loss: 4693.9409 - mae: 4693.9409\n",
            "Epoch 105/200\n",
            "34/34 [==============================] - 0s 5ms/step - loss: 4607.1704 - mae: 4607.1704\n",
            "Epoch 106/200\n",
            "34/34 [==============================] - 0s 4ms/step - loss: 4524.6196 - mae: 4524.6196\n",
            "Epoch 107/200\n",
            "34/34 [==============================] - 0s 6ms/step - loss: 4438.9907 - mae: 4438.9907\n",
            "Epoch 108/200\n",
            "34/34 [==============================] - 0s 6ms/step - loss: 4355.1489 - mae: 4355.1489\n",
            "Epoch 109/200\n",
            "34/34 [==============================] - 0s 5ms/step - loss: 4272.1626 - mae: 4272.1626\n",
            "Epoch 110/200\n",
            "34/34 [==============================] - 0s 4ms/step - loss: 4191.3330 - mae: 4191.3330\n",
            "Epoch 111/200\n",
            "34/34 [==============================] - 0s 5ms/step - loss: 4118.7407 - mae: 4118.7407\n",
            "Epoch 112/200\n",
            "34/34 [==============================] - 0s 6ms/step - loss: 4055.0664 - mae: 4055.0664\n",
            "Epoch 113/200\n",
            "34/34 [==============================] - 0s 6ms/step - loss: 3996.0461 - mae: 3996.0461\n",
            "Epoch 114/200\n",
            "34/34 [==============================] - 0s 6ms/step - loss: 3965.7515 - mae: 3965.7515\n",
            "Epoch 115/200\n",
            "34/34 [==============================] - 0s 4ms/step - loss: 3923.4355 - mae: 3923.4355\n",
            "Epoch 116/200\n",
            "34/34 [==============================] - 0s 5ms/step - loss: 3904.0127 - mae: 3904.0127\n",
            "Epoch 117/200\n",
            "34/34 [==============================] - 0s 5ms/step - loss: 3884.9287 - mae: 3884.9287\n",
            "Epoch 118/200\n",
            "34/34 [==============================] - 0s 4ms/step - loss: 3865.0352 - mae: 3865.0352\n",
            "Epoch 119/200\n",
            "34/34 [==============================] - 0s 5ms/step - loss: 3847.8276 - mae: 3847.8276\n",
            "Epoch 120/200\n",
            "34/34 [==============================] - 0s 5ms/step - loss: 3833.1375 - mae: 3833.1375\n",
            "Epoch 121/200\n",
            "34/34 [==============================] - 0s 6ms/step - loss: 3825.7290 - mae: 3825.7290\n",
            "Epoch 122/200\n",
            "34/34 [==============================] - 0s 6ms/step - loss: 3818.6260 - mae: 3818.6260\n",
            "Epoch 123/200\n",
            "34/34 [==============================] - 0s 6ms/step - loss: 3812.7468 - mae: 3812.7468\n",
            "Epoch 124/200\n",
            "34/34 [==============================] - 0s 5ms/step - loss: 3805.4377 - mae: 3805.4377\n",
            "Epoch 125/200\n",
            "34/34 [==============================] - 0s 5ms/step - loss: 3796.1245 - mae: 3796.1245\n",
            "Epoch 126/200\n",
            "34/34 [==============================] - 0s 6ms/step - loss: 3805.9763 - mae: 3805.9763\n",
            "Epoch 127/200\n",
            "34/34 [==============================] - 0s 8ms/step - loss: 3798.6533 - mae: 3798.6533\n",
            "Epoch 128/200\n",
            "34/34 [==============================] - 0s 5ms/step - loss: 3793.2520 - mae: 3793.2520\n",
            "Epoch 129/200\n",
            "34/34 [==============================] - 0s 5ms/step - loss: 3802.9915 - mae: 3802.9915\n",
            "Epoch 130/200\n",
            "34/34 [==============================] - 0s 6ms/step - loss: 3792.9675 - mae: 3792.9675\n",
            "Epoch 131/200\n",
            "34/34 [==============================] - 0s 5ms/step - loss: 3782.4631 - mae: 3782.4631\n",
            "Epoch 132/200\n",
            "34/34 [==============================] - 0s 6ms/step - loss: 3776.0356 - mae: 3776.0356\n",
            "Epoch 133/200\n",
            "34/34 [==============================] - 0s 5ms/step - loss: 3771.3508 - mae: 3771.3508\n",
            "Epoch 134/200\n",
            "34/34 [==============================] - 0s 6ms/step - loss: 3771.6428 - mae: 3771.6428\n",
            "Epoch 135/200\n",
            "34/34 [==============================] - 0s 7ms/step - loss: 3768.1299 - mae: 3768.1299\n",
            "Epoch 136/200\n",
            "34/34 [==============================] - 0s 5ms/step - loss: 3767.4402 - mae: 3767.4402\n",
            "Epoch 137/200\n",
            "34/34 [==============================] - 0s 5ms/step - loss: 3775.7966 - mae: 3775.7966\n",
            "Epoch 138/200\n",
            "34/34 [==============================] - 0s 6ms/step - loss: 3783.6106 - mae: 3783.6106\n",
            "Epoch 139/200\n",
            "34/34 [==============================] - 0s 6ms/step - loss: 3762.4812 - mae: 3762.4812\n",
            "Epoch 140/200\n",
            "34/34 [==============================] - 0s 5ms/step - loss: 3763.8999 - mae: 3763.8999\n",
            "Epoch 141/200\n",
            "34/34 [==============================] - 0s 9ms/step - loss: 3763.7451 - mae: 3763.7451\n",
            "Epoch 142/200\n",
            "34/34 [==============================] - 0s 10ms/step - loss: 3764.6245 - mae: 3764.6245\n",
            "Epoch 143/200\n",
            "34/34 [==============================] - 0s 8ms/step - loss: 3755.0574 - mae: 3755.0574\n",
            "Epoch 144/200\n",
            "34/34 [==============================] - 0s 7ms/step - loss: 3751.3015 - mae: 3751.3015\n",
            "Epoch 145/200\n",
            "34/34 [==============================] - 0s 8ms/step - loss: 3751.6672 - mae: 3751.6672\n",
            "Epoch 146/200\n",
            "34/34 [==============================] - 0s 10ms/step - loss: 3755.9587 - mae: 3755.9587\n",
            "Epoch 147/200\n",
            "34/34 [==============================] - 0s 9ms/step - loss: 3752.9497 - mae: 3752.9497\n",
            "Epoch 148/200\n",
            "34/34 [==============================] - 0s 8ms/step - loss: 3756.3540 - mae: 3756.3540\n",
            "Epoch 149/200\n",
            "34/34 [==============================] - 0s 7ms/step - loss: 3744.3281 - mae: 3744.3281\n",
            "Epoch 150/200\n",
            "34/34 [==============================] - 0s 7ms/step - loss: 3739.2126 - mae: 3739.2126\n",
            "Epoch 151/200\n",
            "34/34 [==============================] - 0s 6ms/step - loss: 3741.2056 - mae: 3741.2056\n",
            "Epoch 152/200\n",
            "34/34 [==============================] - 0s 5ms/step - loss: 3742.6497 - mae: 3742.6497\n",
            "Epoch 153/200\n",
            "34/34 [==============================] - 0s 4ms/step - loss: 3745.9771 - mae: 3745.9771\n",
            "Epoch 154/200\n",
            "34/34 [==============================] - 0s 4ms/step - loss: 3737.5090 - mae: 3737.5088\n",
            "Epoch 155/200\n",
            "34/34 [==============================] - 0s 6ms/step - loss: 3740.3752 - mae: 3740.3752\n",
            "Epoch 156/200\n",
            "34/34 [==============================] - 0s 5ms/step - loss: 3737.9546 - mae: 3737.9546\n",
            "Epoch 157/200\n",
            "34/34 [==============================] - 0s 5ms/step - loss: 3733.7568 - mae: 3733.7568\n",
            "Epoch 158/200\n",
            "34/34 [==============================] - 0s 5ms/step - loss: 3729.8770 - mae: 3729.8770\n",
            "Epoch 159/200\n",
            "34/34 [==============================] - 0s 5ms/step - loss: 3726.7126 - mae: 3726.7126\n",
            "Epoch 160/200\n",
            "34/34 [==============================] - 0s 4ms/step - loss: 3734.3257 - mae: 3734.3257\n",
            "Epoch 161/200\n",
            "34/34 [==============================] - 0s 5ms/step - loss: 3729.2920 - mae: 3729.2920\n",
            "Epoch 162/200\n",
            "34/34 [==============================] - 0s 4ms/step - loss: 3725.6694 - mae: 3725.6694\n",
            "Epoch 163/200\n",
            "34/34 [==============================] - 0s 5ms/step - loss: 3723.3547 - mae: 3723.3547\n",
            "Epoch 164/200\n",
            "34/34 [==============================] - 0s 5ms/step - loss: 3727.5940 - mae: 3727.5940\n",
            "Epoch 165/200\n",
            "34/34 [==============================] - 0s 5ms/step - loss: 3717.1130 - mae: 3717.1130\n",
            "Epoch 166/200\n",
            "34/34 [==============================] - 0s 4ms/step - loss: 3721.7861 - mae: 3721.7861\n",
            "Epoch 167/200\n",
            "34/34 [==============================] - 0s 5ms/step - loss: 3721.3262 - mae: 3721.3262\n",
            "Epoch 168/200\n",
            "34/34 [==============================] - 0s 4ms/step - loss: 3716.4060 - mae: 3716.4060\n",
            "Epoch 169/200\n",
            "34/34 [==============================] - 0s 5ms/step - loss: 3716.5515 - mae: 3716.5515\n",
            "Epoch 170/200\n",
            "34/34 [==============================] - 0s 5ms/step - loss: 3709.1560 - mae: 3709.1560\n",
            "Epoch 171/200\n",
            "34/34 [==============================] - 0s 5ms/step - loss: 3708.6895 - mae: 3708.6895\n",
            "Epoch 172/200\n",
            "34/34 [==============================] - 0s 4ms/step - loss: 3711.2410 - mae: 3711.2410\n",
            "Epoch 173/200\n",
            "34/34 [==============================] - 0s 5ms/step - loss: 3706.8816 - mae: 3706.8816\n",
            "Epoch 174/200\n",
            "34/34 [==============================] - 0s 5ms/step - loss: 3711.4504 - mae: 3711.4504\n",
            "Epoch 175/200\n",
            "34/34 [==============================] - 0s 5ms/step - loss: 3711.4558 - mae: 3711.4558\n",
            "Epoch 176/200\n",
            "34/34 [==============================] - 0s 5ms/step - loss: 3708.5940 - mae: 3708.5940\n",
            "Epoch 177/200\n",
            "34/34 [==============================] - 0s 4ms/step - loss: 3700.5906 - mae: 3700.5906\n",
            "Epoch 178/200\n",
            "34/34 [==============================] - 0s 4ms/step - loss: 3697.2195 - mae: 3697.2195\n",
            "Epoch 179/200\n",
            "34/34 [==============================] - 0s 4ms/step - loss: 3708.0876 - mae: 3708.0876\n",
            "Epoch 180/200\n",
            "34/34 [==============================] - 0s 6ms/step - loss: 3713.9485 - mae: 3713.9485\n",
            "Epoch 181/200\n",
            "34/34 [==============================] - 0s 7ms/step - loss: 3697.9285 - mae: 3697.9285\n",
            "Epoch 182/200\n",
            "34/34 [==============================] - 0s 5ms/step - loss: 3694.7476 - mae: 3694.7476\n",
            "Epoch 183/200\n",
            "34/34 [==============================] - 0s 5ms/step - loss: 3692.5840 - mae: 3692.5840\n",
            "Epoch 184/200\n",
            "34/34 [==============================] - 0s 5ms/step - loss: 3700.4370 - mae: 3700.4370\n",
            "Epoch 185/200\n",
            "34/34 [==============================] - 0s 5ms/step - loss: 3693.7598 - mae: 3693.7598\n",
            "Epoch 186/200\n",
            "34/34 [==============================] - 0s 6ms/step - loss: 3698.7686 - mae: 3698.7686\n",
            "Epoch 187/200\n",
            "34/34 [==============================] - 0s 5ms/step - loss: 3690.5840 - mae: 3690.5840\n",
            "Epoch 188/200\n",
            "34/34 [==============================] - 0s 5ms/step - loss: 3694.9358 - mae: 3694.9358\n",
            "Epoch 189/200\n",
            "34/34 [==============================] - 0s 5ms/step - loss: 3685.3848 - mae: 3685.3848\n",
            "Epoch 190/200\n",
            "34/34 [==============================] - 0s 6ms/step - loss: 3685.4050 - mae: 3685.4050\n",
            "Epoch 191/200\n",
            "34/34 [==============================] - 0s 4ms/step - loss: 3702.9285 - mae: 3702.9285\n",
            "Epoch 192/200\n",
            "34/34 [==============================] - 0s 5ms/step - loss: 3685.8418 - mae: 3685.8418\n",
            "Epoch 193/200\n",
            "34/34 [==============================] - 0s 4ms/step - loss: 3676.9417 - mae: 3676.9417\n",
            "Epoch 194/200\n",
            "34/34 [==============================] - 0s 5ms/step - loss: 3678.0920 - mae: 3678.0920\n",
            "Epoch 195/200\n",
            "34/34 [==============================] - 0s 5ms/step - loss: 3674.6228 - mae: 3674.6228\n",
            "Epoch 196/200\n",
            "34/34 [==============================] - 0s 5ms/step - loss: 3682.6936 - mae: 3682.6936\n",
            "Epoch 197/200\n",
            "34/34 [==============================] - 0s 5ms/step - loss: 3668.7285 - mae: 3668.7285\n",
            "Epoch 198/200\n",
            "34/34 [==============================] - 0s 5ms/step - loss: 3675.9326 - mae: 3675.9326\n",
            "Epoch 199/200\n",
            "34/34 [==============================] - 0s 4ms/step - loss: 3682.1514 - mae: 3682.1514\n",
            "Epoch 200/200\n",
            "34/34 [==============================] - 0s 5ms/step - loss: 3669.3279 - mae: 3669.3279\n"
          ]
        }
      ]
    },
    {
      "cell_type": "code",
      "source": [
        "#check the results of the model on the test data\n",
        "\n",
        "insurance_model.evaluate(X_test,y_test)"
      ],
      "metadata": {
        "colab": {
          "base_uri": "https://localhost:8080/"
        },
        "id": "phKRVWQ-i-2A",
        "outputId": "cb83594a-9f4b-4f1d-ca9d-e2706fab83ea"
      },
      "execution_count": null,
      "outputs": [
        {
          "output_type": "stream",
          "name": "stdout",
          "text": [
            "9/9 [==============================] - 0s 3ms/step - loss: 3492.6528 - mae: 3492.6528\n"
          ]
        },
        {
          "output_type": "execute_result",
          "data": {
            "text/plain": [
              "[3492.65283203125, 3492.65283203125]"
            ]
          },
          "metadata": {},
          "execution_count": 11
        }
      ]
    },
    {
      "cell_type": "code",
      "source": [
        "y_train.median(), y_train.mean()"
      ],
      "metadata": {
        "colab": {
          "base_uri": "https://localhost:8080/"
        },
        "id": "gf_L116fjatV",
        "outputId": "8605ba5a-1368-42b0-bc44-2ea05403d4fa"
      },
      "execution_count": null,
      "outputs": [
        {
          "output_type": "execute_result",
          "data": {
            "text/plain": [
              "(9575.4421, 13346.089736364485)"
            ]
          },
          "metadata": {},
          "execution_count": 12
        }
      ]
    },
    {
      "cell_type": "code",
      "source": [
        "#plot history(also known as a loss curve or a training curve)\n",
        "pd.DataFrame(history.history).plot()\n",
        "plt.ylabel(\"loss\")\n",
        "plt.xlabel(\"Epochs\")"
      ],
      "metadata": {
        "colab": {
          "base_uri": "https://localhost:8080/",
          "height": 466
        },
        "id": "6pE4O_Hbjhlf",
        "outputId": "2645e71f-1b11-4749-b153-1fd496005188"
      },
      "execution_count": null,
      "outputs": [
        {
          "output_type": "execute_result",
          "data": {
            "text/plain": [
              "Text(0.5, 0, 'Epochs')"
            ]
          },
          "metadata": {},
          "execution_count": 13
        },
        {
          "output_type": "display_data",
          "data": {
            "text/plain": [
              "<Figure size 640x480 with 1 Axes>"
            ],
            "image/png": "[encoded data removed]"
          },
          "metadata": {}
        }
      ]
    },
    {
      "cell_type": "markdown",
      "source": [
        "###Pre-processing(Normalization and Standardization)\n",
        "\n",
        "- The use of normalization is for making the range of different attributes the same\n",
        "(or to change the values in columns to a common scale)\n",
        "  - MinMaxScalar\n",
        "  - Standard Scalar"
      ],
      "metadata": {
        "id": "Hh7MgntjnRR2"
      }
    },
    {
      "cell_type": "code",
      "source": [
        "X[\"age\"].plot(kind=\"hist\")"
      ],
      "metadata": {
        "colab": {
          "base_uri": "https://localhost:8080/",
          "height": 447
        },
        "id": "NF4vcLPsnFS4",
        "outputId": "2320c359-3c44-4649-d1d7-a1bbb410c68d"
      },
      "execution_count": null,
      "outputs": [
        {
          "output_type": "execute_result",
          "data": {
            "text/plain": [
              "<Axes: ylabel='Frequency'>"
            ]
          },
          "metadata": {},
          "execution_count": 14
        },
        {
          "output_type": "display_data",
          "data": {
            "text/plain": [
              "<Figure size 640x480 with 1 Axes>"
            ],
            "image/png": "[encoded data removed]"
          },
          "metadata": {}
        }
      ]
    },
    {
      "cell_type": "code",
      "source": [
        "X[\"bmi\"].plot(kind=\"hist\")"
      ],
      "metadata": {
        "colab": {
          "base_uri": "https://localhost:8080/",
          "height": 447
        },
        "id": "x2lH7UvRnxJq",
        "outputId": "c691518f-72c5-45d1-87b5-af917087fe2a"
      },
      "execution_count": null,
      "outputs": [
        {
          "output_type": "execute_result",
          "data": {
            "text/plain": [
              "<Axes: ylabel='Frequency'>"
            ]
          },
          "metadata": {},
          "execution_count": 15
        },
        {
          "output_type": "display_data",
          "data": {
            "text/plain": [
              "<Figure size 640x480 with 1 Axes>"
            ],
            "image/png": "[encoded data removed]"
          },
          "metadata": {}
        }
      ]
    },
    {
      "cell_type": "markdown",
      "source": [
        "To prepare the data, we can borrow a few classes from Scikit-Learn"
      ],
      "metadata": {
        "id": "E_p5oWLkpWMQ"
      }
    },
    {
      "cell_type": "code",
      "source": [
        "from sklearn.compose import make_column_transformer\n",
        "from sklearn.preprocessing import MinMaxScaler, OneHotEncoder"
      ],
      "metadata": {
        "id": "ArdBZXCLoHgt"
      },
      "execution_count": null,
      "outputs": []
    },
    {
      "cell_type": "code",
      "source": [
        "#create a column transformer\n",
        "ct = make_column_transformer(\n",
        "    (MinMaxScaler(),[\"age\",\"bmi\",\"children\"]),\n",
        "    (OneHotEncoder(handle_unknown=\"ignore\"), [\"sex\",\"smoker\",\"region\"])\n",
        ")\n",
        "#create x and y\n",
        "X = insurance.drop(\"charges\",axis=1)\n",
        "y=insurance[\"charges\"]\n",
        "\n",
        "#Build the train and test sets\n",
        "X_train,X_test,y_train,y_test = train_test_split(X,y,test_size=0.2,random_state= 42)\n",
        "\n",
        "#fit the column transformer to the training data\n",
        "ct.fit(X_train)\n",
        "\n",
        "#Transform training and test data with normaliztion(Min max scaler) and Onehot encoder\n",
        "X_train_normal = ct.transform(X_train)\n",
        "X_test_normal = ct.transform(X_test)"
      ],
      "metadata": {
        "id": "LPzYIncdpsUO"
      },
      "execution_count": null,
      "outputs": []
    },
    {
      "cell_type": "code",
      "source": [
        "#how the data looks after normaliozation and encoding\n",
        "X_train.loc[0]"
      ],
      "metadata": {
        "colab": {
          "base_uri": "https://localhost:8080/"
        },
        "id": "HJto5D2ILFWG",
        "outputId": "831f6831-74cd-4e2d-eee8-b45ebcc3a553"
      },
      "execution_count": null,
      "outputs": [
        {
          "output_type": "execute_result",
          "data": {
            "text/plain": [
              "age                19\n",
              "sex            female\n",
              "bmi              27.9\n",
              "children            0\n",
              "smoker            yes\n",
              "region      southwest\n",
              "Name: 0, dtype: object"
            ]
          },
          "metadata": {},
          "execution_count": 20
        }
      ]
    },
    {
      "cell_type": "code",
      "source": [
        "X_train_normal[0]"
      ],
      "metadata": {
        "colab": {
          "base_uri": "https://localhost:8080/"
        },
        "id": "xwcDmqhLNBGs",
        "outputId": "b6a453dc-0f4b-443b-824a-66a8eaea97eb"
      },
      "execution_count": null,
      "outputs": [
        {
          "output_type": "execute_result",
          "data": {
            "text/plain": [
              "array([0.60869565, 0.10734463, 0.4       , 1.        , 0.        ,\n",
              "       1.        , 0.        , 0.        , 1.        , 0.        ,\n",
              "       0.        ])"
            ]
          },
          "metadata": {},
          "execution_count": 21
        }
      ]
    },
    {
      "cell_type": "code",
      "source": [
        "X_train.shape, X_train_normal.shape"
      ],
      "metadata": {
        "colab": {
          "base_uri": "https://localhost:8080/"
        },
        "id": "Gw3lL3iBNFOs",
        "outputId": "40f4944d-251b-4ba1-c309-50762f209207"
      },
      "execution_count": null,
      "outputs": [
        {
          "output_type": "execute_result",
          "data": {
            "text/plain": [
              "((1070, 6), (1070, 11))"
            ]
          },
          "metadata": {},
          "execution_count": 22
        }
      ]
    },
    {
      "cell_type": "code",
      "source": [
        "#Building a neural network model to fit the normalized data\n",
        "\n",
        "tf.random.set_seed(42)\n",
        "\n",
        "insurance_model_4 = tf.keras.Sequential([\n",
        "    tf.keras.layers.Dense(100),\n",
        "    tf.keras.layers.Dense(10),\n",
        "    tf.keras.layers.Dense(1)\n",
        "])\n",
        "\n",
        "#compile the model\n",
        "insurance_model_4.compile(loss=tf.keras.losses.mae,\n",
        "                          optimizer=tf.keras.optimizers.Adam(),\n",
        "                          metrics=[\"mae\"])\n",
        "\n",
        "#Fit the model\n",
        "insurance_model_4.fit(X_train_normal,y_train,epochs=100)"
      ],
      "metadata": {
        "colab": {
          "base_uri": "https://localhost:8080/"
        },
        "id": "kHnD_ngLNU0X",
        "outputId": "b8cfa55b-c120-4609-8765-ce08ed98e5f6"
      },
      "execution_count": null,
      "outputs": [
        {
          "output_type": "stream",
          "name": "stdout",
          "text": [
            "Epoch 1/100\n",
            "34/34 [==============================] - 2s 5ms/step - loss: 13343.7266 - mae: 13343.7266\n",
            "Epoch 2/100\n",
            "34/34 [==============================] - 0s 5ms/step - loss: 13335.0723 - mae: 13335.0723\n",
            "Epoch 3/100\n",
            "34/34 [==============================] - 0s 5ms/step - loss: 13313.5488 - mae: 13313.5488\n",
            "Epoch 4/100\n",
            "34/34 [==============================] - 0s 5ms/step - loss: 13268.6094 - mae: 13268.6094\n",
            "Epoch 5/100\n",
            "34/34 [==============================] - 0s 5ms/step - loss: 13188.9258 - mae: 13188.9258\n",
            "Epoch 6/100\n",
            "34/34 [==============================] - 0s 6ms/step - loss: 13063.6113 - mae: 13063.6113\n",
            "Epoch 7/100\n",
            "34/34 [==============================] - 0s 7ms/step - loss: 12882.6045 - mae: 12882.6045\n",
            "Epoch 8/100\n",
            "34/34 [==============================] - 0s 6ms/step - loss: 12635.8652 - mae: 12635.8652\n",
            "Epoch 9/100\n",
            "34/34 [==============================] - 0s 5ms/step - loss: 12313.1875 - mae: 12313.1875\n",
            "Epoch 10/100\n",
            "34/34 [==============================] - 0s 5ms/step - loss: 11910.4844 - mae: 11910.4844\n",
            "Epoch 11/100\n",
            "34/34 [==============================] - 0s 4ms/step - loss: 11436.9258 - mae: 11436.9258\n",
            "Epoch 12/100\n",
            "34/34 [==============================] - 0s 3ms/step - loss: 10931.8018 - mae: 10931.8018\n",
            "Epoch 13/100\n",
            "34/34 [==============================] - 0s 3ms/step - loss: 10431.8223 - mae: 10431.8223\n",
            "Epoch 14/100\n",
            "34/34 [==============================] - 0s 3ms/step - loss: 9939.0918 - mae: 9939.0918\n",
            "Epoch 15/100\n",
            "34/34 [==============================] - 0s 3ms/step - loss: 9473.3584 - mae: 9473.3584\n",
            "Epoch 16/100\n",
            "34/34 [==============================] - 0s 3ms/step - loss: 9059.0557 - mae: 9059.0557\n",
            "Epoch 17/100\n",
            "34/34 [==============================] - 0s 3ms/step - loss: 8716.5078 - mae: 8716.5078\n",
            "Epoch 18/100\n",
            "34/34 [==============================] - 0s 3ms/step - loss: 8437.7275 - mae: 8437.7275\n",
            "Epoch 19/100\n",
            "34/34 [==============================] - 0s 3ms/step - loss: 8226.5762 - mae: 8226.5762\n",
            "Epoch 20/100\n",
            "34/34 [==============================] - 0s 3ms/step - loss: 8082.4038 - mae: 8082.4038\n",
            "Epoch 21/100\n",
            "34/34 [==============================] - 0s 3ms/step - loss: 7975.2505 - mae: 7975.2505\n",
            "Epoch 22/100\n",
            "34/34 [==============================] - 0s 3ms/step - loss: 7900.8857 - mae: 7900.8857\n",
            "Epoch 23/100\n",
            "34/34 [==============================] - 0s 3ms/step - loss: 7841.9150 - mae: 7841.9150\n",
            "Epoch 24/100\n",
            "34/34 [==============================] - 0s 3ms/step - loss: 7789.2183 - mae: 7789.2183\n",
            "Epoch 25/100\n",
            "34/34 [==============================] - 0s 3ms/step - loss: 7750.3716 - mae: 7750.3716\n",
            "Epoch 26/100\n",
            "34/34 [==============================] - 0s 3ms/step - loss: 7698.7280 - mae: 7698.7280\n",
            "Epoch 27/100\n",
            "34/34 [==============================] - 0s 3ms/step - loss: 7656.6729 - mae: 7656.6729\n",
            "Epoch 28/100\n",
            "34/34 [==============================] - 0s 3ms/step - loss: 7613.9722 - mae: 7613.9722\n",
            "Epoch 29/100\n",
            "34/34 [==============================] - 0s 3ms/step - loss: 7571.3174 - mae: 7571.3174\n",
            "Epoch 30/100\n",
            "34/34 [==============================] - 0s 3ms/step - loss: 7527.5527 - mae: 7527.5527\n",
            "Epoch 31/100\n",
            "34/34 [==============================] - 0s 3ms/step - loss: 7483.4438 - mae: 7483.4438\n",
            "Epoch 32/100\n",
            "34/34 [==============================] - 0s 3ms/step - loss: 7439.0742 - mae: 7439.0742\n",
            "Epoch 33/100\n",
            "34/34 [==============================] - 0s 3ms/step - loss: 7394.3687 - mae: 7394.3687\n",
            "Epoch 34/100\n",
            "34/34 [==============================] - 0s 3ms/step - loss: 7345.8608 - mae: 7345.8608\n",
            "Epoch 35/100\n",
            "34/34 [==============================] - 0s 3ms/step - loss: 7298.6978 - mae: 7298.6978\n",
            "Epoch 36/100\n",
            "34/34 [==============================] - 0s 3ms/step - loss: 7248.2246 - mae: 7248.2246\n",
            "Epoch 37/100\n",
            "34/34 [==============================] - 0s 3ms/step - loss: 7197.4883 - mae: 7197.4883\n",
            "Epoch 38/100\n",
            "34/34 [==============================] - 0s 3ms/step - loss: 7146.1201 - mae: 7146.1201\n",
            "Epoch 39/100\n",
            "34/34 [==============================] - 0s 3ms/step - loss: 7090.9590 - mae: 7090.9590\n",
            "Epoch 40/100\n",
            "34/34 [==============================] - 0s 3ms/step - loss: 7035.1768 - mae: 7035.1768\n",
            "Epoch 41/100\n",
            "34/34 [==============================] - 0s 3ms/step - loss: 6978.3442 - mae: 6978.3442\n",
            "Epoch 42/100\n",
            "34/34 [==============================] - 0s 3ms/step - loss: 6919.1372 - mae: 6919.1372\n",
            "Epoch 43/100\n",
            "34/34 [==============================] - 0s 3ms/step - loss: 6856.0078 - mae: 6856.0078\n",
            "Epoch 44/100\n",
            "34/34 [==============================] - 0s 4ms/step - loss: 6789.2793 - mae: 6789.2793\n",
            "Epoch 45/100\n",
            "34/34 [==============================] - 0s 4ms/step - loss: 6721.6260 - mae: 6721.6260\n",
            "Epoch 46/100\n",
            "34/34 [==============================] - 0s 4ms/step - loss: 6652.1230 - mae: 6652.1230\n",
            "Epoch 47/100\n",
            "34/34 [==============================] - 0s 4ms/step - loss: 6580.1162 - mae: 6580.1162\n",
            "Epoch 48/100\n",
            "34/34 [==============================] - 0s 4ms/step - loss: 6500.7236 - mae: 6500.7236\n",
            "Epoch 49/100\n",
            "34/34 [==============================] - 0s 4ms/step - loss: 6420.9321 - mae: 6420.9321\n",
            "Epoch 50/100\n",
            "34/34 [==============================] - 0s 4ms/step - loss: 6334.5718 - mae: 6334.5713\n",
            "Epoch 51/100\n",
            "34/34 [==============================] - 0s 4ms/step - loss: 6249.1514 - mae: 6249.1514\n",
            "Epoch 52/100\n",
            "34/34 [==============================] - 0s 5ms/step - loss: 6155.2246 - mae: 6155.2246\n",
            "Epoch 53/100\n",
            "34/34 [==============================] - 0s 4ms/step - loss: 6058.3354 - mae: 6058.3354\n",
            "Epoch 54/100\n",
            "34/34 [==============================] - 0s 4ms/step - loss: 5958.8364 - mae: 5958.8364\n",
            "Epoch 55/100\n",
            "34/34 [==============================] - 0s 4ms/step - loss: 5850.4692 - mae: 5850.4692\n",
            "Epoch 56/100\n",
            "34/34 [==============================] - 0s 4ms/step - loss: 5741.0630 - mae: 5741.0630\n",
            "Epoch 57/100\n",
            "34/34 [==============================] - 0s 4ms/step - loss: 5624.6904 - mae: 5624.6904\n",
            "Epoch 58/100\n",
            "34/34 [==============================] - 0s 4ms/step - loss: 5506.7734 - mae: 5506.7734\n",
            "Epoch 59/100\n",
            "34/34 [==============================] - 0s 4ms/step - loss: 5387.4854 - mae: 5387.4854\n",
            "Epoch 60/100\n",
            "34/34 [==============================] - 0s 3ms/step - loss: 5262.6787 - mae: 5262.6787\n",
            "Epoch 61/100\n",
            "34/34 [==============================] - 0s 3ms/step - loss: 5134.9126 - mae: 5134.9126\n",
            "Epoch 62/100\n",
            "34/34 [==============================] - 0s 3ms/step - loss: 5003.5269 - mae: 5003.5269\n",
            "Epoch 63/100\n",
            "34/34 [==============================] - 0s 3ms/step - loss: 4873.5581 - mae: 4873.5581\n",
            "Epoch 64/100\n",
            "34/34 [==============================] - 0s 3ms/step - loss: 4740.2705 - mae: 4740.2705\n",
            "Epoch 65/100\n",
            "34/34 [==============================] - 0s 3ms/step - loss: 4613.5239 - mae: 4613.5239\n",
            "Epoch 66/100\n",
            "34/34 [==============================] - 0s 3ms/step - loss: 4489.8652 - mae: 4489.8652\n",
            "Epoch 67/100\n",
            "34/34 [==============================] - 0s 3ms/step - loss: 4381.4116 - mae: 4381.4116\n",
            "Epoch 68/100\n",
            "34/34 [==============================] - 0s 3ms/step - loss: 4274.8945 - mae: 4274.8945\n",
            "Epoch 69/100\n",
            "34/34 [==============================] - 0s 3ms/step - loss: 4174.1841 - mae: 4174.1841\n",
            "Epoch 70/100\n",
            "34/34 [==============================] - 0s 3ms/step - loss: 4082.7234 - mae: 4082.7234\n",
            "Epoch 71/100\n",
            "34/34 [==============================] - 0s 3ms/step - loss: 3998.4412 - mae: 3998.4412\n",
            "Epoch 72/100\n",
            "34/34 [==============================] - 0s 3ms/step - loss: 3925.4800 - mae: 3925.4800\n",
            "Epoch 73/100\n",
            "34/34 [==============================] - 0s 3ms/step - loss: 3863.6086 - mae: 3863.6086\n",
            "Epoch 74/100\n",
            "34/34 [==============================] - 0s 3ms/step - loss: 3811.3079 - mae: 3811.3079\n",
            "Epoch 75/100\n",
            "34/34 [==============================] - 0s 3ms/step - loss: 3771.8665 - mae: 3771.8665\n",
            "Epoch 76/100\n",
            "34/34 [==============================] - 0s 3ms/step - loss: 3743.0535 - mae: 3743.0535\n",
            "Epoch 77/100\n",
            "34/34 [==============================] - 0s 3ms/step - loss: 3718.5217 - mae: 3718.5217\n",
            "Epoch 78/100\n",
            "34/34 [==============================] - 0s 3ms/step - loss: 3702.6125 - mae: 3702.6125\n",
            "Epoch 79/100\n",
            "34/34 [==============================] - 0s 3ms/step - loss: 3690.9375 - mae: 3690.9375\n",
            "Epoch 80/100\n",
            "34/34 [==============================] - 0s 3ms/step - loss: 3682.2153 - mae: 3682.2153\n",
            "Epoch 81/100\n",
            "34/34 [==============================] - 0s 3ms/step - loss: 3676.1057 - mae: 3676.1057\n",
            "Epoch 82/100\n",
            "34/34 [==============================] - 0s 3ms/step - loss: 3673.2544 - mae: 3673.2544\n",
            "Epoch 83/100\n",
            "34/34 [==============================] - 0s 3ms/step - loss: 3667.0249 - mae: 3667.0249\n",
            "Epoch 84/100\n",
            "34/34 [==============================] - 0s 3ms/step - loss: 3663.9861 - mae: 3663.9861\n",
            "Epoch 85/100\n",
            "34/34 [==============================] - 0s 3ms/step - loss: 3661.4282 - mae: 3661.4282\n",
            "Epoch 86/100\n",
            "34/34 [==============================] - 0s 3ms/step - loss: 3659.8938 - mae: 3659.8938\n",
            "Epoch 87/100\n",
            "34/34 [==============================] - 0s 3ms/step - loss: 3657.1377 - mae: 3657.1377\n",
            "Epoch 88/100\n",
            "34/34 [==============================] - 0s 3ms/step - loss: 3654.4766 - mae: 3654.4766\n",
            "Epoch 89/100\n",
            "34/34 [==============================] - 0s 3ms/step - loss: 3653.2097 - mae: 3653.2097\n",
            "Epoch 90/100\n",
            "34/34 [==============================] - 0s 3ms/step - loss: 3651.4558 - mae: 3651.4558\n",
            "Epoch 91/100\n",
            "34/34 [==============================] - 0s 3ms/step - loss: 3648.3438 - mae: 3648.3438\n",
            "Epoch 92/100\n",
            "34/34 [==============================] - 0s 3ms/step - loss: 3647.7422 - mae: 3647.7422\n",
            "Epoch 93/100\n",
            "34/34 [==============================] - 0s 3ms/step - loss: 3645.4995 - mae: 3645.4995\n",
            "Epoch 94/100\n",
            "34/34 [==============================] - 0s 3ms/step - loss: 3643.7390 - mae: 3643.7390\n",
            "Epoch 95/100\n",
            "34/34 [==============================] - 0s 3ms/step - loss: 3644.5066 - mae: 3644.5066\n",
            "Epoch 96/100\n",
            "34/34 [==============================] - 0s 3ms/step - loss: 3641.7029 - mae: 3641.7029\n",
            "Epoch 97/100\n",
            "34/34 [==============================] - 0s 3ms/step - loss: 3639.2798 - mae: 3639.2798\n",
            "Epoch 98/100\n",
            "34/34 [==============================] - 0s 3ms/step - loss: 3637.1877 - mae: 3637.1877\n",
            "Epoch 99/100\n",
            "34/34 [==============================] - 0s 3ms/step - loss: 3636.6550 - mae: 3636.6550\n",
            "Epoch 100/100\n",
            "34/34 [==============================] - 0s 3ms/step - loss: 3634.9517 - mae: 3634.9517\n"
          ]
        },
        {
          "output_type": "execute_result",
          "data": {
            "text/plain": [
              "<keras.callbacks.History at 0x7f36b9694c70>"
            ]
          },
          "metadata": {},
          "execution_count": 23
        }
      ]
    },
    {
      "cell_type": "code",
      "source": [
        "insurance_model_4.evaluate(X_test_normal,y_test)"
      ],
      "metadata": {
        "colab": {
          "base_uri": "https://localhost:8080/"
        },
        "id": "dsLrH6MUOzby",
        "outputId": "cc0562f7-27ad-4895-9b33-024e0187b209"
      },
      "execution_count": null,
      "outputs": [
        {
          "output_type": "stream",
          "name": "stdout",
          "text": [
            "9/9 [==============================] - 0s 4ms/step - loss: 3438.2942 - mae: 3438.2942\n"
          ]
        },
        {
          "output_type": "execute_result",
          "data": {
            "text/plain": [
              "[3438.294189453125, 3438.294189453125]"
            ]
          },
          "metadata": {},
          "execution_count": 24
        }
      ]
    },
    {
      "cell_type": "code",
      "source": [],
      "metadata": {
        "id": "zC_i6PwUPBBc"
      },
      "execution_count": null,
      "outputs": []
    }
  ]
}