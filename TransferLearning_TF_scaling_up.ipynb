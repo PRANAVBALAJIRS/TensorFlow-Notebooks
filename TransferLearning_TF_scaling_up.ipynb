{
  "cells": [
    {
      "cell_type": "code",
      "execution_count": null,
      "metadata": {
        "colab": {
          "base_uri": "https://localhost:8080/"
        },
        "id": "KzZvZmfZaMyA",
        "outputId": "3b70a4d1-844f-43b8-a374-4fc830f43d33"
      },
      "outputs": [
        {
          "name": "stdout",
          "output_type": "stream",
          "text": [
            "/bin/bash: line 1: nvidia-smi: command not found\n"
          ]
        }
      ],
      "source": [
        "!nvidia-smi"
      ]
    },
    {
      "cell_type": "markdown",
      "metadata": {
        "id": "XtTja67IebRa"
      },
      "source": [
        "##Getting the Helper Functions"
      ]
    },
    {
      "cell_type": "code",
      "execution_count": null,
      "metadata": {
        "colab": {
          "base_uri": "https://localhost:8080/"
        },
        "id": "NOGVtMHOdlIw",
        "outputId": "95da778e-a328-42b0-93c5-0f0b15fff4bd"
      },
      "outputs": [
        {
          "name": "stdout",
          "output_type": "stream",
          "text": [
            "--2023-08-05 18:02:37--  https://raw.githubusercontent.com/mrdbourke/tensorflow-deep-learning/main/extras/helper_functions.py\n",
            "Resolving raw.githubusercontent.com (raw.githubusercontent.com)... 185.199.111.133, 185.199.110.133, 185.199.109.133, ...\n",
            "Connecting to raw.githubusercontent.com (raw.githubusercontent.com)|185.199.111.133|:443... connected.\n",
            "HTTP request sent, awaiting response... 200 OK\n",
            "Length: 10246 (10K) [text/plain]\n",
            "Saving to: ‘helper_functions.py.1’\n",
            "\n",
            "\rhelper_functions.py   0%[                    ]       0  --.-KB/s               \rhelper_functions.py 100%[===================>]  10.01K  --.-KB/s    in 0s      \n",
            "\n",
            "2023-08-05 18:02:37 (125 MB/s) - ‘helper_functions.py.1’ saved [10246/10246]\n",
            "\n"
          ]
        }
      ],
      "source": [
        "!wget https://raw.githubusercontent.com/mrdbourke/tensorflow-deep-learning/main/extras/helper_functions.py"
      ]
    },
    {
      "cell_type": "code",
      "execution_count": null,
      "metadata": {
        "id": "Z5V1mc7neka0"
      },
      "outputs": [],
      "source": [
        "#import functions from helper functions\n",
        "from helper_functions import create_tensorboard_callback, plot_loss_curves, unzip_data, compare_historys, walk_through_dir"
      ]
    },
    {
      "cell_type": "code",
      "execution_count": null,
      "metadata": {
        "colab": {
          "base_uri": "https://localhost:8080/"
        },
        "id": "7uKmqg5PfisK",
        "outputId": "5218e6ef-ea45-40a4-dc3d-d06086fbe552"
      },
      "outputs": [
        {
          "name": "stdout",
          "output_type": "stream",
          "text": [
            "--2023-08-05 18:02:37--  https://storage.googleapis.com/ztm_tf_course/food_vision/101_food_classes_10_percent.zip\n",
            "Resolving storage.googleapis.com (storage.googleapis.com)... 209.85.234.128, 142.251.172.128, 108.177.112.128, ...\n",
            "Connecting to storage.googleapis.com (storage.googleapis.com)|209.85.234.128|:443... connected.\n",
            "HTTP request sent, awaiting response... 200 OK\n",
            "Length: 1625420029 (1.5G) [application/zip]\n",
            "Saving to: ‘101_food_classes_10_percent.zip.1’\n",
            "\n",
            "101_food_classes_10 100%[===================>]   1.51G   146MB/s    in 12s     \n",
            "\n",
            "2023-08-05 18:02:49 (131 MB/s) - ‘101_food_classes_10_percent.zip.1’ saved [1625420029/1625420029]\n",
            "\n"
          ]
        }
      ],
      "source": [
        "!wget https://storage.googleapis.com/ztm_tf_course/food_vision/101_food_classes_10_percent.zip\n",
        "unzip_data(\"101_food_classes_10_percent.zip\")"
      ]
    },
    {
      "cell_type": "code",
      "execution_count": null,
      "metadata": {
        "id": "Rr3_hRIZg374"
      },
      "outputs": [],
      "source": [
        "train_dir = \"/content/101_food_classes_10_percent/train\"\n",
        "test_dir = \"/content/101_food_classes_10_percent/test\""
      ]
    },
    {
      "cell_type": "code",
      "execution_count": null,
      "metadata": {
        "colab": {
          "base_uri": "https://localhost:8080/"
        },
        "id": "BvzvgMexhMQN",
        "outputId": "dded91da-d1c5-4ee9-a339-b00dc80b7efc"
      },
      "outputs": [
        {
          "name": "stdout",
          "output_type": "stream",
          "text": [
            "There are 2 directories and 0 images in '/content/101_food_classes_10_percent'.\n",
            "There are 101 directories and 0 images in '/content/101_food_classes_10_percent/test'.\n",
            "There are 0 directories and 250 images in '/content/101_food_classes_10_percent/test/breakfast_burrito'.\n",
            "There are 0 directories and 250 images in '/content/101_food_classes_10_percent/test/samosa'.\n",
            "There are 0 directories and 250 images in '/content/101_food_classes_10_percent/test/cup_cakes'.\n",
            "There are 0 directories and 250 images in '/content/101_food_classes_10_percent/test/onion_rings'.\n",
            "There are 0 directories and 250 images in '/content/101_food_classes_10_percent/test/pork_chop'.\n",
            "There are 0 directories and 250 images in '/content/101_food_classes_10_percent/test/strawberry_shortcake'.\n",
            "There are 0 directories and 250 images in '/content/101_food_classes_10_percent/test/garlic_bread'.\n",
            "There are 0 directories and 250 images in '/content/101_food_classes_10_percent/test/deviled_eggs'.\n",
            "There are 0 directories and 250 images in '/content/101_food_classes_10_percent/test/paella'.\n",
            "There are 0 directories and 250 images in '/content/101_food_classes_10_percent/test/lobster_bisque'.\n",
            "There are 0 directories and 250 images in '/content/101_food_classes_10_percent/test/pancakes'.\n",
            "There are 0 directories and 250 images in '/content/101_food_classes_10_percent/test/tacos'.\n",
            "There are 0 directories and 250 images in '/content/101_food_classes_10_percent/test/miso_soup'.\n",
            "There are 0 directories and 250 images in '/content/101_food_classes_10_percent/test/sushi'.\n",
            "There are 0 directories and 250 images in '/content/101_food_classes_10_percent/test/escargots'.\n",
            "There are 0 directories and 250 images in '/content/101_food_classes_10_percent/test/ramen'.\n",
            "There are 0 directories and 250 images in '/content/101_food_classes_10_percent/test/steak'.\n",
            "There are 0 directories and 250 images in '/content/101_food_classes_10_percent/test/pulled_pork_sandwich'.\n",
            "There are 0 directories and 250 images in '/content/101_food_classes_10_percent/test/frozen_yogurt'.\n",
            "There are 0 directories and 250 images in '/content/101_food_classes_10_percent/test/red_velvet_cake'.\n",
            "There are 0 directories and 250 images in '/content/101_food_classes_10_percent/test/pho'.\n",
            "There are 0 directories and 250 images in '/content/101_food_classes_10_percent/test/omelette'.\n",
            "There are 0 directories and 250 images in '/content/101_food_classes_10_percent/test/french_fries'.\n",
            "There are 0 directories and 250 images in '/content/101_food_classes_10_percent/test/peking_duck'.\n",
            "There are 0 directories and 250 images in '/content/101_food_classes_10_percent/test/french_onion_soup'.\n",
            "There are 0 directories and 250 images in '/content/101_food_classes_10_percent/test/bibimbap'.\n",
            "There are 0 directories and 250 images in '/content/101_food_classes_10_percent/test/ravioli'.\n",
            "There are 0 directories and 250 images in '/content/101_food_classes_10_percent/test/prime_rib'.\n",
            "There are 0 directories and 250 images in '/content/101_food_classes_10_percent/test/fried_calamari'.\n",
            "There are 0 directories and 250 images in '/content/101_food_classes_10_percent/test/beignets'.\n",
            "There are 0 directories and 250 images in '/content/101_food_classes_10_percent/test/cheesecake'.\n",
            "There are 0 directories and 250 images in '/content/101_food_classes_10_percent/test/lobster_roll_sandwich'.\n",
            "There are 0 directories and 250 images in '/content/101_food_classes_10_percent/test/fried_rice'.\n",
            "There are 0 directories and 250 images in '/content/101_food_classes_10_percent/test/churros'.\n",
            "There are 0 directories and 250 images in '/content/101_food_classes_10_percent/test/club_sandwich'.\n",
            "There are 0 directories and 250 images in '/content/101_food_classes_10_percent/test/tiramisu'.\n",
            "There are 0 directories and 250 images in '/content/101_food_classes_10_percent/test/ceviche'.\n",
            "There are 0 directories and 250 images in '/content/101_food_classes_10_percent/test/spaghetti_carbonara'.\n",
            "There are 0 directories and 250 images in '/content/101_food_classes_10_percent/test/macaroni_and_cheese'.\n",
            "There are 0 directories and 250 images in '/content/101_food_classes_10_percent/test/hot_dog'.\n",
            "There are 0 directories and 250 images in '/content/101_food_classes_10_percent/test/beef_carpaccio'.\n",
            "There are 0 directories and 250 images in '/content/101_food_classes_10_percent/test/waffles'.\n",
            "There are 0 directories and 250 images in '/content/101_food_classes_10_percent/test/beet_salad'.\n",
            "There are 0 directories and 250 images in '/content/101_food_classes_10_percent/test/cheese_plate'.\n",
            "There are 0 directories and 250 images in '/content/101_food_classes_10_percent/test/baklava'.\n",
            "There are 0 directories and 250 images in '/content/101_food_classes_10_percent/test/caesar_salad'.\n",
            "There are 0 directories and 250 images in '/content/101_food_classes_10_percent/test/nachos'.\n",
            "There are 0 directories and 250 images in '/content/101_food_classes_10_percent/test/grilled_salmon'.\n",
            "There are 0 directories and 250 images in '/content/101_food_classes_10_percent/test/lasagna'.\n",
            "There are 0 directories and 250 images in '/content/101_food_classes_10_percent/test/greek_salad'.\n",
            "There are 0 directories and 250 images in '/content/101_food_classes_10_percent/test/gnocchi'.\n",
            "There are 0 directories and 250 images in '/content/101_food_classes_10_percent/test/panna_cotta'.\n",
            "There are 0 directories and 250 images in '/content/101_food_classes_10_percent/test/eggs_benedict'.\n",
            "There are 0 directories and 250 images in '/content/101_food_classes_10_percent/test/pizza'.\n",
            "There are 0 directories and 250 images in '/content/101_food_classes_10_percent/test/foie_gras'.\n",
            "There are 0 directories and 250 images in '/content/101_food_classes_10_percent/test/oysters'.\n",
            "There are 0 directories and 250 images in '/content/101_food_classes_10_percent/test/gyoza'.\n",
            "There are 0 directories and 250 images in '/content/101_food_classes_10_percent/test/scallops'.\n",
            "There are 0 directories and 250 images in '/content/101_food_classes_10_percent/test/seaweed_salad'.\n",
            "There are 0 directories and 250 images in '/content/101_food_classes_10_percent/test/beef_tartare'.\n",
            "There are 0 directories and 250 images in '/content/101_food_classes_10_percent/test/spaghetti_bolognese'.\n",
            "There are 0 directories and 250 images in '/content/101_food_classes_10_percent/test/cannoli'.\n",
            "There are 0 directories and 250 images in '/content/101_food_classes_10_percent/test/filet_mignon'.\n",
            "There are 0 directories and 250 images in '/content/101_food_classes_10_percent/test/edamame'.\n",
            "There are 0 directories and 250 images in '/content/101_food_classes_10_percent/test/huevos_rancheros'.\n",
            "There are 0 directories and 250 images in '/content/101_food_classes_10_percent/test/croque_madame'.\n",
            "There are 0 directories and 250 images in '/content/101_food_classes_10_percent/test/bruschetta'.\n",
            "There are 0 directories and 250 images in '/content/101_food_classes_10_percent/test/chicken_quesadilla'.\n",
            "There are 0 directories and 250 images in '/content/101_food_classes_10_percent/test/carrot_cake'.\n",
            "There are 0 directories and 250 images in '/content/101_food_classes_10_percent/test/pad_thai'.\n",
            "There are 0 directories and 250 images in '/content/101_food_classes_10_percent/test/crab_cakes'.\n",
            "There are 0 directories and 250 images in '/content/101_food_classes_10_percent/test/chocolate_mousse'.\n",
            "There are 0 directories and 250 images in '/content/101_food_classes_10_percent/test/caprese_salad'.\n",
            "There are 0 directories and 250 images in '/content/101_food_classes_10_percent/test/donuts'.\n",
            "There are 0 directories and 250 images in '/content/101_food_classes_10_percent/test/grilled_cheese_sandwich'.\n",
            "There are 0 directories and 250 images in '/content/101_food_classes_10_percent/test/creme_brulee'.\n",
            "There are 0 directories and 250 images in '/content/101_food_classes_10_percent/test/tuna_tartare'.\n",
            "There are 0 directories and 250 images in '/content/101_food_classes_10_percent/test/chicken_curry'.\n",
            "There are 0 directories and 250 images in '/content/101_food_classes_10_percent/test/baby_back_ribs'.\n",
            "There are 0 directories and 250 images in '/content/101_food_classes_10_percent/test/hamburger'.\n",
            "There are 0 directories and 250 images in '/content/101_food_classes_10_percent/test/falafel'.\n",
            "There are 0 directories and 250 images in '/content/101_food_classes_10_percent/test/mussels'.\n",
            "There are 0 directories and 250 images in '/content/101_food_classes_10_percent/test/chocolate_cake'.\n",
            "There are 0 directories and 250 images in '/content/101_food_classes_10_percent/test/hummus'.\n",
            "There are 0 directories and 250 images in '/content/101_food_classes_10_percent/test/french_toast'.\n",
            "There are 0 directories and 250 images in '/content/101_food_classes_10_percent/test/apple_pie'.\n",
            "There are 0 directories and 250 images in '/content/101_food_classes_10_percent/test/fish_and_chips'.\n",
            "There are 0 directories and 250 images in '/content/101_food_classes_10_percent/test/shrimp_and_grits'.\n",
            "There are 0 directories and 250 images in '/content/101_food_classes_10_percent/test/macarons'.\n",
            "There are 0 directories and 250 images in '/content/101_food_classes_10_percent/test/spring_rolls'.\n",
            "There are 0 directories and 250 images in '/content/101_food_classes_10_percent/test/bread_pudding'.\n",
            "There are 0 directories and 250 images in '/content/101_food_classes_10_percent/test/sashimi'.\n",
            "There are 0 directories and 250 images in '/content/101_food_classes_10_percent/test/poutine'.\n",
            "There are 0 directories and 250 images in '/content/101_food_classes_10_percent/test/takoyaki'.\n",
            "There are 0 directories and 250 images in '/content/101_food_classes_10_percent/test/hot_and_sour_soup'.\n",
            "There are 0 directories and 250 images in '/content/101_food_classes_10_percent/test/ice_cream'.\n",
            "There are 0 directories and 250 images in '/content/101_food_classes_10_percent/test/clam_chowder'.\n",
            "There are 0 directories and 250 images in '/content/101_food_classes_10_percent/test/dumplings'.\n",
            "There are 0 directories and 250 images in '/content/101_food_classes_10_percent/test/risotto'.\n",
            "There are 0 directories and 250 images in '/content/101_food_classes_10_percent/test/chicken_wings'.\n",
            "There are 0 directories and 250 images in '/content/101_food_classes_10_percent/test/guacamole'.\n",
            "There are 101 directories and 0 images in '/content/101_food_classes_10_percent/train'.\n",
            "There are 0 directories and 75 images in '/content/101_food_classes_10_percent/train/breakfast_burrito'.\n",
            "There are 0 directories and 75 images in '/content/101_food_classes_10_percent/train/samosa'.\n",
            "There are 0 directories and 75 images in '/content/101_food_classes_10_percent/train/cup_cakes'.\n",
            "There are 0 directories and 75 images in '/content/101_food_classes_10_percent/train/onion_rings'.\n",
            "There are 0 directories and 75 images in '/content/101_food_classes_10_percent/train/pork_chop'.\n",
            "There are 0 directories and 75 images in '/content/101_food_classes_10_percent/train/strawberry_shortcake'.\n",
            "There are 0 directories and 75 images in '/content/101_food_classes_10_percent/train/garlic_bread'.\n",
            "There are 0 directories and 75 images in '/content/101_food_classes_10_percent/train/deviled_eggs'.\n",
            "There are 0 directories and 75 images in '/content/101_food_classes_10_percent/train/paella'.\n",
            "There are 0 directories and 75 images in '/content/101_food_classes_10_percent/train/lobster_bisque'.\n",
            "There are 0 directories and 75 images in '/content/101_food_classes_10_percent/train/pancakes'.\n",
            "There are 0 directories and 75 images in '/content/101_food_classes_10_percent/train/tacos'.\n",
            "There are 0 directories and 75 images in '/content/101_food_classes_10_percent/train/miso_soup'.\n",
            "There are 0 directories and 75 images in '/content/101_food_classes_10_percent/train/sushi'.\n",
            "There are 0 directories and 75 images in '/content/101_food_classes_10_percent/train/escargots'.\n",
            "There are 0 directories and 75 images in '/content/101_food_classes_10_percent/train/ramen'.\n",
            "There are 0 directories and 75 images in '/content/101_food_classes_10_percent/train/steak'.\n",
            "There are 0 directories and 75 images in '/content/101_food_classes_10_percent/train/pulled_pork_sandwich'.\n",
            "There are 0 directories and 75 images in '/content/101_food_classes_10_percent/train/frozen_yogurt'.\n",
            "There are 0 directories and 75 images in '/content/101_food_classes_10_percent/train/red_velvet_cake'.\n",
            "There are 0 directories and 75 images in '/content/101_food_classes_10_percent/train/pho'.\n",
            "There are 0 directories and 75 images in '/content/101_food_classes_10_percent/train/omelette'.\n",
            "There are 0 directories and 75 images in '/content/101_food_classes_10_percent/train/french_fries'.\n",
            "There are 0 directories and 75 images in '/content/101_food_classes_10_percent/train/peking_duck'.\n",
            "There are 0 directories and 75 images in '/content/101_food_classes_10_percent/train/french_onion_soup'.\n",
            "There are 0 directories and 75 images in '/content/101_food_classes_10_percent/train/bibimbap'.\n",
            "There are 0 directories and 75 images in '/content/101_food_classes_10_percent/train/ravioli'.\n",
            "There are 0 directories and 75 images in '/content/101_food_classes_10_percent/train/prime_rib'.\n",
            "There are 0 directories and 75 images in '/content/101_food_classes_10_percent/train/fried_calamari'.\n",
            "There are 0 directories and 75 images in '/content/101_food_classes_10_percent/train/beignets'.\n",
            "There are 0 directories and 75 images in '/content/101_food_classes_10_percent/train/cheesecake'.\n",
            "There are 0 directories and 75 images in '/content/101_food_classes_10_percent/train/lobster_roll_sandwich'.\n",
            "There are 0 directories and 75 images in '/content/101_food_classes_10_percent/train/fried_rice'.\n",
            "There are 0 directories and 75 images in '/content/101_food_classes_10_percent/train/churros'.\n",
            "There are 0 directories and 75 images in '/content/101_food_classes_10_percent/train/club_sandwich'.\n",
            "There are 0 directories and 75 images in '/content/101_food_classes_10_percent/train/tiramisu'.\n",
            "There are 0 directories and 75 images in '/content/101_food_classes_10_percent/train/ceviche'.\n",
            "There are 0 directories and 75 images in '/content/101_food_classes_10_percent/train/spaghetti_carbonara'.\n",
            "There are 0 directories and 75 images in '/content/101_food_classes_10_percent/train/macaroni_and_cheese'.\n",
            "There are 0 directories and 75 images in '/content/101_food_classes_10_percent/train/hot_dog'.\n",
            "There are 0 directories and 75 images in '/content/101_food_classes_10_percent/train/beef_carpaccio'.\n",
            "There are 0 directories and 75 images in '/content/101_food_classes_10_percent/train/waffles'.\n",
            "There are 0 directories and 75 images in '/content/101_food_classes_10_percent/train/beet_salad'.\n",
            "There are 0 directories and 75 images in '/content/101_food_classes_10_percent/train/cheese_plate'.\n",
            "There are 0 directories and 75 images in '/content/101_food_classes_10_percent/train/baklava'.\n",
            "There are 0 directories and 75 images in '/content/101_food_classes_10_percent/train/caesar_salad'.\n",
            "There are 0 directories and 75 images in '/content/101_food_classes_10_percent/train/nachos'.\n",
            "There are 0 directories and 75 images in '/content/101_food_classes_10_percent/train/grilled_salmon'.\n",
            "There are 0 directories and 75 images in '/content/101_food_classes_10_percent/train/lasagna'.\n",
            "There are 0 directories and 75 images in '/content/101_food_classes_10_percent/train/greek_salad'.\n",
            "There are 0 directories and 75 images in '/content/101_food_classes_10_percent/train/gnocchi'.\n",
            "There are 0 directories and 75 images in '/content/101_food_classes_10_percent/train/panna_cotta'.\n",
            "There are 0 directories and 75 images in '/content/101_food_classes_10_percent/train/eggs_benedict'.\n",
            "There are 0 directories and 75 images in '/content/101_food_classes_10_percent/train/pizza'.\n",
            "There are 0 directories and 75 images in '/content/101_food_classes_10_percent/train/foie_gras'.\n",
            "There are 0 directories and 75 images in '/content/101_food_classes_10_percent/train/oysters'.\n",
            "There are 0 directories and 75 images in '/content/101_food_classes_10_percent/train/gyoza'.\n",
            "There are 0 directories and 75 images in '/content/101_food_classes_10_percent/train/scallops'.\n",
            "There are 0 directories and 75 images in '/content/101_food_classes_10_percent/train/seaweed_salad'.\n",
            "There are 0 directories and 75 images in '/content/101_food_classes_10_percent/train/beef_tartare'.\n",
            "There are 0 directories and 75 images in '/content/101_food_classes_10_percent/train/spaghetti_bolognese'.\n",
            "There are 0 directories and 75 images in '/content/101_food_classes_10_percent/train/cannoli'.\n",
            "There are 0 directories and 75 images in '/content/101_food_classes_10_percent/train/filet_mignon'.\n",
            "There are 0 directories and 75 images in '/content/101_food_classes_10_percent/train/edamame'.\n",
            "There are 0 directories and 75 images in '/content/101_food_classes_10_percent/train/huevos_rancheros'.\n",
            "There are 0 directories and 75 images in '/content/101_food_classes_10_percent/train/croque_madame'.\n",
            "There are 0 directories and 75 images in '/content/101_food_classes_10_percent/train/bruschetta'.\n",
            "There are 0 directories and 75 images in '/content/101_food_classes_10_percent/train/chicken_quesadilla'.\n",
            "There are 0 directories and 75 images in '/content/101_food_classes_10_percent/train/carrot_cake'.\n",
            "There are 0 directories and 75 images in '/content/101_food_classes_10_percent/train/pad_thai'.\n",
            "There are 0 directories and 75 images in '/content/101_food_classes_10_percent/train/crab_cakes'.\n",
            "There are 0 directories and 75 images in '/content/101_food_classes_10_percent/train/chocolate_mousse'.\n",
            "There are 0 directories and 75 images in '/content/101_food_classes_10_percent/train/caprese_salad'.\n",
            "There are 0 directories and 75 images in '/content/101_food_classes_10_percent/train/donuts'.\n",
            "There are 0 directories and 75 images in '/content/101_food_classes_10_percent/train/grilled_cheese_sandwich'.\n",
            "There are 0 directories and 75 images in '/content/101_food_classes_10_percent/train/creme_brulee'.\n",
            "There are 0 directories and 75 images in '/content/101_food_classes_10_percent/train/tuna_tartare'.\n",
            "There are 0 directories and 75 images in '/content/101_food_classes_10_percent/train/chicken_curry'.\n",
            "There are 0 directories and 75 images in '/content/101_food_classes_10_percent/train/baby_back_ribs'.\n",
            "There are 0 directories and 75 images in '/content/101_food_classes_10_percent/train/hamburger'.\n",
            "There are 0 directories and 75 images in '/content/101_food_classes_10_percent/train/falafel'.\n",
            "There are 0 directories and 75 images in '/content/101_food_classes_10_percent/train/mussels'.\n",
            "There are 0 directories and 75 images in '/content/101_food_classes_10_percent/train/chocolate_cake'.\n",
            "There are 0 directories and 75 images in '/content/101_food_classes_10_percent/train/hummus'.\n",
            "There are 0 directories and 75 images in '/content/101_food_classes_10_percent/train/french_toast'.\n",
            "There are 0 directories and 75 images in '/content/101_food_classes_10_percent/train/apple_pie'.\n",
            "There are 0 directories and 75 images in '/content/101_food_classes_10_percent/train/fish_and_chips'.\n",
            "There are 0 directories and 75 images in '/content/101_food_classes_10_percent/train/shrimp_and_grits'.\n",
            "There are 0 directories and 75 images in '/content/101_food_classes_10_percent/train/macarons'.\n",
            "There are 0 directories and 75 images in '/content/101_food_classes_10_percent/train/spring_rolls'.\n",
            "There are 0 directories and 75 images in '/content/101_food_classes_10_percent/train/bread_pudding'.\n",
            "There are 0 directories and 75 images in '/content/101_food_classes_10_percent/train/sashimi'.\n",
            "There are 0 directories and 75 images in '/content/101_food_classes_10_percent/train/poutine'.\n",
            "There are 0 directories and 75 images in '/content/101_food_classes_10_percent/train/takoyaki'.\n",
            "There are 0 directories and 75 images in '/content/101_food_classes_10_percent/train/hot_and_sour_soup'.\n",
            "There are 0 directories and 75 images in '/content/101_food_classes_10_percent/train/ice_cream'.\n",
            "There are 0 directories and 75 images in '/content/101_food_classes_10_percent/train/clam_chowder'.\n",
            "There are 0 directories and 75 images in '/content/101_food_classes_10_percent/train/dumplings'.\n",
            "There are 0 directories and 75 images in '/content/101_food_classes_10_percent/train/risotto'.\n",
            "There are 0 directories and 75 images in '/content/101_food_classes_10_percent/train/chicken_wings'.\n",
            "There are 0 directories and 75 images in '/content/101_food_classes_10_percent/train/guacamole'.\n"
          ]
        }
      ],
      "source": [
        "walk_through_dir(\"/content/101_food_classes_10_percent\")"
      ]
    },
    {
      "cell_type": "code",
      "execution_count": null,
      "metadata": {
        "colab": {
          "base_uri": "https://localhost:8080/"
        },
        "id": "GQdr2TXlhe4Z",
        "outputId": "9ba9d8e7-7ec4-4a24-913e-5b8309e38f69"
      },
      "outputs": [
        {
          "name": "stdout",
          "output_type": "stream",
          "text": [
            "Found 7575 files belonging to 101 classes.\n",
            "Found 25250 files belonging to 101 classes.\n"
          ]
        }
      ],
      "source": [
        "#Setup the data inputs\n",
        "import tensorflow as tf\n",
        "IMG_SIZE=(224,224)\n",
        "train_data_all_10_percent = tf.keras.preprocessing.image_dataset_from_directory(train_dir,\n",
        "                                                                                label_mode=\"categorical\",\n",
        "                                                                                image_size=IMG_SIZE)\n",
        "test_data = tf.keras.preprocessing.image_dataset_from_directory(test_dir,\n",
        "                                                                label_mode=\"categorical\",\n",
        "                                                                image_size=IMG_SIZE,\n",
        "                                                                shuffle=False) # dont shuffle the test data for prediction analysis"
      ]
    },
    {
      "cell_type": "markdown",
      "metadata": {
        "id": "H46zNIYXj6Tr"
      },
      "source": [
        "STEPS:\n",
        " - create a ModelCheckpoint callback\n",
        " - create a data augmentation layer to build data augmentation right into the model\n",
        " - Build a headless (no top layers) Functional EfficientNetB0 backboned-model(create a very own output layer)\n",
        " - Compile the model\n",
        " - Feature extract for 5 full passes(5 epochs on the train dataset and validate on 15% of the test data to save the epoch time)\n"
      ]
    },
    {
      "cell_type": "code",
      "execution_count": null,
      "metadata": {
        "id": "4M-wP5Cri6bj"
      },
      "outputs": [],
      "source": [
        "#create a checkpoint callback\n",
        "checkpoint_path = \"101_classes_10_percent_data_model_checkpoint\"\n",
        "checkpoint_callback = tf.keras.callbacks.ModelCheckpoint(checkpoint_path,\n",
        "                                                         save_weights_only=True,\n",
        "                                                         monitor=\"val_accuracy\",\n",
        "                                                         save_best_only=True)\n",
        "#'Save_best_only=True' save the epoch with the highest validation_accuracy\n",
        "#'save_weights_only=True' save the weights only but if its set as False it saves the whole model which takes time"
      ]
    },
    {
      "cell_type": "code",
      "execution_count": null,
      "metadata": {
        "id": "rIsD4I1amXt_"
      },
      "outputs": [],
      "source": [
        "#create data augmentation layer to incorprate it right into the model\n",
        "from tensorflow.keras import layers\n",
        "from tensorflow.keras.layers.experimental import preprocessing\n",
        "from tensorflow.keras.models import Sequential\n",
        "\n",
        "#setup data augmentation\n",
        "data_augmentation = Sequential([\n",
        "    preprocessing.RandomFlip(\"horizontal\"),\n",
        "    preprocessing.RandomRotation(0.2),\n",
        "    preprocessing.RandomWidth(0.2),\n",
        "    preprocessing.RandomHeight(0.2),\n",
        "    preprocessing.RandomZoom(0.2),\n",
        "    #preprocessing.Rescale(1/255.)#Rescale inputs of images to between 0&1, required for models like ResNet50 but its already built in EffiecientNetB0\n",
        "],name=\"data_augmentation\")"
      ]
    },
    {
      "cell_type": "markdown",
      "metadata": {
        "id": "cJuSdw0Ov1F3"
      },
      "source": [
        "INPUTS --> DATA AUGMENTATION --> EFFICIENTNETB0 MODEL --> GLOBALAVGPOOL2D --> OUTPUTS"
      ]
    },
    {
      "cell_type": "code",
      "execution_count": null,
      "metadata": {
        "id": "dw8xDaNXq45K"
      },
      "outputs": [],
      "source": [
        "#setup the base model and freeze its layers (this will extract features)\n",
        "base_model = tf.keras.applications.EfficientNetB0(include_top=False)\n",
        "base_model.trainable=False #this will freeze all the patterns that the EfficientNetB0 has learned\n",
        "\n",
        "#setup model architecture with trainable top layers\n",
        "inputs = layers.Input(shape=(224,224,3), name=\"input_layer\")\n",
        "x = data_augmentation(inputs) #augment images(only happens during training phase)\n",
        "x = base_model(x,training=False) #put the base model in inference mode so weights whichneed to stay frozen, stay frozen\n",
        "x = layers.GlobalAveragePooling2D(name = \"gloabal_avg_pool_layer\")(x)\n",
        "outputs = layers.Dense(len(train_data_all_10_percent.class_names),activation=\"softmax\", name=\"output_layer\")(x)\n",
        "model = tf.keras.Model(inputs,outputs)"
      ]
    },
    {
      "cell_type": "code",
      "execution_count": null,
      "metadata": {
        "colab": {
          "base_uri": "https://localhost:8080/"
        },
        "id": "VwYGQmtfwYMu",
        "outputId": "eb4fdc8b-e750-4734-bd9c-a1bb8ba9a4b4"
      },
      "outputs": [
        {
          "name": "stdout",
          "output_type": "stream",
          "text": [
            "Model: \"model_1\"\n",
            "_________________________________________________________________\n",
            " Layer (type)                Output Shape              Param #   \n",
            "=================================================================\n",
            " input_layer (InputLayer)    [(None, 224, 224, 3)]     0         \n",
            "                                                                 \n",
            " data_augmentation (Sequenti  (None, None, None, 3)    0         \n",
            " al)                                                             \n",
            "                                                                 \n",
            " efficientnetb0 (Functional)  (None, None, None, 1280)  4049571  \n",
            "                                                                 \n",
            " gloabal_avg_pool_layer (Glo  (None, 1280)             0         \n",
            " balAveragePooling2D)                                            \n",
            "                                                                 \n",
            " output_layer (Dense)        (None, 101)               129381    \n",
            "                                                                 \n",
            "=================================================================\n",
            "Total params: 4,178,952\n",
            "Trainable params: 129,381\n",
            "Non-trainable params: 4,049,571\n",
            "_________________________________________________________________\n"
          ]
        }
      ],
      "source": [
        "model.summary()"
      ]
    },
    {
      "cell_type": "code",
      "execution_count": null,
      "metadata": {
        "colab": {
          "base_uri": "https://localhost:8080/"
        },
        "id": "M7JcfLO5wc0i",
        "outputId": "96acb7ec-2f8e-4e66-89f5-77cc0e024c5d"
      },
      "outputs": [
        {
          "name": "stdout",
          "output_type": "stream",
          "text": [
            "Epoch 1/5\n",
            "237/237 [==============================] - 545s 2s/step - loss: 3.3728 - accuracy: 0.2737 - val_loss: 2.3648 - val_accuracy: 0.5132\n",
            "Epoch 2/5\n",
            "237/237 [==============================] - 575s 2s/step - loss: 2.2040 - accuracy: 0.4948 - val_loss: 1.9320 - val_accuracy: 0.5519\n",
            "Epoch 3/5\n",
            "237/237 [==============================] - 576s 2s/step - loss: 1.8266 - accuracy: 0.5589 - val_loss: 1.7841 - val_accuracy: 0.5667\n",
            "Epoch 4/5\n",
            "237/237 [==============================] - 600s 3s/step - loss: 1.6034 - accuracy: 0.6135 - val_loss: 1.7123 - val_accuracy: 0.5694\n",
            "Epoch 5/5\n",
            "237/237 [==============================] - 588s 2s/step - loss: 1.4475 - accuracy: 0.6463 - val_loss: 1.7088 - val_accuracy: 0.5599\n"
          ]
        }
      ],
      "source": [
        "#compile\n",
        "model.compile(loss=\"categorical_crossentropy\",\n",
        "              optimizer=tf.keras.optimizers.Adam(),\n",
        "              metrics=[\"accuracy\"])\n",
        "\n",
        "#fit\n",
        "history_all_classes_10_percent = model.fit(train_data_all_10_percent,\n",
        "                                           epochs=5,\n",
        "                                           validation_data=test_data,\n",
        "                                           validation_steps=int(0.15*len(test_data)),\n",
        "                                           callbacks=(checkpoint_callback))"
      ]
    },
    {
      "cell_type": "code",
      "execution_count": null,
      "metadata": {
        "colab": {
          "background_save": true,
          "base_uri": "https://localhost:8080/"
        },
        "id": "srTHRdDmxuwq",
        "outputId": "31faa833-1c0d-48a8-9998-01005b50275c"
      },
      "outputs": [
        {
          "name": "stdout",
          "output_type": "stream",
          "text": [
            "790/790 [==============================] - 1172s 1s/step - loss: 1.5837 - accuracy: 0.5847\n"
          ]
        },
        {
          "data": {
            "text/plain": [
              "[1.5836917161941528, 0.5847128629684448]"
            ]
          },
          "execution_count": 27,
          "metadata": {},
          "output_type": "execute_result"
        }
      ],
      "source": [
        "feature_extraction_results = model.evaluate(test_data)\n",
        "feature_extraction_results"
      ]
    },
    {
      "cell_type": "code",
      "execution_count": null,
      "metadata": {
        "colab": {
          "background_save": true
        },
        "id": "mOT04DM81MQV",
        "outputId": "12fa2222-0f1a-4777-a5dc-fa6c959a7f2a"
      },
      "outputs": [
        {
          "data": {
            "image/png": "[encoded data removed]",
            "text/plain": [
              "<Figure size 640x480 with 1 Axes>"
            ]
          },
          "metadata": {},
          "output_type": "display_data"
        },
        {
          "data": {
            "image/png": "[encoded data removed]",
            "text/plain": [
              "<Figure size 640x480 with 1 Axes>"
            ]
          },
          "metadata": {},
          "output_type": "display_data"
        }
      ],
      "source": [
        "plot_loss_curves(history_all_classes_10_percent)\n",
        "# The validation loss must follow the training loss ideally for a good model\n",
        "# If the training loss is decreasing and val loss is not following it,\n",
        "# then it indicates overfitting."
      ]
    },
    {
      "cell_type": "markdown",
      "metadata": {
        "id": "lnJEPBie48SO"
      },
      "source": [
        "##Fine-tuning"
      ]
    },
    {
      "cell_type": "code",
      "execution_count": null,
      "metadata": {
        "colab": {
          "background_save": true
        },
        "id": "Vlw0rjdb3fXy"
      },
      "outputs": [],
      "source": [
        "#unfreeze all of the layers in the base model\n",
        "base_model.trainable = True\n",
        "\n",
        "#Refreeze every layer except the last 5\n",
        "for layer in base_model.layers[:-5]:\n",
        "  layer.trainable = False"
      ]
    },
    {
      "cell_type": "code",
      "execution_count": null,
      "metadata": {
        "colab": {
          "background_save": true
        },
        "id": "k6ONVEw36Pl0"
      },
      "outputs": [],
      "source": [
        "#Recompile model with lower learning rate(its typically best practise to lower the learning rate when fine-tuning)\n",
        "model.compile(loss=\"categorical_crossentropy\",\n",
        "              optimizer=tf.keras.optimizers.Adam(learning_rate=0.0001),\n",
        "              metrics=[\"accuracy\"])"
      ]
    },
    {
      "cell_type": "code",
      "execution_count": null,
      "metadata": {
        "colab": {
          "background_save": true
        },
        "id": "060SogNP64MZ",
        "outputId": "2ae00177-1016-4481-f9f1-f9b7d74a923c"
      },
      "outputs": [
        {
          "name": "stdout",
          "output_type": "stream",
          "text": [
            "input_layer True\n",
            "data_augmentation True\n",
            "efficientnetb0 True\n",
            "gloabal_avg_pool_layer True\n",
            "output_layer True\n"
          ]
        }
      ],
      "source": [
        "#what layers in the model are-trainable?\n",
        "for layer in model.layers:\n",
        "  print(layer.name, layer.trainable)"
      ]
    },
    {
      "cell_type": "code",
      "execution_count": null,
      "metadata": {
        "colab": {
          "background_save": true
        },
        "id": "RrOj9BDB7YSW",
        "outputId": "6a39f976-9f40-4b2f-bdc8-3da80b7c400b"
      },
      "outputs": [
        {
          "name": "stdout",
          "output_type": "stream",
          "text": [
            "0 input_2 False\n",
            "1 rescaling_2 False\n",
            "2 normalization_1 False\n",
            "3 rescaling_3 False\n",
            "4 stem_conv_pad False\n",
            "5 stem_conv False\n",
            "6 stem_bn False\n",
            "7 stem_activation False\n",
            "8 block1a_dwconv False\n",
            "9 block1a_bn False\n",
            "10 block1a_activation False\n",
            "11 block1a_se_squeeze False\n",
            "12 block1a_se_reshape False\n",
            "13 block1a_se_reduce False\n",
            "14 block1a_se_expand False\n",
            "15 block1a_se_excite False\n",
            "16 block1a_project_conv False\n",
            "17 block1a_project_bn False\n",
            "18 block2a_expand_conv False\n",
            "19 block2a_expand_bn False\n",
            "20 block2a_expand_activation False\n",
            "21 block2a_dwconv_pad False\n",
            "22 block2a_dwconv False\n",
            "23 block2a_bn False\n",
            "24 block2a_activation False\n",
            "25 block2a_se_squeeze False\n",
            "26 block2a_se_reshape False\n",
            "27 block2a_se_reduce False\n",
            "28 block2a_se_expand False\n",
            "29 block2a_se_excite False\n",
            "30 block2a_project_conv False\n",
            "31 block2a_project_bn False\n",
            "32 block2b_expand_conv False\n",
            "33 block2b_expand_bn False\n",
            "34 block2b_expand_activation False\n",
            "35 block2b_dwconv False\n",
            "36 block2b_bn False\n",
            "37 block2b_activation False\n",
            "38 block2b_se_squeeze False\n",
            "39 block2b_se_reshape False\n",
            "40 block2b_se_reduce False\n",
            "41 block2b_se_expand False\n",
            "42 block2b_se_excite False\n",
            "43 block2b_project_conv False\n",
            "44 block2b_project_bn False\n",
            "45 block2b_drop False\n",
            "46 block2b_add False\n",
            "47 block3a_expand_conv False\n",
            "48 block3a_expand_bn False\n",
            "49 block3a_expand_activation False\n",
            "50 block3a_dwconv_pad False\n",
            "51 block3a_dwconv False\n",
            "52 block3a_bn False\n",
            "53 block3a_activation False\n",
            "54 block3a_se_squeeze False\n",
            "55 block3a_se_reshape False\n",
            "56 block3a_se_reduce False\n",
            "57 block3a_se_expand False\n",
            "58 block3a_se_excite False\n",
            "59 block3a_project_conv False\n",
            "60 block3a_project_bn False\n",
            "61 block3b_expand_conv False\n",
            "62 block3b_expand_bn False\n",
            "63 block3b_expand_activation False\n",
            "64 block3b_dwconv False\n",
            "65 block3b_bn False\n",
            "66 block3b_activation False\n",
            "67 block3b_se_squeeze False\n",
            "68 block3b_se_reshape False\n",
            "69 block3b_se_reduce False\n",
            "70 block3b_se_expand False\n",
            "71 block3b_se_excite False\n",
            "72 block3b_project_conv False\n",
            "73 block3b_project_bn False\n",
            "74 block3b_drop False\n",
            "75 block3b_add False\n",
            "76 block4a_expand_conv False\n",
            "77 block4a_expand_bn False\n",
            "78 block4a_expand_activation False\n",
            "79 block4a_dwconv_pad False\n",
            "80 block4a_dwconv False\n",
            "81 block4a_bn False\n",
            "82 block4a_activation False\n",
            "83 block4a_se_squeeze False\n",
            "84 block4a_se_reshape False\n",
            "85 block4a_se_reduce False\n",
            "86 block4a_se_expand False\n",
            "87 block4a_se_excite False\n",
            "88 block4a_project_conv False\n",
            "89 block4a_project_bn False\n",
            "90 block4b_expand_conv False\n",
            "91 block4b_expand_bn False\n",
            "92 block4b_expand_activation False\n",
            "93 block4b_dwconv False\n",
            "94 block4b_bn False\n",
            "95 block4b_activation False\n",
            "96 block4b_se_squeeze False\n",
            "97 block4b_se_reshape False\n",
            "98 block4b_se_reduce False\n",
            "99 block4b_se_expand False\n",
            "100 block4b_se_excite False\n",
            "101 block4b_project_conv False\n",
            "102 block4b_project_bn False\n",
            "103 block4b_drop False\n",
            "104 block4b_add False\n",
            "105 block4c_expand_conv False\n",
            "106 block4c_expand_bn False\n",
            "107 block4c_expand_activation False\n",
            "108 block4c_dwconv False\n",
            "109 block4c_bn False\n",
            "110 block4c_activation False\n",
            "111 block4c_se_squeeze False\n",
            "112 block4c_se_reshape False\n",
            "113 block4c_se_reduce False\n",
            "114 block4c_se_expand False\n",
            "115 block4c_se_excite False\n",
            "116 block4c_project_conv False\n",
            "117 block4c_project_bn False\n",
            "118 block4c_drop False\n",
            "119 block4c_add False\n",
            "120 block5a_expand_conv False\n",
            "121 block5a_expand_bn False\n",
            "122 block5a_expand_activation False\n",
            "123 block5a_dwconv False\n",
            "124 block5a_bn False\n",
            "125 block5a_activation False\n",
            "126 block5a_se_squeeze False\n",
            "127 block5a_se_reshape False\n",
            "128 block5a_se_reduce False\n",
            "129 block5a_se_expand False\n",
            "130 block5a_se_excite False\n",
            "131 block5a_project_conv False\n",
            "132 block5a_project_bn False\n",
            "133 block5b_expand_conv False\n",
            "134 block5b_expand_bn False\n",
            "135 block5b_expand_activation False\n",
            "136 block5b_dwconv False\n",
            "137 block5b_bn False\n",
            "138 block5b_activation False\n",
            "139 block5b_se_squeeze False\n",
            "140 block5b_se_reshape False\n",
            "141 block5b_se_reduce False\n",
            "142 block5b_se_expand False\n",
            "143 block5b_se_excite False\n",
            "144 block5b_project_conv False\n",
            "145 block5b_project_bn False\n",
            "146 block5b_drop False\n",
            "147 block5b_add False\n",
            "148 block5c_expand_conv False\n",
            "149 block5c_expand_bn False\n",
            "150 block5c_expand_activation False\n",
            "151 block5c_dwconv False\n",
            "152 block5c_bn False\n",
            "153 block5c_activation False\n",
            "154 block5c_se_squeeze False\n",
            "155 block5c_se_reshape False\n",
            "156 block5c_se_reduce False\n",
            "157 block5c_se_expand False\n",
            "158 block5c_se_excite False\n",
            "159 block5c_project_conv False\n",
            "160 block5c_project_bn False\n",
            "161 block5c_drop False\n",
            "162 block5c_add False\n",
            "163 block6a_expand_conv False\n",
            "164 block6a_expand_bn False\n",
            "165 block6a_expand_activation False\n",
            "166 block6a_dwconv_pad False\n",
            "167 block6a_dwconv False\n",
            "168 block6a_bn False\n",
            "169 block6a_activation False\n",
            "170 block6a_se_squeeze False\n",
            "171 block6a_se_reshape False\n",
            "172 block6a_se_reduce False\n",
            "173 block6a_se_expand False\n",
            "174 block6a_se_excite False\n",
            "175 block6a_project_conv False\n",
            "176 block6a_project_bn False\n",
            "177 block6b_expand_conv False\n",
            "178 block6b_expand_bn False\n",
            "179 block6b_expand_activation False\n",
            "180 block6b_dwconv False\n",
            "181 block6b_bn False\n",
            "182 block6b_activation False\n",
            "183 block6b_se_squeeze False\n",
            "184 block6b_se_reshape False\n",
            "185 block6b_se_reduce False\n",
            "186 block6b_se_expand False\n",
            "187 block6b_se_excite False\n",
            "188 block6b_project_conv False\n",
            "189 block6b_project_bn False\n",
            "190 block6b_drop False\n",
            "191 block6b_add False\n",
            "192 block6c_expand_conv False\n",
            "193 block6c_expand_bn False\n",
            "194 block6c_expand_activation False\n",
            "195 block6c_dwconv False\n",
            "196 block6c_bn False\n",
            "197 block6c_activation False\n",
            "198 block6c_se_squeeze False\n",
            "199 block6c_se_reshape False\n",
            "200 block6c_se_reduce False\n",
            "201 block6c_se_expand False\n",
            "202 block6c_se_excite False\n",
            "203 block6c_project_conv False\n",
            "204 block6c_project_bn False\n",
            "205 block6c_drop False\n",
            "206 block6c_add False\n",
            "207 block6d_expand_conv False\n",
            "208 block6d_expand_bn False\n",
            "209 block6d_expand_activation False\n",
            "210 block6d_dwconv False\n",
            "211 block6d_bn False\n",
            "212 block6d_activation False\n",
            "213 block6d_se_squeeze False\n",
            "214 block6d_se_reshape False\n",
            "215 block6d_se_reduce False\n",
            "216 block6d_se_expand False\n",
            "217 block6d_se_excite False\n",
            "218 block6d_project_conv False\n",
            "219 block6d_project_bn False\n",
            "220 block6d_drop False\n",
            "221 block6d_add False\n",
            "222 block7a_expand_conv False\n",
            "223 block7a_expand_bn False\n",
            "224 block7a_expand_activation False\n",
            "225 block7a_dwconv False\n",
            "226 block7a_bn False\n",
            "227 block7a_activation False\n",
            "228 block7a_se_squeeze False\n",
            "229 block7a_se_reshape False\n",
            "230 block7a_se_reduce False\n",
            "231 block7a_se_expand False\n",
            "232 block7a_se_excite False\n",
            "233 block7a_project_conv True\n",
            "234 block7a_project_bn True\n",
            "235 top_conv True\n",
            "236 top_bn True\n",
            "237 top_activation True\n"
          ]
        }
      ],
      "source": [
        "#check which layers are trainable in our base model\n",
        "for layer_number, layer in enumerate(model.layers[2].layers):\n",
        "  print(layer_number, layer.name, layer.trainable)"
      ]
    },
    {
      "cell_type": "code",
      "execution_count": null,
      "metadata": {
        "colab": {
          "background_save": true
        },
        "id": "5A_MmvoK72Az",
        "outputId": "c17e3cc9-4102-4994-c3f7-a02f09cd63a9"
      },
      "outputs": [
        {
          "name": "stdout",
          "output_type": "stream",
          "text": [
            "Epoch 5/10\n",
            "237/237 [==============================] - 589s 2s/step - loss: 1.2099 - accuracy: 0.6853 - val_loss: 1.6499 - val_accuracy: 0.5651\n",
            "Epoch 6/10\n",
            "237/237 [==============================] - 589s 2s/step - loss: 1.0971 - accuracy: 0.7086 - val_loss: 1.6625 - val_accuracy: 0.5657\n",
            "Epoch 7/10\n",
            "237/237 [==============================] - ETA: 0s - loss: 1.0130 - accuracy: 0.7265"
          ]
        }
      ],
      "source": [
        "#Fine tune for five more epoch\n",
        "fine_tune_epochs = 10 # model has already done 5 epochs(feature extraction), this is the total no of epochs we are after(5+5=10)\n",
        "\n",
        "#Fine-tune our model\n",
        "history_all_classes_10_percent_fine_tune = model.fit(train_data_all_10_percent,\n",
        "                                                     epochs = fine_tune_epochs,\n",
        "                                                     validation_data = test_data,\n",
        "                                                     validation_steps=int(0.15*len(test_data)),\n",
        "                                                     initial_epoch = history_all_classes_10_percent.epoch[-1])"
      ]
    },
    {
      "cell_type": "code",
      "execution_count": null,
      "metadata": {
        "id": "-NUF45D6LQGN"
      },
      "outputs": [],
      "source": [
        "#evaluate on the whole test data\n",
        "all_classes_10_percent_fine_tune_results = model.evaluate(test_data)\n",
        "all_classes_10_percent_fine_tune_results"
      ]
    },
    {
      "cell_type": "code",
      "execution_count": null,
      "metadata": {
        "id": "PfEyhp9_ObA0"
      },
      "outputs": [],
      "source": [
        "#compare the hostories of feature extraction model with fine-tuning\n",
        "compare_historys(original_history=history_all_classes_10_percent,\n",
        "                 new_history=history_all_classes_10_percent_fine_tune,\n",
        "                 initial_epochs=5)"
      ]
    },
    {
      "cell_type": "markdown",
      "metadata": {
        "id": "QcDjhT9IZkiY"
      },
      "source": [
        "##Saving and loading the model"
      ]
    },
    {
      "cell_type": "code",
      "execution_count": null,
      "metadata": {
        "id": "YcE2aaLLatgD"
      },
      "outputs": [],
      "source": [
        "#Save the fine tuning model\n",
        "#model.save(\"drive/MyDrive/Tensorflow/101_food_classes_10_percent_saved_big_dog_model\", save_format='tf')"
      ]
    },
    {
      "cell_type": "code",
      "execution_count": null,
      "metadata": {
        "id": "W4REDxDqY8LH"
      },
      "outputs": [],
      "source": [
        "#Load and evaluate saved model\n",
        "#loaded_model = tf.saved_model.load(\"drive/MyDrive/Tensorflow/101_food_classes_10_percent_saved_big_dog_model\")\n"
      ]
    },
    {
      "cell_type": "code",
      "execution_count": null,
      "metadata": {
        "id": "V-JST7znZUaN"
      },
      "outputs": [],
      "source": [
        "#Evaluate loaded model and compare the performance to pre-saved model\n",
        "#loaded_model_results = loaded_model.evaluate(test_data)\n",
        "#laoded_model_results"
      ]
    },
    {
      "cell_type": "markdown",
      "metadata": {
        "id": "CiA4lM6fcRjM"
      },
      "source": [
        "##Evaluating the performance of th big dog model across all the different classes"
      ]
    },
    {
      "cell_type": "code",
      "execution_count": null,
      "metadata": {
        "id": "I4RJJUWtZkKC"
      },
      "outputs": [],
      "source": [
        "import tensorflow as tf\n",
        "!wget https://storage.googleapis.com/ztm_tf_course/food_vision/06_101_food_class_10_percent_saved_big_dog_model.zip"
      ]
    },
    {
      "cell_type": "code",
      "execution_count": null,
      "metadata": {
        "id": "31CrIep4cfr6"
      },
      "outputs": [],
      "source": [
        "unzip_data(\"/content/06_101_food_class_10_percent_saved_big_dog_model.zip\")"
      ]
    },
    {
      "cell_type": "code",
      "execution_count": null,
      "metadata": {
        "id": "9hGb5bSHcsXO"
      },
      "outputs": [],
      "source": [
        "#Load in saved model\n",
        "model = tf.keras.models.load_model(\"/content/06_101_food_class_10_percent_saved_big_dog_model\")"
      ]
    },
    {
      "cell_type": "code",
      "execution_count": null,
      "metadata": {
        "id": "RhTyX7r7dKjP"
      },
      "outputs": [],
      "source": [
        "#Evaluate the loaded model (The one we just downloaded on the test data)\n",
        "results_downloaded_model = model.evaluate(test_data)\n",
        "results_downloaded_model"
      ]
    },
    {
      "cell_type": "markdown",
      "metadata": {
        "id": "87d3uErWfRv0"
      },
      "source": [
        "##Making predictions with our trained model"
      ]
    },
    {
      "cell_type": "code",
      "execution_count": null,
      "metadata": {
        "id": "zl0-mnyFe16P"
      },
      "outputs": [],
      "source": [
        "#make predictions with model\n",
        "preds_probs = model.predict(test_data, verbose=1) #set verobosity to see how long is left\n"
      ]
    },
    {
      "cell_type": "code",
      "execution_count": null,
      "metadata": {
        "id": "B-qgiwclfyw0"
      },
      "outputs": [],
      "source": [
        "len(preds_probs)"
      ]
    },
    {
      "cell_type": "code",
      "execution_count": null,
      "metadata": {
        "id": "GuARZu5KgJaV"
      },
      "outputs": [],
      "source": [
        "#whats the shape of the predictions\n",
        "preds_probs.shape"
      ]
    },
    {
      "cell_type": "code",
      "execution_count": null,
      "metadata": {
        "id": "NkEub16DgVz_"
      },
      "outputs": [],
      "source": [
        "#Lets see what the first ten predictions look like\n",
        "preds_probs[:10]"
      ]
    },
    {
      "cell_type": "code",
      "execution_count": null,
      "metadata": {
        "id": "je54y-JXg4uI"
      },
      "outputs": [],
      "source": [
        "#What does the first prediction probability array looks like?\n",
        "preds_probs[0], len(preds_probs[0]), sum(preds_probs[0])"
      ]
    },
    {
      "cell_type": "markdown",
      "metadata": {
        "id": "BTpqT8r2hqug"
      },
      "source": [
        "**Note:**Our model outputs a prediction probability array(with N number of variables, where N is the number of classes) for each sample passes to the predict method."
      ]
    },
    {
      "cell_type": "code",
      "execution_count": null,
      "metadata": {
        "id": "PB5blpx5hKBe"
      },
      "outputs": [],
      "source": [
        "#we get one prediction probability per class(in our case there is 101 prediction probabilities)\n",
        "print(f\"Number of prediction probabilities for sample 0: {len(preds_probs[0])}\")\n",
        "print(f\"What predictions probability sample 0 looks like:\\n {preds_probs[0]}\")\n",
        "print(f\"The class with the highest predicted probability for the sample 0: {preds_probs[0].argmax()}\")"
      ]
    },
    {
      "cell_type": "code",
      "execution_count": null,
      "metadata": {
        "id": "UjwZ4AE-jL6G"
      },
      "outputs": [],
      "source": [
        "#Get the predct classes of each label\n",
        "pred_classes = preds_probs.argmax(axis = 1)\n",
        "\n",
        "#how do they look\n",
        "pred_classes[:10]"
      ]
    },
    {
      "cell_type": "code",
      "execution_count": null,
      "metadata": {
        "id": "u0qXGsIFjZ3K"
      },
      "outputs": [],
      "source": [
        "#How many pred classes do we have\n",
        "len(pred_classes)"
      ]
    },
    {
      "cell_type": "markdown",
      "metadata": {
        "id": "pqfo4LZkkOih"
      },
      "source": [
        "Now we get a predictions array of all of our model's predictions, to evaluate them we need to compare them to the origibal test dataset labels"
      ]
    },
    {
      "cell_type": "code",
      "execution_count": null,
      "metadata": {
        "id": "n7AsJhvWkpiQ"
      },
      "outputs": [],
      "source": [
        "# To get our test labels we need to unravel our test_data BatchDataset\n",
        "y_labels = []\n",
        "for images, labels in test_data.unbatch():\n",
        "  y_labels.append(labels.numpy().argmax()) #currently test labels look like: [0,0,0,1.....0,0], we wnat the the index values where the \"1\" occurs\n",
        "y_labels[:10] #look at the first 10"
      ]
    },
    {
      "cell_type": "markdown",
      "metadata": {
        "id": "76gl2HKtobc1"
      },
      "source": [
        "##Evaluating our model's predictions\n",
        "One way to check our model's predictions array is in the same order as our test labels array is to find the accuracy score"
      ]
    },
    {
      "cell_type": "code",
      "execution_count": null,
      "metadata": {
        "id": "RS1nCJCTlCTF"
      },
      "outputs": [],
      "source": [
        "results_downloaded_model"
      ]
    },
    {
      "cell_type": "code",
      "execution_count": null,
      "metadata": {
        "id": "WV1rV5DSovNb"
      },
      "outputs": [],
      "source": [
        "#using skikit-learn accuracy\n",
        "from sklearn.metrics import accuracy_score\n",
        "sklearn_accuracy = accuracy_score(y_true = y_labels,\n",
        "                                  y_pred = pred_classes)\n",
        "sklearn_accuracy"
      ]
    },
    {
      "cell_type": "code",
      "execution_count": null,
      "metadata": {
        "id": "xf24_tGPvSut"
      },
      "outputs": [],
      "source": [
        "  #Does this metric come close to our model's evaluate results\n",
        "  import numpy as np\n",
        "  np.isclose(results_downloaded_model[1], sklearn_accuracy)"
      ]
    },
    {
      "cell_type": "markdown",
      "metadata": {
        "id": "uKMy7b4U1gnZ"
      },
      "source": [
        "##Making a confusion matrix"
      ]
    },
    {
      "cell_type": "code",
      "execution_count": null,
      "metadata": {
        "id": "l5Du_MP-1Ri0"
      },
      "outputs": [],
      "source": [
        "from helper_functions import make_confusion_matrix"
      ]
    },
    {
      "cell_type": "code",
      "execution_count": null,
      "metadata": {
        "id": "IyuKpYIL2ok2"
      },
      "outputs": [],
      "source": [
        "#Get the list of class names\n",
        "class_names = test_data.class_names\n",
        "class_names[:10]"
      ]
    },
    {
      "cell_type": "code",
      "execution_count": null,
      "metadata": {
        "id": "pOytjhnkUPsG"
      },
      "outputs": [],
      "source": [
        "import matplotlib.pyplot as plt"
      ]
    },
    {
      "cell_type": "code",
      "execution_count": null,
      "metadata": {
        "id": "JXwEFfZHTUCF"
      },
      "outputs": [],
      "source": [
        "import itertools\n",
        "import matplotlib.pyplot as plt\n",
        "import numpy as np\n",
        "from sklearn.metrics import confusion_matrix\n",
        "#we need to make some changes to the make_confusion_matrix function\n",
        "def make_confusion_matrix(y_true, y_pred, classes=None, figsize=(10, 10), text_size=15, norm=False, savefig=False):\n",
        "  \"\"\"Makes a labelled confusion matrix comparing predictions and ground truth labels.\n",
        "\n",
        "  If classes is passed, confusion matrix will be labelled, if not, integer class values\n",
        "  will be used.\n",
        "\n",
        "  Args:\n",
        "    y_true: Array of truth labels (must be same shape as y_pred).\n",
        "    y_pred: Array of predicted labels (must be same shape as y_true).\n",
        "    classes: Array of class labels (e.g. string form). If `None`, integer labels are used.\n",
        "    figsize: Size of output figure (default=(10, 10)).\n",
        "    text_size: Size of output figure text (default=15).\n",
        "    norm: normalize values or not (default=False).\n",
        "    savefig: save confusion matrix to file (default=False).\n",
        "\n",
        "  Returns:\n",
        "    A labelled confusion matrix plot comparing y_true and y_pred.\n",
        "\n",
        "  Example usage:\n",
        "    make_confusion_matrix(y_true=test_labels, # ground truth test labels\n",
        "                          y_pred=y_preds, # predicted labels\n",
        "                          classes=class_names, # array of class label names\n",
        "                          figsize=(15, 15),\n",
        "                          text_size=10)\n",
        "  \"\"\"\n",
        "  # Create the confustion matrix\n",
        "  cm = confusion_matrix(y_true, y_pred)\n",
        "  cm_norm = cm.astype(\"float\") / cm.sum(axis=1)[:, np.newaxis] # normalize it\n",
        "  n_classes = cm.shape[0] # find the number of classes we're dealing with\n",
        "\n",
        "  # Plot the figure and make it pretty\n",
        "  fig, ax = plt.subplots(figsize=figsize)\n",
        "  cax = ax.matshow(cm, cmap=plt.cm.Blues) # colors will represent how 'correct' a class is, darker == better\n",
        "  fig.colorbar(cax)\n",
        "\n",
        "  # Are there a list of classes?\n",
        "  if classes:\n",
        "    labels = classes\n",
        "  else:\n",
        "    labels = np.arange(cm.shape[0])\n",
        "\n",
        "  # Label the axes\n",
        "  ax.set(title=\"Confusion Matrix\",\n",
        "         xlabel=\"Predicted label\",\n",
        "         ylabel=\"True label\",\n",
        "         xticks=np.arange(n_classes), # create enough axis slots for each class\n",
        "         yticks=np.arange(n_classes),\n",
        "         xticklabels=labels, # axes will labeled with class names (if they exist) or ints\n",
        "         yticklabels=labels)\n",
        "\n",
        "  # Make x-axis labels appear on bottom\n",
        "  ax.xaxis.set_label_position(\"bottom\")\n",
        "  ax.xaxis.tick_bottom()\n",
        "\n",
        "  ### changed (plot x-labels vertically)\n",
        "  plt.xticks(rotation=70, fontsize=text_size)\n",
        "  plt.yticks(fontsize=text_size)\n",
        "\n",
        "  # Set the threshold for different colors\n",
        "  threshold = (cm.max() + cm.min()) / 2.\n",
        "\n",
        "  # Plot the text on each cell\n",
        "  for i, j in itertools.product(range(cm.shape[0]), range(cm.shape[1])):\n",
        "    if norm:\n",
        "      plt.text(j, i, f\"{cm[i, j]} ({cm_norm[i, j]*100:.1f}%)\",\n",
        "              horizontalalignment=\"center\",\n",
        "              color=\"white\" if cm[i, j] > threshold else \"black\",\n",
        "              size=text_size)\n",
        "    else:\n",
        "      plt.text(j, i, f\"{cm[i, j]}\",\n",
        "              horizontalalignment=\"center\",\n",
        "              color=\"white\" if cm[i, j] > threshold else \"black\",\n",
        "              size=text_size)\n",
        "\n",
        "  # Save the figure to the current working directory\n",
        "  if savefig:\n",
        "    fig.savefig(\"confusion_matrix.png\")\n"
      ]
    },
    {
      "cell_type": "code",
      "execution_count": null,
      "metadata": {
        "id": "mR3SmaIg3K18"
      },
      "outputs": [],
      "source": [
        "make_confusion_matrix(y_true = y_labels,\n",
        "                      y_pred = pred_classes,\n",
        "                      classes=class_names,\n",
        "                      figsize=(100,100),\n",
        "                      text_size=20,\n",
        "                      savefig=True)"
      ]
    },
    {
      "cell_type": "markdown",
      "metadata": {
        "id": "2P2inJSLajEr"
      },
      "source": [
        "##Classification Report"
      ]
    },
    {
      "cell_type": "code",
      "execution_count": null,
      "metadata": {
        "id": "IngfuXGu4rjZ"
      },
      "outputs": [],
      "source": [
        "from sklearn.metrics import classification_report\n",
        "print(classification_report(y_true=y_labels,\n",
        "                            y_pred=pred_classes))"
      ]
    },
    {
      "cell_type": "code",
      "execution_count": null,
      "metadata": {
        "id": "sdTLI5bNa0YB"
      },
      "outputs": [],
      "source": [
        "#Get the dictionary of the classification report\n",
        "classification_report_dict = classification_report(y_labels, pred_classes, output_dict = True)\n",
        "classification_report_dict"
      ]
    },
    {
      "cell_type": "code",
      "execution_count": null,
      "metadata": {
        "id": "RCt_H_Uifpky"
      },
      "outputs": [],
      "source": [
        "#create empty dictionary\n",
        "class_f1_scores = {}\n",
        "#Loop through classification report dictionary items\n",
        "for k, v in classification_report_dict.items():\n",
        "  if k == \"accuracy\": #stop once we get to accuracy key\n",
        "    break\n",
        "  else:\n",
        "    #Add class names and f1-scores to new dictionary\n",
        "    class_f1_scores[class_names[int(k)]] = v[\"f1-score\"]\n",
        "class_f1_scores"
      ]
    },
    {
      "cell_type": "code",
      "execution_count": null,
      "metadata": {
        "id": "bXdzLn5AhS4-"
      },
      "outputs": [],
      "source": [
        "#Turn f1-scores into dataframe for visualization\n",
        "import pandas as pd\n",
        "f1_scores = pd.DataFrame({\"class_names\": list(class_f1_scores.keys()),\n",
        "                          \"f1_scores\": list(class_f1_scores.values())}).sort_values(\"f1_scores\", ascending=False)"
      ]
    },
    {
      "cell_type": "code",
      "execution_count": null,
      "metadata": {
        "id": "y_YEP1kmmA_S"
      },
      "outputs": [],
      "source": [
        "f1_scores"
      ]
    },
    {
      "cell_type": "code",
      "execution_count": null,
      "metadata": {
        "id": "ANec0p-PmDNK"
      },
      "outputs": [],
      "source": []
    }
  ],
  "metadata": {
    "accelerator": "GPU",
    "colab": {
      "provenance": []
    },
    "kernelspec": {
      "display_name": "Python 3",
      "name": "python3"
    },
    "language_info": {
      "name": "python"
    }
  },
  "nbformat": 4,
  "nbformat_minor": 0
}